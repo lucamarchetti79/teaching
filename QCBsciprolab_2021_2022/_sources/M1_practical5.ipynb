{
 "cells": [
  {
   "cell_type": "markdown",
   "source": [
    "# Module 1, Practical 5\n",
    "\n",
    "In this practical we will add some information on loops and introduce dictionaries.\n",
    "\n",
    "## More on loops\n",
    "As seen in the previous practical and in the lecture, there are three different ways of execution flow:\n",
    "\n",
    "![i1](img/pract4/structured_programming.png)\n",
    "\n",
    "We have already seen the *if*, *for* and *while* loops and their variants. Please remember that the code block of each of these statements is defined by the *indentation* (i.e. spacing). \n",
    "\n",
    "\n",
    "### Ternary operator\n",
    "In some cases it is handy to be able to initialize a variable depending on the value of another one.\n",
    "\n",
    "**Example**:\n",
    "The discount rate applied to a purchase depends on the amount of the sale. Create a variable *discount* setting its value to 0 if the variable *amount* is lower than 100 euros, to 10% if it is higher."
   ],
   "metadata": {}
  },
  {
   "cell_type": "code",
   "execution_count": 1,
   "source": [
    "amount = 110\n",
    "discount = 0\n",
    "\n",
    "if amount >100:\n",
    "    discount = 0.1\n",
    "else:\n",
    "    discount = 0 # not necessary\n",
    "\n",
    "print(\"Total amount:\", amount, \"discount:\", discount)\n"
   ],
   "outputs": [
    {
     "output_type": "stream",
     "name": "stdout",
     "text": [
      "Total amount: 110 discount: 0.1\n"
     ]
    }
   ],
   "metadata": {}
  },
  {
   "cell_type": "markdown",
   "source": [
    "The previous code can be written more coincisely as:"
   ],
   "metadata": {}
  },
  {
   "cell_type": "code",
   "execution_count": 2,
   "source": [
    "amount = 110\n",
    "discount = 0.1 if amount > 100 else 0\n",
    "print(\"Total amount:\", amount, \"discount:\", discount)"
   ],
   "outputs": [
    {
     "output_type": "stream",
     "name": "stdout",
     "text": [
      "Total amount: 110 discount: 0.1\n"
     ]
    }
   ],
   "metadata": {}
  },
  {
   "cell_type": "markdown",
   "source": [
    "The basic syntax of the ternary operator is:"
   ],
   "metadata": {}
  },
  {
   "cell_type": "markdown",
   "source": [
    "```\n",
    "variable = value if condition else other_value\n",
    "```"
   ],
   "metadata": {}
  },
  {
   "cell_type": "markdown",
   "source": [
    "meaning that the *variable* is initialized to *value* if the *condition* holds, otherwise to *other_value*.\n",
    "\n",
    "Python also allows in line operations separated by a \";\". This is a compact way of specifying several instructions on a single line, but it makes the code more difficult to read."
   ],
   "metadata": {}
  },
  {
   "cell_type": "code",
   "execution_count": 3,
   "source": [
    "a = 10; b = a + 1; c = b +2\n",
    "print(a,b,c)"
   ],
   "outputs": [
    {
     "output_type": "stream",
     "name": "stdout",
     "text": [
      "10 11 13\n"
     ]
    }
   ],
   "metadata": {}
  },
  {
   "cell_type": "markdown",
   "source": [
    "<div class=\"alert alert-warning\">\n",
    "\n",
    "**Note:** Although the ternary operator and in line operations are sometimes useful and less verbose than the explicit definition, they are considered \"non-pythonic\" and advised against.\n",
    "\n",
    "</div>"
   ],
   "metadata": {}
  },
  {
   "cell_type": "markdown",
   "source": [
    "### Break and continue\n",
    "\n",
    "Sometimes it is useful to skip an entire iteration of a loop or end the loop before its supposed end.\n",
    "This can be achieved with two different statements:  **continue** and **break**.\n",
    "\n",
    "#### Continue statement\n",
    "Within a **for** or **while** loop, **continue** makes the interpreter skip that iteration and move on to the next. \n",
    "\n",
    "**Example:**\n",
    "Print all the odd numbers from 1 to 20."
   ],
   "metadata": {}
  },
  {
   "cell_type": "code",
   "execution_count": 4,
   "source": [
    "#Two equivalent ways\n",
    "#1. Testing remainder == 1\n",
    "for i in range(21):\n",
    "    if i % 2 == 1:\n",
    "        print(i, end = \" \")\n",
    "\n",
    "print(\"\")\n",
    "\n",
    "#2. Skipping if remainder == 0 in for\n",
    "for i in range(21):\n",
    "    if i % 2 == 0:\n",
    "        continue\n",
    "    print(i, end = \" \")"
   ],
   "outputs": [
    {
     "output_type": "stream",
     "name": "stdout",
     "text": [
      "1 3 5 7 9 11 13 15 17 19 \n",
      "1 3 5 7 9 11 13 15 17 19 "
     ]
    }
   ],
   "metadata": {}
  },
  {
   "cell_type": "markdown",
   "source": [
    "Continue can be used also within while loops but we need to be careful to update the value of the variable before reaching the continue statement or we will get stuck in never-ending loops.\n",
    "**Example:**\n",
    "Print all the odd numbers from 1 to 20."
   ],
   "metadata": {}
  },
  {
   "cell_type": "code",
   "execution_count": null,
   "source": [
    "#Wrong code:\n",
    "i = 0\n",
    "while i < 21:\n",
    "    if i % 2 == 0:\n",
    "        continue\n",
    "    print(i, end = \" \")\n",
    "    i = i + 1 # NEVER EXECUTED IF i % 2 == 0!!!!"
   ],
   "outputs": [],
   "metadata": {}
  },
  {
   "cell_type": "markdown",
   "source": [
    "a possible correct solution using while:"
   ],
   "metadata": {}
  },
  {
   "cell_type": "code",
   "execution_count": 5,
   "source": [
    "i = -1\n",
    "while i< 20:       #i is incremented in the loop, so 20!!!\n",
    "    i = i + 1        #the variable is updated no matter what\n",
    "    if i % 2 == 0:\n",
    "        continue\n",
    "    print(i, end = \" \")"
   ],
   "outputs": [
    {
     "output_type": "stream",
     "name": "stdout",
     "text": [
      "1 3 5 7 9 11 13 15 17 19 "
     ]
    }
   ],
   "metadata": {}
  },
  {
   "cell_type": "markdown",
   "source": [
    "#### Break statement\n",
    "Within a **for** or **while** loop, **break** makes the interpreter exit the loop and continue with the sequential execution. Sometimes it is useful to get out of the loop if to complete our task we do not need to get to the end of it.\n",
    "\n",
    "**Example:**\n",
    "Given the following list of integers [1,5,6,4,7,1,2,3,7] print them until a number already printed is found. "
   ],
   "metadata": {}
  },
  {
   "cell_type": "code",
   "execution_count": 6,
   "source": [
    "L = [1,5,6,4,7,1,2,3,7]\n",
    "found = []\n",
    "for i in L:\n",
    "    if i in found:\n",
    "        break\n",
    "        \n",
    "    found.append(i)\n",
    "    print(i, end = \" \")"
   ],
   "outputs": [
    {
     "output_type": "stream",
     "name": "stdout",
     "text": [
      "1 5 6 4 7 "
     ]
    }
   ],
   "metadata": {}
  },
  {
   "cell_type": "markdown",
   "source": [
    "**Example:**\n",
    "Pick a random number from 1 and 50 and count how many times it takes to randomly choose number 27. Limit the number of random picks to 40 (i.e. if more than 40 picks have been done and 27 has not been found exit anyway with a message)."
   ],
   "metadata": {}
  },
  {
   "cell_type": "code",
   "execution_count": 7,
   "source": [
    "import random\n",
    "\n",
    "iterations = 1\n",
    "picks = []\n",
    "while iterations <= 40:\n",
    "    pick = random.randint(1,50)\n",
    "    picks.append(pick)\n",
    "\n",
    "    if pick == 27:\n",
    "        break\n",
    "    iterations += 1   #equal to: iterations = iterations + 1 \n",
    "\n",
    "if iterations == 41:\n",
    "    print(\"Sorry number 27 was never found!\")\n",
    "else:\n",
    "    print(\"27 found in \", iterations, \"iterations\")\n",
    "\n",
    "print(picks)"
   ],
   "outputs": [
    {
     "output_type": "stream",
     "name": "stdout",
     "text": [
      "27 found in  9 iterations\n",
      "[9, 16, 8, 37, 42, 7, 14, 28, 27]\n"
     ]
    }
   ],
   "metadata": {}
  },
  {
   "cell_type": "markdown",
   "source": [
    "An alternative way without using the break statement makes use of a *flag* variable (that when changes value will make the loop end):"
   ],
   "metadata": {}
  },
  {
   "cell_type": "code",
   "execution_count": 8,
   "source": [
    "import random\n",
    "found = False # This is called flag\n",
    "iterations = 1\n",
    "picks = []\n",
    "while iterations <= 40 and found == False: #the flag is used to exit \n",
    "    pick = random.randint(1,50)\n",
    "    picks.append(pick)\n",
    "    if pick == 27:\n",
    "        found = True     #update the flag, will exit at next iteration\n",
    "    iterations += 1\n",
    "\n",
    "if iterations == 41 and not found:\n",
    "    print(\"Sorry number 27 was never found!\")\n",
    "else:\n",
    "    print(\"27 found in \", iterations -1, \"iterations\")\n",
    "    \n",
    "print(picks)"
   ],
   "outputs": [
    {
     "output_type": "stream",
     "name": "stdout",
     "text": [
      "Sorry number 27 was never found!\n",
      "[14, 32, 28, 25, 49, 28, 31, 6, 11, 17, 21, 13, 35, 15, 3, 30, 34, 19, 38, 20, 47, 38, 14, 42, 32, 19, 23, 49, 40, 21, 17, 35, 47, 1, 39, 41, 31, 33, 21, 35]\n"
     ]
    }
   ],
   "metadata": {}
  },
  {
   "cell_type": "markdown",
   "source": [
    "### List comprehension\n",
    "List comprehension is a quick way of creating a list. The resulting list is normally obtained by applying a function or a method to the elements of another list that **remains unchanged**.\n",
    "\n",
    "The basic syntax is:"
   ],
   "metadata": {}
  },
  {
   "cell_type": "markdown",
   "source": [
    "```\n",
    "new_list = [ some_function (x) for x in start_list]\n",
    "```\n",
    "or\n",
    "```\n",
    "new_list = [ x.some_method() for x in start_list]\n",
    "```"
   ],
   "metadata": {}
  },
  {
   "cell_type": "markdown",
   "source": [
    "List comprehension can also be used to filter elements of a list and produce another list as sublist of the first one (**remember that the original list is not changed**).\n",
    "\n",
    "In this case the syntax is:"
   ],
   "metadata": {}
  },
  {
   "cell_type": "markdown",
   "source": [
    "```\n",
    "new_list = [ some_function (x) for x in start_list if condition]\n",
    "```\n",
    "or\n",
    "```\n",
    "new_list = [ x.some_method() for x in start_list if condition]\n",
    "```"
   ],
   "metadata": {}
  },
  {
   "cell_type": "markdown",
   "source": [
    "where the element x in start_list becomes part of new_list if and only if the condition holds True.\n",
    "\n",
    "Let's see some examples:\n",
    "\n",
    "**Example:**\n",
    "Given a list of strings [\"hi\", \"there\", \"from\", \"python\"] create a list with the length of the corresponding element (i.e. the one with the same index)."
   ],
   "metadata": {}
  },
  {
   "cell_type": "code",
   "execution_count": 9,
   "source": [
    "elems = [\"hi\", \"there\", \"from\", \"python\"]\n",
    "\n",
    "newList = [len(x) for x in elems]\n",
    "\n",
    "for i in range(0,len(elems)):\n",
    "    print(elems[i], \" has length \", newList[i])"
   ],
   "outputs": [
    {
     "output_type": "stream",
     "name": "stdout",
     "text": [
      "hi  has length  2\n",
      "there  has length  5\n",
      "from  has length  4\n",
      "python  has length  6\n"
     ]
    }
   ],
   "metadata": {}
  },
  {
   "cell_type": "markdown",
   "source": [
    "**Example:**\n",
    "Given a list of strings [\"dog\", \"cat\", \"rabbit\", \"guinea pig\", \"hamster\", \"canary\", \"goldfish\"] create a list with the elements starting with a \"c\" or \"g\"."
   ],
   "metadata": {}
  },
  {
   "cell_type": "code",
   "execution_count": 10,
   "source": [
    "pets = [\"dog\", \"cat\", \"rabbit\", \"guinea pig\", \"hamster\", \"canary\", \"goldfish\"]\n",
    "\n",
    "cg_pets = [x for x in pets if x.startswith(\"c\") or x.startswith(\"g\")]\n",
    "\n",
    "print(\"Original:\")\n",
    "print(pets)\n",
    "print(\"Filtered:\")\n",
    "print(cg_pets)"
   ],
   "outputs": [
    {
     "output_type": "stream",
     "name": "stdout",
     "text": [
      "Original:\n",
      "['dog', 'cat', 'rabbit', 'guinea pig', 'hamster', 'canary', 'goldfish']\n",
      "Filtered:\n",
      "['cat', 'guinea pig', 'canary', 'goldfish']\n"
     ]
    }
   ],
   "metadata": {}
  },
  {
   "cell_type": "markdown",
   "source": [
    "**Example:**\n",
    "Create a list with all the numbers divisible by 17 from 1 to 200."
   ],
   "metadata": {}
  },
  {
   "cell_type": "code",
   "execution_count": 11,
   "source": [
    "values = [ x for x in range(1,200) if x % 17 == 0]\n",
    "print(values)"
   ],
   "outputs": [
    {
     "output_type": "stream",
     "name": "stdout",
     "text": [
      "[17, 34, 51, 68, 85, 102, 119, 136, 153, 170, 187]\n"
     ]
    }
   ],
   "metadata": {
    "scrolled": true
   }
  },
  {
   "cell_type": "markdown",
   "source": [
    "**Example:**\n",
    "Transpose the matrix $\\begin{bmatrix}1 & 10\\\\2 & 20\\\\3 & 30\\\\4 & 40\\end{bmatrix}$ stored as a list of lists (i.e. matrix = [[1, 10], [2,20], [3,30], [4,40]]). The output matrix should be: $\\begin{bmatrix}1 & 2 & 3 & 4\\\\10 & 20 & 30 & 40\\end{bmatrix}$, represented as [[1, 2, 3, 4], [10, 20, 30, 40]]  "
   ],
   "metadata": {}
  },
  {
   "cell_type": "code",
   "execution_count": 12,
   "source": [
    "matrix = [[1, 10], [2,20], [3,30], [4,40]]\n",
    "print(matrix)\n",
    "transpose = [[row[i] for row in matrix] for i in range(2)]\n",
    "print (transpose)"
   ],
   "outputs": [
    {
     "output_type": "stream",
     "name": "stdout",
     "text": [
      "[[1, 10], [2, 20], [3, 30], [4, 40]]\n",
      "[[1, 2, 3, 4], [10, 20, 30, 40]]\n"
     ]
    }
   ],
   "metadata": {}
  },
  {
   "cell_type": "markdown",
   "source": [
    "**Example:**\n",
    "Given the list: [\"Hotel\", \"Icon\",\" Bus\",\"Train\", \"Hotel\", \"Eye\", \"Rain\", \"Elephant\"] create a list with all the first letters."
   ],
   "metadata": {}
  },
  {
   "cell_type": "code",
   "execution_count": 13,
   "source": [
    "myList = [\"Hotel\", \"Icon\",\" Bus\",\"Train\", \"Hotel\", \"Eye\", \"Rain\", \"Elephant\"]\n",
    "initials = [x[0] for x in myList]\n",
    "\n",
    "print(myList)\n",
    "print(initials)\n",
    "print(\"\".join(initials))"
   ],
   "outputs": [
    {
     "output_type": "stream",
     "name": "stdout",
     "text": [
      "['Hotel', 'Icon', ' Bus', 'Train', 'Hotel', 'Eye', 'Rain', 'Elephant']\n",
      "['H', 'I', ' ', 'T', 'H', 'E', 'R', 'E']\n",
      "HI THERE\n"
     ]
    }
   ],
   "metadata": {}
  },
  {
   "cell_type": "markdown",
   "source": [
    "With list comprehension we can copy a list into another one, but this is a shallow copy:"
   ],
   "metadata": {}
  },
  {
   "cell_type": "code",
   "execution_count": 10,
   "source": [
    "a = [1,2,3]\n",
    "b = [a, [[a]]]\n",
    "print(\"B:\", b)\n",
    "c = [x for x in b]\n",
    "print(\"C:\", c)\n",
    "a.append(4)\n",
    "print(\"B now:\" , b)\n",
    "print(\"C now:\", c)"
   ],
   "outputs": [
    {
     "output_type": "stream",
     "name": "stdout",
     "text": [
      "B: [[1, 2, 3], [[[1, 2, 3]]]]\n",
      "C: [[1, 2, 3], [[[1, 2, 3]]]]\n",
      "B now: [[1, 2, 3, 4], [[[1, 2, 3, 4]]]]\n",
      "C now: [[1, 2, 3, 4], [[[1, 2, 3, 4]]]]\n"
     ]
    }
   ],
   "metadata": {}
  },
  {
   "cell_type": "markdown",
   "source": [
    "## Dictionaries\n",
    "\n",
    "A **dictionary** is a map between one object, the **key**, and another object, the **value**. Dictionaries are **mutable objects** and contain sequences of mappings *key* --> *object* but there is not specific ordering among them. \n",
    "Dictionaries are defined using the curly braces **{key1 : value1, key2 : value2}** and **:** to separate keys from values.\n",
    "\n",
    "Some examples on how to define dictionaries follow:"
   ],
   "metadata": {}
  },
  {
   "cell_type": "code",
   "execution_count": 14,
   "source": [
    "first_dict = {\"one\" : 1, \"two\": 2, \"three\" : 3, \"four\" : 4} \n",
    "print(\"First:\", first_dict)\n",
    "\n",
    "empty_dict = dict()\n",
    "print(\"Empty:\",empty_dict)\n",
    "\n",
    "second_dict = {1 : \"one\", 2 : \"two\", \"three\" :3 } #BAD IDEA BUT POSSIBLE!!!\n",
    "print(second_dict)\n",
    "\n",
    "third_dict = dict(zip([\"one\",\"two\",\"three\",\"four\"],[1,2,3,4]))\n",
    "print(third_dict)\n",
    "print(first_dict == third_dict)"
   ],
   "outputs": [
    {
     "output_type": "stream",
     "name": "stdout",
     "text": [
      "First: {'one': 1, 'two': 2, 'three': 3, 'four': 4}\n",
      "Empty: {}\n",
      "{1: 'one', 2: 'two', 'three': 3}\n",
      "{'one': 1, 'two': 2, 'three': 3, 'four': 4}\n",
      "True\n"
     ]
    }
   ],
   "metadata": {}
  },
  {
   "cell_type": "markdown",
   "source": [
    "Note that there is no ordering of the keys, and that the order in which they have been inserted is not preserved. Moreover, keys and values can be dishomogeneous (e.g. keys can be strings and values integers). \n",
    "An interesting case is *third_dict* where the function *zip* followed by *dict* is used to map the keys of the first list into the values present in the second.\n",
    "\n",
    "Note that keys can be **dishomogeneous**, even though this is a bad idea normally.  The only requirement for the **keys** is that they **must be immutable objects**. Trying to use a mutable object as a key will make the interpreter crash with the error: **unhashable type**. Finally, keys must be unique. We cannot associate more than one value to the same key."
   ],
   "metadata": {}
  },
  {
   "cell_type": "code",
   "execution_count": 15,
   "source": [
    "a = (1,2,3) #a,b are tuples: hence immutable\n",
    "b = (1,3,5)\n",
    "\n",
    "my_dict = {a : 6, b : 9 }\n",
    "print(my_dict)\n",
    "\n",
    "c = [1,2,3] #c,d are lists: hence mutable\n",
    "d = [1,3,5]\n",
    "\n",
    "dict2 = {c : 6, d : 9}\n",
    "print(dict2)"
   ],
   "outputs": [
    {
     "output_type": "stream",
     "name": "stdout",
     "text": [
      "{(1, 2, 3): 6, (1, 3, 5): 9}\n"
     ]
    },
    {
     "output_type": "error",
     "ename": "TypeError",
     "evalue": "unhashable type: 'list'",
     "traceback": [
      "\u001b[0;31m---------------------------------------------------------------------------\u001b[0m",
      "\u001b[0;31mTypeError\u001b[0m                                 Traceback (most recent call last)",
      "\u001b[0;32m<ipython-input-15-0fe98c7f5acd>\u001b[0m in \u001b[0;36m<module>\u001b[0;34m\u001b[0m\n\u001b[1;32m      8\u001b[0m \u001b[0md\u001b[0m \u001b[0;34m=\u001b[0m \u001b[0;34m[\u001b[0m\u001b[0;36m1\u001b[0m\u001b[0;34m,\u001b[0m\u001b[0;36m3\u001b[0m\u001b[0;34m,\u001b[0m\u001b[0;36m5\u001b[0m\u001b[0;34m]\u001b[0m\u001b[0;34m\u001b[0m\u001b[0;34m\u001b[0m\u001b[0m\n\u001b[1;32m      9\u001b[0m \u001b[0;34m\u001b[0m\u001b[0m\n\u001b[0;32m---> 10\u001b[0;31m \u001b[0mdict2\u001b[0m \u001b[0;34m=\u001b[0m \u001b[0;34m{\u001b[0m\u001b[0mc\u001b[0m \u001b[0;34m:\u001b[0m \u001b[0;36m6\u001b[0m\u001b[0;34m,\u001b[0m \u001b[0md\u001b[0m \u001b[0;34m:\u001b[0m \u001b[0;36m9\u001b[0m\u001b[0;34m}\u001b[0m\u001b[0;34m\u001b[0m\u001b[0;34m\u001b[0m\u001b[0m\n\u001b[0m\u001b[1;32m     11\u001b[0m \u001b[0mprint\u001b[0m\u001b[0;34m(\u001b[0m\u001b[0mdict2\u001b[0m\u001b[0;34m)\u001b[0m\u001b[0;34m\u001b[0m\u001b[0;34m\u001b[0m\u001b[0m\n",
      "\u001b[0;31mTypeError\u001b[0m: unhashable type: 'list'"
     ]
    }
   ],
   "metadata": {}
  },
  {
   "cell_type": "markdown",
   "source": [
    "### Functions working on dictionaries\n",
    "\n",
    "As for the other data types, python provides several operators that can be applied to dictionaries. The following operators are available and they basically work as in lists. The only exception being that the operator **in** checks whether the specified object is present among the **keys**.\n",
    "\n",
    "![i2](img/pract5/operators.png)\n",
    "\n",
    "Some usage examples follow:"
   ],
   "metadata": {}
  },
  {
   "cell_type": "code",
   "execution_count": 16,
   "source": [
    "myDict = {\"one\" : 1, \"two\" : 2, \"twentyfive\" : 25}\n",
    "\n",
    "print(myDict)\n",
    "myDict[\"ten\"] = 10\n",
    "myDict[\"twenty\"] = 20\n",
    "print(myDict)\n",
    "myDict[\"ten\"] = \"10-again\"\n",
    "print(myDict)\n",
    "print(\"The dictionary has \", len(myDict), \" elements\")\n",
    "print(\"The value of \\\"ten\\\" is:\", myDict[\"ten\"])\n",
    "print(\"The value of \\\"two\\\" is:\", myDict[\"two\"])\n",
    "\n",
    "print(\"Is \\\"twentyfive\\\" in dictionary?\", \"twentyfive\" in myDict)\n",
    "print(\"Is \\\"seven\\\" in dictionary?\", \"seven\" in myDict)"
   ],
   "outputs": [
    {
     "output_type": "stream",
     "name": "stdout",
     "text": [
      "{'one': 1, 'two': 2, 'twentyfive': 25}\n",
      "{'one': 1, 'two': 2, 'twentyfive': 25, 'ten': 10, 'twenty': 20}\n",
      "{'one': 1, 'two': 2, 'twentyfive': 25, 'ten': '10-again', 'twenty': 20}\n",
      "The dictionary has  5  elements\n",
      "The value of \"ten\" is: 10-again\n",
      "The value of \"two\" is: 2\n",
      "Is \"twentyfive\" in dictionary? True\n",
      "Is \"seven\" in dictionary? False\n"
     ]
    }
   ],
   "metadata": {}
  },
  {
   "cell_type": "markdown",
   "source": [
    "### Dictionary methods \n",
    "\n",
    "Recall what seen in the lecture, the following methods are available for dictionaries:\n",
    "\n",
    "![i3](img/pract5/methods.png)\n",
    "\n",
    "These methods are new to dictionaries and can be used to loop through the elements in them.\n",
    "\n",
    "<div class=\"alert alert-warning\">\n",
    "\n",
    "**ERRATUM:** ```dict.keys()``` returns a ```dict_keys``` object not a list. To cast it to list, we need to call ```list(dict.keys())```. The same applies to ```dict.values()``` that returns a ```dict_values``` object that needs conversion to a list with ```list(dict.values())```. \n",
    "\n",
    "</div>"
   ],
   "metadata": {}
  },
  {
   "cell_type": "code",
   "execution_count": 17,
   "source": [
    "D = {\"k1\" : 1, \"k2\" : 2 , \"k3\" : 3}\n",
    "\n",
    "print(\"keys:\" , D.keys(), \"values:\", D.values())\n",
    "print(\"\")\n",
    "print(\"keys:\", list(D.keys()), \"values:\", list(D.values()))\n"
   ],
   "outputs": [
    {
     "output_type": "stream",
     "name": "stdout",
     "text": [
      "keys: dict_keys(['k1', 'k2', 'k3']) values: dict_values([1, 2, 3])\n",
      "\n",
      "keys: ['k1', 'k2', 'k3'] values: [1, 2, 3]\n"
     ]
    }
   ],
   "metadata": {}
  },
  {
   "cell_type": "markdown",
   "source": [
    "**Example**\n",
    "Given the protein sequence below, store in a dictionary all the aminoacids present and count how many times they appear. Finally print out the stats (e.g. how many amino-acids are present, the most frequent, the least frequent and the frequency of all of them **in alphabetical order**)."
   ],
   "metadata": {}
  },
  {
   "cell_type": "markdown",
   "source": [
    "```\n",
    ">sp|P00517|KAPCA_BOVIN cAMP-dependent protein kinase catalytic subunit alpha\n",
    "MGNAAAAKKGSEQESVKEFLAKAKEDFLKKWENPAQNTAHLDQFERIKTLGTGSFGRVML\n",
    "VKHMETGNHYAMKILDKQKVVKLKQIEHTLNEKRILQAVNFPFLVKLEFSFKDNSNLYMV\n",
    "MEYVPGGEMFSHLRRIGRFSEPHARFYAAQIVLTFEYLHSLDLIYRDLKPENLLIDQQGY\n",
    "IQVTDFGFAKRVKGRTWTLCGTPEYLAPEIILSKGYNKAVDWWALGVLIYEMAAGYPPFF\n",
    "ADQPIQIYEKIVSGKVRFPSHFSSDLKDLLRNLLQVDLTKRFGNLKNGVNDIKNHKWFAT\n",
    "TDWIAIYQRKVEAPFIPKFKGPGDTSNFDDYEEEEIRVSINEKCGKEFSEF\n",
    "```"
   ],
   "metadata": {}
  },
  {
   "cell_type": "code",
   "execution_count": 1,
   "source": [
    "protein = \"\"\"MGNAAAAKKGSEQESVKEFLAKAKEDFLKKWENPAQNTAHLDQFERIKTLGTGSFGRVML\n",
    "VKHMETGNHYAMKILDKQKVVKLKQIEHTLNEKRILQAVNFPFLVKLEFSFKDNSNLYMV\n",
    "MEYVPGGEMFSHLRRIGRFSEPHARFYAAQIVLTFEYLHSLDLIYRDLKPENLLIDQQGY\n",
    "IQVTDFGFAKRVKGRTWTLCGTPEYLAPEIILSKGYNKAVDWWALGVLIYEMAAGYPPFF\n",
    "ADQPIQIYEKIVSGKVRFPSHFSSDLKDLLRNLLQVDLTKRFGNLKNGVNDIKNHKWFAT\n",
    "TDWIAIYQRKVEAPFIPKFKGPGDTSNFDDYEEEEIRVSINEKCGKEFSEF\"\"\"\n",
    "\n",
    "protein = protein.replace(\"\\n\",\"\")\n",
    "\n",
    "print(protein)\n",
    "\n",
    "amino_acids = dict()\n",
    "\n",
    "for a in protein:\n",
    "    if a in amino_acids:\n",
    "        amino_acids[a] = amino_acids[a] + 1 # amino_acids[a] += 1\n",
    "    else:\n",
    "        amino_acids[a] = 1\n",
    "\n",
    "\n",
    "num_aminos = len(amino_acids)\n",
    "\n",
    "print(\"The number of amino-acids present is \", num_aminos)\n",
    "#let's get all aminoacids\n",
    "#and sort them alphabetically\n",
    "a_keys = list(amino_acids.keys())\n",
    "\n",
    "a_keys.sort()\n",
    "\n",
    "# Another example of dictionaries\n",
    "mostF = {\"frequency\" : -1, \"aminoacid\" : \"-\"}\n",
    "leastF = {\"frequency\" : len(protein), \"aminoacid\" : \"-\"}\n",
    "\n",
    "for a in a_keys:\n",
    "    freq = amino_acids[a]\n",
    "    if(mostF[\"frequency\"] < freq):\n",
    "        mostF[\"frequency\"] = freq\n",
    "        mostF[\"aminoacid\"] = a\n",
    "        \n",
    "    if(leastF[\"frequency\"] > freq):\n",
    "        leastF[\"frequency\"] = freq\n",
    "        leastF[\"aminoacid\"] = a    \n",
    "    print(a, \" is present\", freq, \"times\")\n",
    "\n",
    "print(\"Amino\", leastF[\"aminoacid\"], \"has the lowest freq. (\",leastF[\"frequency\"],\")\")\n",
    "print(\"Amino\", mostF[\"aminoacid\"], \"has the highest freq. (\",mostF[\"frequency\"],\")\")"
   ],
   "outputs": [
    {
     "output_type": "stream",
     "name": "stdout",
     "text": [
      "MGNAAAAKKGSEQESVKEFLAKAKEDFLKKWENPAQNTAHLDQFERIKTLGTGSFGRVMLVKHMETGNHYAMKILDKQKVVKLKQIEHTLNEKRILQAVNFPFLVKLEFSFKDNSNLYMVMEYVPGGEMFSHLRRIGRFSEPHARFYAAQIVLTFEYLHSLDLIYRDLKPENLLIDQQGYIQVTDFGFAKRVKGRTWTLCGTPEYLAPEIILSKGYNKAVDWWALGVLIYEMAAGYPPFFADQPIQIYEKIVSGKVRFPSHFSSDLKDLLRNLLQVDLTKRFGNLKNGVNDIKNHKWFATTDWIAIYQRKVEAPFIPKFKGPGDTSNFDDYEEEEIRVSINEKCGKEFSEF\n",
      "The number of amino-acids present is  20\n",
      "A  is present 23 times\n",
      "C  is present 2 times\n",
      "D  is present 18 times\n",
      "E  is present 27 times\n",
      "F  is present 25 times\n",
      "G  is present 22 times\n",
      "H  is present 9 times\n",
      "I  is present 21 times\n",
      "K  is present 34 times\n",
      "L  is present 32 times\n",
      "M  is present 8 times\n",
      "N  is present 17 times\n",
      "P  is present 14 times\n",
      "Q  is present 14 times\n",
      "R  is present 15 times\n",
      "S  is present 16 times\n",
      "T  is present 14 times\n",
      "V  is present 20 times\n",
      "W  is present 6 times\n",
      "Y  is present 14 times\n",
      "Amino C has the lowest freq. ( 2 )\n",
      "Amino K has the highest freq. ( 34 )\n"
     ]
    }
   ],
   "metadata": {}
  },
  {
   "cell_type": "markdown",
   "source": [
    "**Important NOTE**. Accessing a value through the key of a dictionary requires that the pair key-value one searches for is present in the dictionary. If the searched key is not present the interpreter crashes out throwing a KeyError as follows:"
   ],
   "metadata": {}
  },
  {
   "cell_type": "code",
   "execution_count": 19,
   "source": [
    "myDict = {\"one\" : 1, \"two\" : 2, \"three\" : 3}\n",
    "\n",
    "print(myDict[\"one\"])\n",
    "print(myDict[\"seven\"])\n"
   ],
   "outputs": [
    {
     "output_type": "stream",
     "name": "stdout",
     "text": [
      "1\n"
     ]
    },
    {
     "output_type": "error",
     "ename": "KeyError",
     "evalue": "'seven'",
     "traceback": [
      "\u001b[0;31m---------------------------------------------------------------------------\u001b[0m",
      "\u001b[0;31mKeyError\u001b[0m                                  Traceback (most recent call last)",
      "\u001b[0;32m<ipython-input-19-a05b31e54a02>\u001b[0m in \u001b[0;36m<module>\u001b[0;34m\u001b[0m\n\u001b[1;32m      2\u001b[0m \u001b[0;34m\u001b[0m\u001b[0m\n\u001b[1;32m      3\u001b[0m \u001b[0mprint\u001b[0m\u001b[0;34m(\u001b[0m\u001b[0mmyDict\u001b[0m\u001b[0;34m[\u001b[0m\u001b[0;34m\"one\"\u001b[0m\u001b[0;34m]\u001b[0m\u001b[0;34m)\u001b[0m\u001b[0;34m\u001b[0m\u001b[0;34m\u001b[0m\u001b[0m\n\u001b[0;32m----> 4\u001b[0;31m \u001b[0mprint\u001b[0m\u001b[0;34m(\u001b[0m\u001b[0mmyDict\u001b[0m\u001b[0;34m[\u001b[0m\u001b[0;34m\"seven\"\u001b[0m\u001b[0;34m]\u001b[0m\u001b[0;34m)\u001b[0m\u001b[0;34m\u001b[0m\u001b[0;34m\u001b[0m\u001b[0m\n\u001b[0m",
      "\u001b[0;31mKeyError\u001b[0m: 'seven'"
     ]
    }
   ],
   "metadata": {}
  },
  {
   "cell_type": "markdown",
   "source": [
    "This could be avoided by checking that the key is present in the dictionary beforehand:"
   ],
   "metadata": {}
  },
  {
   "cell_type": "code",
   "execution_count": 20,
   "source": [
    "myDict = {\"one\" : 1, \"two\" : 2, \"three\" : 3}\n",
    "\n",
    "search_keys = [\"one\", \"seven\"]\n",
    "\n",
    "for s in search_keys:\n",
    "    if s in myDict:\n",
    "        print(\"key:\", s, \"value:\", myDict[s])\n",
    "    else:\n",
    "        print(\"key\", s, \"not found in dictionary\")\n",
    "        "
   ],
   "outputs": [
    {
     "output_type": "stream",
     "name": "stdout",
     "text": [
      "key: one value: 1\n",
      "key seven not found in dictionary\n"
     ]
    }
   ],
   "metadata": {}
  },
  {
   "cell_type": "markdown",
   "source": [
    "or by using the dictionary method **get** that has two inputs: the key and a default value to return in case key is not present in the dictionary:"
   ],
   "metadata": {}
  },
  {
   "cell_type": "code",
   "execution_count": 21,
   "source": [
    "myDict = {\"one\" : 1, \"two\" : 2, \"three\" : 3}\n",
    "\n",
    "search_keys = [\"one\", \"seven\"]\n",
    "\n",
    "for s in search_keys:\n",
    "    print(\"key:\", s, \"value:\", myDict.get(s, \"not found\"))"
   ],
   "outputs": [
    {
     "output_type": "stream",
     "name": "stdout",
     "text": [
      "key: one value: 1\n",
      "key: seven value: not found\n"
     ]
    }
   ],
   "metadata": {}
  },
  {
   "cell_type": "markdown",
   "source": [
    "## Exercises\n",
    "\n",
    "1. Given the following two lists of integers: \n",
    "[1, 13, 22, 7, 43, 81, 77, 12, 15,21, 84,100] and [44,32,7, 100, 81, 13, 1, 21, 71]:\n",
    "    1. Sort the two lists\n",
    "    2. Create a third list as intersection of the two lists (i.e. an element is in the intersection if it is present in both lists).  \n",
    "    3. Print the three lists.\n",
    "\n",
    "<div class=\"tggle\" onclick=\"toggleVisibility('ex1');\">Show/Hide Solution</div>\n",
    "<div id=\"ex1\" style=\"display:none;\">"
   ],
   "metadata": {}
  },
  {
   "cell_type": "code",
   "execution_count": 23,
   "source": [
    "\"\"\"First solution, prints multiple times repeated elements in L1\"\"\"\n",
    "\n",
    "L1 = [1, 13, 22, 7, 43, 81, 77, 12, 15,21, 84,100]\n",
    "L2 = [44,32,7, 100, 81, 13, 1, 21, 71]\n",
    "\n",
    "L1.sort()\n",
    "L2.sort()\n",
    "intersection = [x for x in L1 if x in L2]\n",
    "\n",
    "print(\"L1:    \", L1)\n",
    "print(\"L2:    \", L2)\n",
    "print(\"inters:\", intersection)\n",
    "\n",
    "L1 = [1, 9, 1, 7, 44, 9, 9, 9, 81, 77, 12, 15,21, 84,100]\n",
    "L2 = [44, 32, 21, 7, 100, 81, 13, 9, 1, 21, 71]\n",
    "\n",
    "print(\"\\n--------------------------\")\n",
    "L1.sort()\n",
    "L2.sort()\n",
    "intersection = [x for x in L1 if x in L2]\n",
    "print(\"L1:    \", L1)\n",
    "print(\"L2:    \", L2)\n",
    "print(\"inters:\", intersection)\n",
    "\n",
    "print(\"\\n\\n ------ Second solution --------\")\n",
    "\"\"\"Second solution, does not print multiple times repeated elements in L1\"\"\"\n",
    "print(\"L1:    \", L1)\n",
    "print(\"L2:    \", L2)\n",
    "\n",
    "intersection2 = [L1[x] for x in range(len(L1)) if L1[x] in L2 and L1[x] not in  L1[x+1:]]\n",
    "print(\"inters:\", intersection2)\n",
    "\n"
   ],
   "outputs": [
    {
     "output_type": "stream",
     "name": "stdout",
     "text": [
      "L1:     [1, 7, 12, 13, 15, 21, 22, 43, 77, 81, 84, 100]\n",
      "L2:     [1, 7, 13, 21, 32, 44, 71, 81, 100]\n",
      "inters: [1, 7, 13, 21, 81, 100]\n",
      "\n",
      "--------------------------\n",
      "L1:     [1, 1, 7, 9, 9, 9, 9, 12, 15, 21, 44, 77, 81, 84, 100]\n",
      "L2:     [1, 7, 9, 13, 21, 21, 32, 44, 71, 81, 100]\n",
      "inters: [1, 1, 7, 9, 9, 9, 9, 21, 44, 81, 100]\n",
      "\n",
      "\n",
      " ------ Second solution --------\n",
      "L1:     [1, 1, 7, 9, 9, 9, 9, 12, 15, 21, 44, 77, 81, 84, 100]\n",
      "L2:     [1, 7, 9, 13, 21, 21, 32, 44, 71, 81, 100]\n",
      "inters: [1, 7, 9, 21, 44, 81, 100]\n"
     ]
    }
   ],
   "metadata": {}
  },
  {
   "cell_type": "markdown",
   "source": [
    "</div>"
   ],
   "metadata": {}
  },
  {
   "cell_type": "markdown",
   "source": [
    "2. The sequence below is the Sars-Cov2 ORF1a polyprotein. \n",
    "     1. Count and print how many aminoacids it is composed of \n",
    "     2. Put in a dictionary all the indexes of the occurrences of the following four aminoacids: ```TTTL, GFAV, KMLL``` (i.e. the key of the dictionary is the sequence and the value is the list of all positions at which the four-mers appear).\n",
    "\n",
    "\n",
    "```\n",
    "ORF1a = \"\"\"MESLVPGFNEKTHVQLSLPVLQVRDVLVRGFGDSVEEVLSEARQHLKDGTCGLVEVEKGVLPQLEQPYVF\n",
    "IKRSDARTAPHGHVMVELVAELEGIQYGRSGETLGVLVPHVGEIPVAYRKVLLRKNGNKGAGGHSYGADL\n",
    "KSFDLGDELGTDPYEDFQENWNTKHSSGVTRELMRELNGGAYTRYVDNNFCGPDGYPLECIKDLLARAGK\n",
    "ASCTLSEQLDFIDTKRGVYCCREHEHEIAWYTERSEKSYELQTPFEIKLAKKFDTFNGECPNFVFPLNSI\n",
    "IKTIQPRVEKKKLDGFMGRIRSVYPVASPNECNQMCLSTLMKCDHCGETSWQTGDFVKATCEFCGTENLT\n",
    "KEGATTCGYLPQNAVVKIYCPACHNSEVGPEHSLAEYHNESGLKTILRKGGRTIAFGGCVFSYVGCHNKC\n",
    "AYWVPRASANIGCNHTGVVGEGSEGLNDNLLEILQKEKVNINIVGDFKLNEEIAIILASFSASTSAFVET\n",
    "VKGLDYKAFKQIVESCGNFKVTKGKAKKGAWNIGEQKSILSPLYAFASEAARVVRSIFSRTLETAQNSVR\n",
    "VLQKAAITILDGISQYSLRLIDAMMFTSDLATNNLVVMAYITGGVVQLTSQWLTNIFGTVYEKLKPVLDW\n",
    "LEEKFKEGVEFLRDGWEIVKFISTCACEIVGGQIVTCAKEIKESVQTFFKLVNKFLALCADSIIIGGAKL\n",
    "KALNLGETFVTHSKGLYRKCVKSREETGLLMPLKAPKEIIFLEGETLPTEVLTEEVVLKTGDLQPLEQPT\n",
    "SEAVEAPLVGTPVCINGLMLLEIKDTEKYCALAPNMMVTNNTFTLKGGAPTKVTFGDDTVIEVQGYKSVN\n",
    "ITFELDERIDKVLNEKCSAYTVELGTEVNEFACVVADAVIKTLQPVSELLTPLGIDLDEWSMATYYLFDE\n",
    "SGEFKLASHMYCSFYPPDEDEEEGDCEEEEFEPSTQYEYGTEDDYQGKPLEFGATSAALQPEEEQEEDWL\n",
    "DDDSQQTVGQQDGSEDNQTTTIQTIVEVQPQLEMELTPVVQTIEVNSFSGYLKLTDNVYIKNADIVEEAK\n",
    "KVKPTVVVNAANVYLKHGGGVAGALNKATNNAMQVESDDYIATNGPLKVGGSCVLSGHNLAKHCLHVVGP\n",
    "NVNKGEDIQLLKSAYENFNQHEVLLAPLLSAGIFGADPIHSLRVCVDTVRTNVYLAVFDKNLYDKLVSSF\n",
    "LEMKSEKQVEQKIAEIPKEEVKPFITESKPSVEQRKQDDKKIKACVEEVTTTLEETKFLTENLLLYIDIN\n",
    "GNLHPDSATLVSDIDITFLKKDAPYIVGDVVQEGVLTAVVIPTKKAGGTTEMLAKALRKVPTDNYITTYP\n",
    "GQGLNGYTVEEAKTVLKKCKSAFYILPSIISNEKQEILGTVSWNLREMLAHAEETRKLMPVCVETKAIVS\n",
    "TIQRKYKGIKIQEGVVDYGARFYFYTSKTTVASLINTLNDLNETLVTMPLGYVTHGLNLEEAARYMRSLK\n",
    "VPATVSVSSPDAVTAYNGYLTSSSKTPEEHFIETISLAGSYKDWSYSGQSTQLGIEFLKRGDKSVYYTSN\n",
    "PTTFHLDGEVITFDNLKTLLSLREVRTIKVFTTVDNINLHTQVVDMSMTYGQQFGPTYLDGADVTKIKPH\n",
    "NSHEGKTFYVLPNDDTLRVEAFEYYHTTDPSFLGRYMSALNHTKKWKYPQVNGLTSIKWADNNCYLATAL\n",
    "LTLQQIELKFNPPALQDAYYRARAGEAANFCALILAYCNKTVGELGDVRETMSYLFQHANLDSCKRVLNV\n",
    "VCKTCGQQQTTLKGVEAVMYMGTLSYEQFKKGVQIPCTCGKQATKYLVQQESPFVMMSAPPAQYELKHGT\n",
    "FTCASEYTGNYQCGHYKHITSKETLYCIDGALLTKSSEYKGPITDVFYKENSYTTTIKPVTYKLDGVVCT\n",
    "EIDPKLDNYYKKDNSYFTEQPIDLVPNQPYPNASFDNFKFVCDNIKFADDLNQLTGYKKPASRELKVTFF\n",
    "PDLNGDVVAIDYKHYTPSFKKGAKLLHKPIVWHVNNATNKATYKPNTWCIRCLWSTKPVETSNSFDVLKS\n",
    "EDAQGMDNLACEDLKPVSEEVVENPTIQKDVLECNVKTTEVVGDIILKPANNSLKIIEEVGHTDLMAAYV\n",
    "DNSSLTIKKPNELSRVLGLKTLATHGLAAVNSVPWDTIANYAKPFLNKVVSTTTNIVTRCLNRVCTNYMP\n",
    "YFFTLLLQLCTFTRSTNSRIKASMPTTIAKNTVKSVGKFCLEASFNYLKSPNFSKLINIIIWFLLLSVCL\n",
    "GSLIYSTAALGVLMSNLGMPSYCTGYREGYLNSTNVTIATYCTGSIPCSVCLSGLDSLDTYPSLETIQIT\n",
    "ISSFKWDLTAFGLVAEWFLAYILFTRFFYVLGLAAIMQLFFSYFAVHFISNSWLMWLIINLVQMAPISAM\n",
    "VRMYIFFASFYYVWKSYVHVVDGCNSSTCMMCYKRNRATRVECTTIVNGVRRSFYVYANGGKGFCKLHNW\n",
    "NCVNCDTFCAGSTFISDEVARDLSLQFKRPINPTDQSSYIVDSVTVKNGSIHLYFDKAGQKTYERHSLSH\n",
    "FVNLDNLRANNTKGSLPINVIVFDGKSKCEESSAKSASVYYSQLMCQPILLLDQALVSDVGDSAEVAVKM\n",
    "FDAYVNTFSSTFNVPMEKLKTLVATAEAELAKNVSLDNVLSTFISAARQGFVDSDVETKDVVECLKLSHQ\n",
    "SDIEVTGDSCNNYMLTYNKVENMTPRDLGACIDCSARHINAQVAKSHNIALIWNVKDFMSLSEQLRKQIR\n",
    "SAAKKNNLPFKLTCATTRQVVNVVTTKIALKGGKIVNNWLKQLIKVTLVFLFVAAIFYLITPVHVMSKHT\n",
    "DFSSEIIGYKAIDGGVTRDIASTDTCFANKHADFDTWFSQRGGSYTNDKACPLIAAVITREVGFVVPGLP\n",
    "GTILRTTNGDFLHFLPRVFSAVGNICYTPSKLIEYTDFATSACVLAAECTIFKDASGKPVPYCYDTNVLE\n",
    "GSVAYESLRPDTRYVLMDGSIIQFPNTYLEGSVRVVTTFDSEYCRHGTCERSEAGVCVSTSGRWVLNNDY\n",
    "YRSLPGVFCGVDAVNLLTNMFTPLIQPIGALDISASIVAGGIVAIVVTCLAYYFMRFRRAFGEYSHVVAF\n",
    "NTLLFLMSFTVLCLTPVYSFLPGVYSVIYLYLTFYLTNDVSFLAHIQWMVMFTPLVPFWITIAYIICIST\n",
    "KHFYWFFSNYLKRRVVFNGVSFSTFEEAALCTFLLNKEMYLKLRSDVLLPLTQYNRYLALYNKYKYFSGA\n",
    "MDTTSYREAACCHLAKALNDFSNSGSDVLYQPPQTSITSAVLQSGFRKMAFPSGKVEGCMVQVTCGTTTL\n",
    "NGLWLDDVVYCPRHVICTSEDMLNPNYEDLLIRKSNHNFLVQAGNVQLRVIGHSMQNCVLKLKVDTANPK\n",
    "TPKYKFVRIQPGQTFSVLACYNGSPSGVYQCAMRPNFTIKGSFLNGSCGSVGFNIDYDCVSFCYMHHMEL\n",
    "PTGVHAGTDLEGNFYGPFVDRQTAQAAGTDTTITVNVLAWLYAAVINGDRWFLNRFTTTLNDFNLVAMKY\n",
    "NYEPLTQDHVDILGPLSAQTGIAVLDMCASLKELLQNGMNGRTILGSALLEDEFTPFDVVRQCSGVTFQS\n",
    "AVKRTIKGTHHWLLLTILTSLLVLVQSTQWSLFFFLYENAFLPFAMGIIAMSAFAMMFVKHKHAFLCLFL\n",
    "LPSLATVAYFNMVYMPASWVMRIMTWLDMVDTSLSGFKLKDCVMYASAVVLLILMTARTVYDDGARRVWT\n",
    "LMNVLTLVYKVYYGNALDQAISMWALIISVTSNYSGVVTTVMFLARGIVFMCVEYCPIFFITGNTLQCIM\n",
    "LVYCFLGYFCTCYFGLFCLLNRYFRLTLGVYDYLVSTQEFRYMNSQGLLPPKNSIDAFKLNIKLLGVGGK\n",
    "PCIKVATVQSKMSDVKCTSVVLLSVLQQLRVESSSKLWAQCVQLHNDILLAKDTTEAFEKMVSLLSVLLS\n",
    "MQGAVDINKLCEEMLDNRATLQAIASEFSSLPSYAAFATAQEAYEQAVANGDSEVVLKKLKKSLNVAKSE\n",
    "FDRDAAMQRKLEKMADQAMTQMYKQARSEDKRAKVTSAMQTMLFTMLRKLDNDALNNIINNARDGCVPLN\n",
    "IIPLTTAAKLMVVIPDYNTYKNTCDGTTFTYASALWEIQQVVDADSKIVQLSEISMDNSPNLAWPLIVTA\n",
    "LRANSAVKLQNNELSPVALRQMSCAAGTTQTACTDDNALAYYNTTKGGRFVLALLSDLQDLKWARFPKSD\n",
    "GTGTIYTELEPPCRFVTDTPKGPKVKYLYFIKGLNNLNRGMVLGSLAATVRLQAGNATEVPANSTVLSFC\n",
    "AFAVDAAKAYKDYLASGGQPITNCVKMLCTHTGTGQAITVTPEANMDQESFGGASCCLYCRCHIDHPNPK\n",
    "GFCDLKGKYVQIPTTCANDPVGFTLKNTVCTVCGMWKGYGCSCDQLREPMLQSADAQSFLNGFAV\"\"\"\n",
    "```"
   ],
   "metadata": {}
  },
  {
   "cell_type": "markdown",
   "source": [
    "<div class=\"tggle\" onclick=\"toggleVisibility('ex2-sc2');\">Show/Hide Solution</div>\n",
    "<div id=\"ex2-sc2\" style=\"display:none;\">"
   ],
   "metadata": {}
  },
  {
   "cell_type": "code",
   "execution_count": 15,
   "source": [
    "ORF1a = \"\"\"MESLVPGFNEKTHVQLSLPVLQVRDVLVRGFGDSVEEVLSEARQHLKDGTCGLVEVEKGVLPQLEQPYVF\n",
    "IKRSDARTAPHGHVMVELVAELEGIQYGRSGETLGVLVPHVGEIPVAYRKVLLRKNGNKGAGGHSYGADL\n",
    "KSFDLGDELGTDPYEDFQENWNTKHSSGVTRELMRELNGGAYTRYVDNNFCGPDGYPLECIKDLLARAGK\n",
    "ASCTLSEQLDFIDTKRGVYCCREHEHEIAWYTERSEKSYELQTPFEIKLAKKFDTFNGECPNFVFPLNSI\n",
    "IKTIQPRVEKKKLDGFMGRIRSVYPVASPNECNQMCLSTLMKCDHCGETSWQTGDFVKATCEFCGTENLT\n",
    "KEGATTCGYLPQNAVVKIYCPACHNSEVGPEHSLAEYHNESGLKTILRKGGRTIAFGGCVFSYVGCHNKC\n",
    "AYWVPRASANIGCNHTGVVGEGSEGLNDNLLEILQKEKVNINIVGDFKLNEEIAIILASFSASTSAFVET\n",
    "VKGLDYKAFKQIVESCGNFKVTKGKAKKGAWNIGEQKSILSPLYAFASEAARVVRSIFSRTLETAQNSVR\n",
    "VLQKAAITILDGISQYSLRLIDAMMFTSDLATNNLVVMAYITGGVVQLTSQWLTNIFGTVYEKLKPVLDW\n",
    "LEEKFKEGVEFLRDGWEIVKFISTCACEIVGGQIVTCAKEIKESVQTFFKLVNKFLALCADSIIIGGAKL\n",
    "KALNLGETFVTHSKGLYRKCVKSREETGLLMPLKAPKEIIFLEGETLPTEVLTEEVVLKTGDLQPLEQPT\n",
    "SEAVEAPLVGTPVCINGLMLLEIKDTEKYCALAPNMMVTNNTFTLKGGAPTKVTFGDDTVIEVQGYKSVN\n",
    "ITFELDERIDKVLNEKCSAYTVELGTEVNEFACVVADAVIKTLQPVSELLTPLGIDLDEWSMATYYLFDE\n",
    "SGEFKLASHMYCSFYPPDEDEEEGDCEEEEFEPSTQYEYGTEDDYQGKPLEFGATSAALQPEEEQEEDWL\n",
    "DDDSQQTVGQQDGSEDNQTTTIQTIVEVQPQLEMELTPVVQTIEVNSFSGYLKLTDNVYIKNADIVEEAK\n",
    "KVKPTVVVNAANVYLKHGGGVAGALNKATNNAMQVESDDYIATNGPLKVGGSCVLSGHNLAKHCLHVVGP\n",
    "NVNKGEDIQLLKSAYENFNQHEVLLAPLLSAGIFGADPIHSLRVCVDTVRTNVYLAVFDKNLYDKLVSSF\n",
    "LEMKSEKQVEQKIAEIPKEEVKPFITESKPSVEQRKQDDKKIKACVEEVTTTLEETKFLTENLLLYIDIN\n",
    "GNLHPDSATLVSDIDITFLKKDAPYIVGDVVQEGVLTAVVIPTKKAGGTTEMLAKALRKVPTDNYITTYP\n",
    "GQGLNGYTVEEAKTVLKKCKSAFYILPSIISNEKQEILGTVSWNLREMLAHAEETRKLMPVCVETKAIVS\n",
    "TIQRKYKGIKIQEGVVDYGARFYFYTSKTTVASLINTLNDLNETLVTMPLGYVTHGLNLEEAARYMRSLK\n",
    "VPATVSVSSPDAVTAYNGYLTSSSKTPEEHFIETISLAGSYKDWSYSGQSTQLGIEFLKRGDKSVYYTSN\n",
    "PTTFHLDGEVITFDNLKTLLSLREVRTIKVFTTVDNINLHTQVVDMSMTYGQQFGPTYLDGADVTKIKPH\n",
    "NSHEGKTFYVLPNDDTLRVEAFEYYHTTDPSFLGRYMSALNHTKKWKYPQVNGLTSIKWADNNCYLATAL\n",
    "LTLQQIELKFNPPALQDAYYRARAGEAANFCALILAYCNKTVGELGDVRETMSYLFQHANLDSCKRVLNV\n",
    "VCKTCGQQQTTLKGVEAVMYMGTLSYEQFKKGVQIPCTCGKQATKYLVQQESPFVMMSAPPAQYELKHGT\n",
    "FTCASEYTGNYQCGHYKHITSKETLYCIDGALLTKSSEYKGPITDVFYKENSYTTTIKPVTYKLDGVVCT\n",
    "EIDPKLDNYYKKDNSYFTEQPIDLVPNQPYPNASFDNFKFVCDNIKFADDLNQLTGYKKPASRELKVTFF\n",
    "PDLNGDVVAIDYKHYTPSFKKGAKLLHKPIVWHVNNATNKATYKPNTWCIRCLWSTKPVETSNSFDVLKS\n",
    "EDAQGMDNLACEDLKPVSEEVVENPTIQKDVLECNVKTTEVVGDIILKPANNSLKIIEEVGHTDLMAAYV\n",
    "DNSSLTIKKPNELSRVLGLKTLATHGLAAVNSVPWDTIANYAKPFLNKVVSTTTNIVTRCLNRVCTNYMP\n",
    "YFFTLLLQLCTFTRSTNSRIKASMPTTIAKNTVKSVGKFCLEASFNYLKSPNFSKLINIIIWFLLLSVCL\n",
    "GSLIYSTAALGVLMSNLGMPSYCTGYREGYLNSTNVTIATYCTGSIPCSVCLSGLDSLDTYPSLETIQIT\n",
    "ISSFKWDLTAFGLVAEWFLAYILFTRFFYVLGLAAIMQLFFSYFAVHFISNSWLMWLIINLVQMAPISAM\n",
    "VRMYIFFASFYYVWKSYVHVVDGCNSSTCMMCYKRNRATRVECTTIVNGVRRSFYVYANGGKGFCKLHNW\n",
    "NCVNCDTFCAGSTFISDEVARDLSLQFKRPINPTDQSSYIVDSVTVKNGSIHLYFDKAGQKTYERHSLSH\n",
    "FVNLDNLRANNTKGSLPINVIVFDGKSKCEESSAKSASVYYSQLMCQPILLLDQALVSDVGDSAEVAVKM\n",
    "FDAYVNTFSSTFNVPMEKLKTLVATAEAELAKNVSLDNVLSTFISAARQGFVDSDVETKDVVECLKLSHQ\n",
    "SDIEVTGDSCNNYMLTYNKVENMTPRDLGACIDCSARHINAQVAKSHNIALIWNVKDFMSLSEQLRKQIR\n",
    "SAAKKNNLPFKLTCATTRQVVNVVTTKIALKGGKIVNNWLKQLIKVTLVFLFVAAIFYLITPVHVMSKHT\n",
    "DFSSEIIGYKAIDGGVTRDIASTDTCFANKHADFDTWFSQRGGSYTNDKACPLIAAVITREVGFVVPGLP\n",
    "GTILRTTNGDFLHFLPRVFSAVGNICYTPSKLIEYTDFATSACVLAAECTIFKDASGKPVPYCYDTNVLE\n",
    "GSVAYESLRPDTRYVLMDGSIIQFPNTYLEGSVRVVTTFDSEYCRHGTCERSEAGVCVSTSGRWVLNNDY\n",
    "YRSLPGVFCGVDAVNLLTNMFTPLIQPIGALDISASIVAGGIVAIVVTCLAYYFMRFRRAFGEYSHVVAF\n",
    "NTLLFLMSFTVLCLTPVYSFLPGVYSVIYLYLTFYLTNDVSFLAHIQWMVMFTPLVPFWITIAYIICIST\n",
    "KHFYWFFSNYLKRRVVFNGVSFSTFEEAALCTFLLNKEMYLKLRSDVLLPLTQYNRYLALYNKYKYFSGA\n",
    "MDTTSYREAACCHLAKALNDFSNSGSDVLYQPPQTSITSAVLQSGFRKMAFPSGKVEGCMVQVTCGTTTL\n",
    "NGLWLDDVVYCPRHVICTSEDMLNPNYEDLLIRKSNHNFLVQAGNVQLRVIGHSMQNCVLKLKVDTANPK\n",
    "TPKYKFVRIQPGQTFSVLACYNGSPSGVYQCAMRPNFTIKGSFLNGSCGSVGFNIDYDCVSFCYMHHMEL\n",
    "PTGVHAGTDLEGNFYGPFVDRQTAQAAGTDTTITVNVLAWLYAAVINGDRWFLNRFTTTLNDFNLVAMKY\n",
    "NYEPLTQDHVDILGPLSAQTGIAVLDMCASLKELLQNGMNGRTILGSALLEDEFTPFDVVRQCSGVTFQS\n",
    "AVKRTIKGTHHWLLLTILTSLLVLVQSTQWSLFFFLYENAFLPFAMGIIAMSAFAMMFVKHKHAFLCLFL\n",
    "LPSLATVAYFNMVYMPASWVMRIMTWLDMVDTSLSGFKLKDCVMYASAVVLLILMTARTVYDDGARRVWT\n",
    "LMNVLTLVYKVYYGNALDQAISMWALIISVTSNYSGVVTTVMFLARGIVFMCVEYCPIFFITGNTLQCIM\n",
    "LVYCFLGYFCTCYFGLFCLLNRYFRLTLGVYDYLVSTQEFRYMNSQGLLPPKNSIDAFKLNIKLLGVGGK\n",
    "PCIKVATVQSKMSDVKCTSVVLLSVLQQLRVESSSKLWAQCVQLHNDILLAKDTTEAFEKMVSLLSVLLS\n",
    "MQGAVDINKLCEEMLDNRATLQAIASEFSSLPSYAAFATAQEAYEQAVANGDSEVVLKKLKKSLNVAKSE\n",
    "FDRDAAMQRKLEKMADQAMTQMYKQARSEDKRAKVTSAMQTMLFTMLRKLDNDALNNIINNARDGCVPLN\n",
    "IIPLTTAAKLMVVIPDYNTYKNTCDGTTFTYASALWEIQQVVDADSKIVQLSEISMDNSPNLAWPLIVTA\n",
    "LRANSAVKLQNNELSPVALRQMSCAAGTTQTACTDDNALAYYNTTKGGRFVLALLSDLQDLKWARFPKSD\n",
    "GTGTIYTELEPPCRFVTDTPKGPKVKYLYFIKGLNNLNRGMVLGSLAATVRLQAGNATEVPANSTVLSFC\n",
    "AFAVDAAKAYKDYLASGGQPITNCVKMLCTHTGTGQAITVTPEANMDQESFGGASCCLYCRCHIDHPNPK\n",
    "GFCDLKGKYVQIPTTCANDPVGFTLKNTVCTVCGMWKGYGCSCDQLREPMLQSADAQSFLNGFAV\"\"\"\n",
    "\n",
    "\n",
    "ORF1a = ORF1a.replace(\"\\n\",\"\")\n",
    "print(\"ORF1a protein has \", len(ORF1a), \" aminoacids\")\n",
    "\n",
    "seqs = {\"TTTL\" : [], \"GFAV\": [], \"KMLL\": []}\n",
    "\n",
    "for i in range(len(ORF1a)-3):\n",
    "    fourmer = ORF1a[i:i+4]\n",
    "    if fourmer in seqs:  #remember it tests the presence in the keys\n",
    "        seqs[fourmer].append(i)\n",
    "    \n",
    "for s in seqs:\n",
    "    print(s, \" is present at positions: \", seqs[s])\n",
    "    "
   ],
   "outputs": [
    {
     "output_type": "stream",
     "name": "stdout",
     "text": [
      "ORF1a protein has  4405  aminoacids\n",
      "TTTL  is present at positions:  [1239, 3286, 3486]\n",
      "GFAV  is present at positions:  [4401]\n",
      "KMLL  is present at positions:  []\n"
     ]
    }
   ],
   "metadata": {}
  },
  {
   "cell_type": "markdown",
   "source": [
    "</div>\n",
    "\n",
    "\n",
    "\n",
    "3. Given the string \"nOBody Said iT was eAsy, No oNe Ever saId it WoulD be tHis hArd…\"\n",
    "    1. Create a list with all the letters that are capitalized (use str.isupper)\n",
    "    2. Print the list\n",
    "    3. Use the string method **join** to concatenate all the letters in a string, using \"\\*\" as separator.\n",
    "    The syntax of join is str.join(list) and it outputs a string with all the elements in list joined with the character in str (es. \"+\".join([1,2,3]) returns \"1+2+3\"). \n",
    "    \n",
    "The expected output:\n"
   ],
   "metadata": {}
  },
  {
   "cell_type": "markdown",
   "source": [
    "```\n",
    "['O', 'B', 'S', 'T', 'A', 'N', 'N', 'E', 'I', 'W', 'D', 'H', 'A']\n",
    "O*B*S*T*A*N*N*E*I*W*D*H*A\n",
    "```"
   ],
   "metadata": {}
  },
  {
   "cell_type": "markdown",
   "source": [
    "<div class=\"tggle\" onclick=\"toggleVisibility('ex2');\">Show/Hide Solution</div>\n",
    "<div id=\"ex2\" style=\"display:none;\">"
   ],
   "metadata": {}
  },
  {
   "cell_type": "code",
   "execution_count": 24,
   "source": [
    "text = \"nOBody Said iT was eAsy, No oNe Ever saId it WoulD be tHis hArd…\"\n",
    "initials = [x for x in text if x.isupper()]\n",
    "\n",
    "print(initials)\n",
    "print(\"*\".join(initials))"
   ],
   "outputs": [
    {
     "output_type": "stream",
     "name": "stdout",
     "text": [
      "['O', 'B', 'S', 'T', 'A', 'N', 'N', 'E', 'I', 'W', 'D', 'H', 'A']\n",
      "O*B*S*T*A*N*N*E*I*W*D*H*A\n"
     ]
    }
   ],
   "metadata": {}
  },
  {
   "cell_type": "markdown",
   "source": [
    "</div>\n",
    "\n",
    "\n",
    "4. Given the following sequence:\n"
   ],
   "metadata": {}
  },
  {
   "cell_type": "markdown",
   "source": [
    "```\n",
    "AUGCUGUCUCCCUCACUGUAUGUAAAUUGCAUCUAGAAUAGCA\n",
    "UCUGGAGCACUAAUUGACACAUAGUGGGUAUCAAUUAUUA\n",
    "UUCCAGGUACUAGAGAUACCUGGACCAUUAACGGAUAAAU\n",
    "AGAAGAUUCAUUUGUUGAGUGACUGAGGAUGGCAGUUCCU\n",
    "GCUACCUUCAAGGAUCUGGAUGAUGGGGAGAAACAGAGAA\n",
    "CAUAGUGUGAGAAUACUGUGGUAAGGAAAGUACAGAGGAC\n",
    "UGGUAGAGUGUCUAACCUAGAUUUGGAGAAGGACCUAGAA\n",
    "GUCUAUCCCAGGGAAAUAAAAAUCUAAGCUAAGGUUUGAG\n",
    "GAAUCAGUAGGAAUUGGCAAAGGAAGGACAUGUUCCAGAU\n",
    "GAUAGGAACAGGUUAUGCAAAGAUCCUGAAAUGGUCAGAG\n",
    "CUUGGUGCUUUUUGAGAACCAAAAGUAGAUUGUUAUGGAC\n",
    "CAGUGCUACUCCCUGCCUCUUGCCAAGGGACCCCGCCAAG\n",
    "CACUGCAUCCCUUCCCUCUGACUCCACCUUUCCACUUGCC\n",
    "CAGUAUUGUUGGUG\n",
    "```\n",
    "\n",
    "considering only first forward open reading frame (i.e. the string as it is **remembering to remove newlines**):\n",
    "\n",
    "1. create a list of all the codons and print it (considering only first forward open reading frame we will have the codons: AUG, CUG, UCU,...).  \n",
    "2. create then a dictionary in which codons are keys and values are how many times that codon is present in the first forward open reading frame and print it;\n",
    "3. retrieve from the dictionary and print the number of times codons: \"AUG\", \"AGA\", \"GGG\", \"AUA\" are present. If a codon is not present the script should print \"NOT present\" rather than crash.\n",
    "\n",
    "<div class=\"tggle\" onclick=\"toggleVisibility('ex3a');\">Show/Hide Solution</div>\n",
    "<div id=\"ex3a\" style=\"display:none;\">"
   ],
   "metadata": {}
  },
  {
   "cell_type": "code",
   "execution_count": 25,
   "source": [
    "seq= \"\"\"AUGCUGUCUCCCUCACUGUAUGUAAAUUGCAUCUAGAAUAGCA\n",
    "UCUGGAGCACUAAUUGACACAUAGUGGGUAUCAAUUAUUA\n",
    "UUCCAGGUACUAGAGAUACCUGGACCAUUAACGGAUAAAU\n",
    "AGAAGAUUCAUUUGUUGAGUGACUGAGGAUGGCAGUUCCU\n",
    "GCUACCUUCAAGGAUCUGGAUGAUGGGGAGAAACAGAGAA\n",
    "CAUAGUGUGAGAAUACUGUGGUAAGGAAAGUACAGAGGAC\n",
    "UGGUAGAGUGUCUAACCUAGAUUUGGAGAAGGACCUAGAA\n",
    "GUCUAUCCCAGGGAAAUAAAAAUCUAAGCUAAGGUUUGAG\n",
    "GAAUCAGUAGGAAUUGGCAAAGGAAGGACAUGUUCCAGAU\n",
    "GAUAGGAACAGGUUAUGCAAAGAUCCUGAAAUGGUCAGAG\n",
    "CUUGGUGCUUUUUGAGAACCAAAAGUAGAUUGUUAUGGAC\n",
    "CAGUGCUACUCCCUGCCUCUUGCCAAGGGACCCCGCCAAG\n",
    "CACUGCAUCCCUUCCCUCUGACUCCACCUUUCCACUUGCC\n",
    "CAGUAUUGUUGGUG\"\"\"\n",
    "\n",
    "\n",
    "seq = seq.replace(\"\\n\",\"\")\n",
    "\n",
    "codons = [seq[i:i+3] for i in range(0,len(seq),3)]\n",
    "\n",
    "count_dict = dict()\n",
    "\n",
    "for el in codons:\n",
    "    if el not in count_dict:\n",
    "        count_dict[el] = codons.count(el)\n",
    "\n",
    "print(\"1st fwd ORF codons:\")\n",
    "print(codons)\n",
    "print(\"Codon counts:\")\n",
    "print(count_dict)\n",
    "print(\"\\n\")\n",
    "to_check = [\"AUG\", \"AGA\", \"GGG\", \"AUA\"]\n",
    "for c in to_check:\n",
    "    if c in count_dict:\n",
    "        print(c , \"is present\", count_dict[c], \"times\")\n",
    "    else:\n",
    "        print(c, \"is NOT present\")\n"
   ],
   "outputs": [
    {
     "output_type": "stream",
     "name": "stdout",
     "text": [
      "1st fwd ORF codons:\n",
      "['AUG', 'CUG', 'UCU', 'CCC', 'UCA', 'CUG', 'UAU', 'GUA', 'AAU', 'UGC', 'AUC', 'UAG', 'AAU', 'AGC', 'AUC', 'UGG', 'AGC', 'ACU', 'AAU', 'UGA', 'CAC', 'AUA', 'GUG', 'GGU', 'AUC', 'AAU', 'UAU', 'UAU', 'UCC', 'AGG', 'UAC', 'UAG', 'AGA', 'UAC', 'CUG', 'GAC', 'CAU', 'UAA', 'CGG', 'AUA', 'AAU', 'AGA', 'AGA', 'UUC', 'AUU', 'UGU', 'UGA', 'GUG', 'ACU', 'GAG', 'GAU', 'GGC', 'AGU', 'UCC', 'UGC', 'UAC', 'CUU', 'CAA', 'GGA', 'UCU', 'GGA', 'UGA', 'UGG', 'GGA', 'GAA', 'ACA', 'GAG', 'AAC', 'AUA', 'GUG', 'UGA', 'GAA', 'UAC', 'UGU', 'GGU', 'AAG', 'GAA', 'AGU', 'ACA', 'GAG', 'GAC', 'UGG', 'UAG', 'AGU', 'GUC', 'UAA', 'CCU', 'AGA', 'UUU', 'GGA', 'GAA', 'GGA', 'CCU', 'AGA', 'AGU', 'CUA', 'UCC', 'CAG', 'GGA', 'AAU', 'AAA', 'AAU', 'CUA', 'AGC', 'UAA', 'GGU', 'UUG', 'AGG', 'AAU', 'CAG', 'UAG', 'GAA', 'UUG', 'GCA', 'AAG', 'GAA', 'GGA', 'CAU', 'GUU', 'CCA', 'GAU', 'GAU', 'AGG', 'AAC', 'AGG', 'UUA', 'UGC', 'AAA', 'GAU', 'CCU', 'GAA', 'AUG', 'GUC', 'AGA', 'GCU', 'UGG', 'UGC', 'UUU', 'UUG', 'AGA', 'ACC', 'AAA', 'AGU', 'AGA', 'UUG', 'UUA', 'UGG', 'ACC', 'AGU', 'GCU', 'ACU', 'CCC', 'UGC', 'CUC', 'UUG', 'CCA', 'AGG', 'GAC', 'CCC', 'GCC', 'AAG', 'CAC', 'UGC', 'AUC', 'CCU', 'UCC', 'CUC', 'UGA', 'CUC', 'CAC', 'CUU', 'UCC', 'ACU', 'UGC', 'CCA', 'GUA', 'UUG', 'UUG', 'GUG']\n",
      "Codon counts:\n",
      "{'AUG': 2, 'CUG': 3, 'UCU': 2, 'CCC': 3, 'UCA': 1, 'UAU': 3, 'GUA': 2, 'AAU': 8, 'UGC': 7, 'AUC': 4, 'UAG': 4, 'AGC': 3, 'UGG': 5, 'ACU': 4, 'UGA': 5, 'CAC': 3, 'AUA': 3, 'GUG': 4, 'GGU': 3, 'UCC': 5, 'AGG': 5, 'UAC': 4, 'AGA': 8, 'GAC': 3, 'CAU': 2, 'UAA': 3, 'CGG': 1, 'UUC': 1, 'AUU': 1, 'UGU': 2, 'GAG': 3, 'GAU': 4, 'GGC': 1, 'AGU': 6, 'CUU': 2, 'CAA': 1, 'GGA': 7, 'GAA': 7, 'ACA': 2, 'AAC': 2, 'AAG': 3, 'GUC': 2, 'CCU': 4, 'UUU': 2, 'CUA': 2, 'CAG': 2, 'AAA': 3, 'UUG': 7, 'GCA': 1, 'GUU': 1, 'CCA': 3, 'UUA': 2, 'GCU': 2, 'ACC': 2, 'CUC': 3, 'GCC': 1}\n",
      "\n",
      "\n",
      "AUG is present 2 times\n",
      "AGA is present 8 times\n",
      "GGG is NOT present\n",
      "AUA is present 3 times\n"
     ]
    }
   ],
   "metadata": {
    "scrolled": true
   }
  },
  {
   "cell_type": "markdown",
   "source": [
    "</div>\n",
    "\n",
    "5. Given the following list of gene correlations:\n",
    "```\n",
    "geneCorr = [[\"G1C2W9\", \"G1C2Q7\", 0.2], [\"G1C2W9\", \"G1C2Q4\", 0.9], \n",
    "[\"Q6NMS1\", \"G1C2W9\", 0.8],[\"G1C2W9\", \"Q6NMS1\",0.4], [\"G1C2Q7\", \"G1C2Q4\",0.76]]\n",
    "```\n",
    "where each sublist [\"gene1\", \"gene2\", corr] represents a correlation between *gene1* and *gene2* with correlation *corr*, create another list containing only the elements having an high correlation (i.e. > 0.75). Print this list."
   ],
   "metadata": {}
  },
  {
   "cell_type": "markdown",
   "source": [
    "Expected result:\n",
    "```\n",
    "[['G1C2W9', 'G1C2Q4', 0.9], ['Q6NMS1', 'G1C2W9', 0.8], ['G1C2Q7', 'G1C2Q4', 0.76]]\n",
    "```"
   ],
   "metadata": {}
  },
  {
   "cell_type": "markdown",
   "source": [
    "<div class=\"tggle\" onclick=\"toggleVisibility('ex3');\">Show/Hide Solution</div>\n",
    "<div id=\"ex3\" style=\"display:none;\">"
   ],
   "metadata": {}
  },
  {
   "cell_type": "code",
   "execution_count": 26,
   "source": [
    "geneCorr = [[\"G1C2W9\", \"G1C2Q7\", 0.2], [\"G1C2W9\", \"G1C2Q4\", 0.9], [\"Q6NMS1\", \"G1C2W9\", 0.8],\n",
    "            [\"G1C2W9\", \"Q6NMS1\",0.4], [\"G1C2Q7\", \"G1C2Q4\",0.76]]\n",
    "\n",
    "highlyCorr = [x for x in geneCorr if x[2] > 0.75]\n",
    "\n",
    "print(geneCorr, \"\\n\")\n",
    "print(highlyCorr)"
   ],
   "outputs": [
    {
     "output_type": "stream",
     "name": "stdout",
     "text": [
      "[['G1C2W9', 'G1C2Q7', 0.2], ['G1C2W9', 'G1C2Q4', 0.9], ['Q6NMS1', 'G1C2W9', 0.8], ['G1C2W9', 'Q6NMS1', 0.4], ['G1C2Q7', 'G1C2Q4', 0.76]] \n",
      "\n",
      "[['G1C2W9', 'G1C2Q4', 0.9], ['Q6NMS1', 'G1C2W9', 0.8], ['G1C2Q7', 'G1C2Q4', 0.76]]\n"
     ]
    }
   ],
   "metadata": {}
  },
  {
   "cell_type": "markdown",
   "source": [
    "</div>\n",
    "6. Given the following sequence of DNA:\n",
    "\n",
    "DNA = \"GATTACATATATCAGTACAGATATATACGCGCGGGCTTACTATTAAAAACCCC\"\n",
    "\n",
    "1. Create a dictionary reporting the frequency of each base (i.e. key is the base and value is the frequency).\n",
    "2. Create a dictionary representing an index of all possible dimers (i.e. 2 bases, 16 dimers in total): AA, AT, AC, AG, TA, TT, TC, TG, ... . In this case, keys of the dictionary are dimers and values are lists with all possible starting positions of the dimer.  \n",
    "3. Print the DNA string.\n",
    "4. Print for each base its frequency\n",
    "5. Print all positions of the dimer \"AT\""
   ],
   "metadata": {}
  },
  {
   "cell_type": "markdown",
   "source": [
    "The expected result is:\n",
    "```\n",
    "sequence: GATTACATATATCAGTACAGATATATACGCGCGGGCTTACTATTAAAAACCCC\n",
    "G has frequency: 0.1509433962264151\n",
    "C has frequency: 0.22641509433962265\n",
    "A has frequency: 0.3584905660377358\n",
    "T has frequency: 0.2641509433962264\n",
    "{'GG': [32, 33], 'TC': [11], 'GT': [14], 'CA': [5, 12, 17], 'TT': [2, 36, 42], \n",
    "'CG': [27, 29, 31], 'TA': [3, 7, 9, 15, 21, 23, 25, 37, 40, 43], 'AG': [13, 18], \n",
    "'GA': [0, 19], 'CT': [35, 39], 'GC': [28, 30, 34], 'AT': [1, 6, 8, 10, 20, 22, 24, 41], \n",
    "'CC': [49, 50, 51], 'AA': [44, 45, 46, 47], 'AC': [4, 16, 26, 38, 48]} \n",
    "\n",
    "Dimer AT is found at: [1, 6, 8, 10, 20, 22, 24, 41]\n",
    "```"
   ],
   "metadata": {}
  },
  {
   "cell_type": "markdown",
   "source": [
    "<div class=\"tggle\" onclick=\"toggleVisibility('ex4');\">Show/Hide Solution</div>\n",
    "<div id=\"ex4\" style=\"display:none;\">"
   ],
   "metadata": {}
  },
  {
   "cell_type": "code",
   "execution_count": 27,
   "source": [
    "DNA = \"GATTACATATATCAGTACAGATATATACGCGCGGGCTTACTATTAAAAACCCC\"\n",
    "\n",
    "n = len(DNA)\n",
    "\n",
    "baseFreq = {\"A\" : DNA.count(\"A\")/n, \"T\" : DNA.count(\"T\")/n, \n",
    "            \"C\": DNA.count(\"C\")/n, \"G\" : DNA.count(\"G\")/n }\n",
    "\n",
    "dimersDict ={}\n",
    "\n",
    "print(\"sequence:\", DNA)\n",
    "\n",
    "for base in baseFreq:\n",
    "    print(base, \"has frequency:\", baseFreq[base])\n",
    "    \n",
    "for ind in range(len(DNA) -1 ): #need -1 because at each iteration I get the dimer [ind:ind+1]\n",
    "    dimer = DNA[ind:ind+2]\n",
    "    if dimer in dimersDict:\n",
    "        dimersDict[dimer].append(ind)\n",
    "    else:\n",
    "        dimersDict[dimer] = [ind]\n",
    "print(dimersDict, \"\\n\")\n",
    "print(\"Dimer AT is found at:\", dimersDict[\"AT\"])"
   ],
   "outputs": [
    {
     "output_type": "stream",
     "name": "stdout",
     "text": [
      "sequence: GATTACATATATCAGTACAGATATATACGCGCGGGCTTACTATTAAAAACCCC\n",
      "A has frequency: 0.3584905660377358\n",
      "T has frequency: 0.2641509433962264\n",
      "C has frequency: 0.22641509433962265\n",
      "G has frequency: 0.1509433962264151\n",
      "{'GA': [0, 19], 'AT': [1, 6, 8, 10, 20, 22, 24, 41], 'TT': [2, 36, 42], 'TA': [3, 7, 9, 15, 21, 23, 25, 37, 40, 43], 'AC': [4, 16, 26, 38, 48], 'CA': [5, 12, 17], 'TC': [11], 'AG': [13, 18], 'GT': [14], 'CG': [27, 29, 31], 'GC': [28, 30, 34], 'GG': [32, 33], 'CT': [35, 39], 'AA': [44, 45, 46, 47], 'CC': [49, 50, 51]} \n",
      "\n",
      "Dimer AT is found at: [1, 6, 8, 10, 20, 22, 24, 41]\n"
     ]
    }
   ],
   "metadata": {}
  },
  {
   "cell_type": "markdown",
   "source": [
    "</div>"
   ],
   "metadata": {}
  },
  {
   "cell_type": "markdown",
   "source": [
    "7. Given the following table, reporting molecular weights for each amino acid, store them in a dictionary where the key is the one letter code and the value is the molecular weight (e.g. {\"A\" : 89, \"R\":174\"}).\n",
    "\n",
    "![i4](img/pract5/molecular_weights.png)\n"
   ],
   "metadata": {}
  },
  {
   "cell_type": "markdown",
   "source": [
    "Write a python script to answer the following questions:\n",
    "\n",
    "1. What is the average molecular weight of an amino acid?\n",
    "2. What is the total molecular weight and number of aminoacids of the P53 peptide GSRAHSSHLKSKKGQSTSRHK?\n",
    "3. What is the total molecular weight and number of aminoacids of the peptide YTSLIHSLIEESQNQQEKNEQELLELDKWASLWNWF?\n",
    "\n",
    "<div class=\"tggle\" onclick=\"toggleVisibility('ex5');\">Show/Hide Solution</div>\n",
    "<div id=\"ex5\" style=\"display:none;\">"
   ],
   "metadata": {}
  },
  {
   "cell_type": "code",
   "execution_count": 28,
   "source": [
    "mws = {\"A\" : 89, \"R\" : 174, \"N\" : 132, \"D\" : 133, \"B\": 133, \"C\": 121, \"Q\": 146, \n",
    "       \"E\": 147, \"Z\": 147, \"G\": 75, \"H\": 155, \"I\": 131, \"L\" : 131,\n",
    "      \"K\" : 146, \"M\" : 149, \"F\" : 165, \"P\" : 115, \"S\" : 105, \"T\" : 119, \n",
    "       \"W\" : 204, \"Y\": 181, \"V\" : 117\n",
    "      }\n",
    "avgW = 0\n",
    "for amino in mws:\n",
    "    avgW = avgW + mws[amino]\n",
    "\n",
    "avgW = avgW/len(mws)\n",
    "print(\"The average molecular weight of amino acids is:\", avgW)\n",
    "\n",
    "P53amino = \"GSRAHSSHLKSKKGQSTSRHK\"\n",
    "\n",
    "totW = 0\n",
    "for amino in P53amino:\n",
    "    totW += mws[amino]\n",
    "print(\"Peptide \", P53amino, \"has\",len(P53amino), \"amino acids and a total mw of\",totW, \"Da\")\n",
    "\n",
    "totW = 0 #reusing same variable name\n",
    "peptide = \"YTSLIHSLIEESQNQQEKNEQELLELDKWASLWNWF\"\n",
    "for amino in peptide:\n",
    "    totW += mws[amino]\n",
    "    \n",
    "print(\"Peptide \", peptide, \"has\",len(peptide), \"amino acids and a total mw of\",totW, \"Da\")"
   ],
   "outputs": [
    {
     "output_type": "stream",
     "name": "stdout",
     "text": [
      "The average molecular weight of amino acids is: 137.04545454545453\n",
      "Peptide  GSRAHSSHLKSKKGQSTSRHK has 21 amino acids and a total mw of 2662 Da\n",
      "Peptide  YTSLIHSLIEESQNQQEKNEQELLELDKWASLWNWF has 36 amino acids and a total mw of 5076 Da\n"
     ]
    }
   ],
   "metadata": {}
  },
  {
   "cell_type": "markdown",
   "source": [
    "</div>"
   ],
   "metadata": {}
  },
  {
   "cell_type": "markdown",
   "source": [
    "8. The following string is an extract of a [blast](https://www.ncbi.nlm.nih.gov/pubmed/2231712) alignment with compacted textual output. This is a comma (\",\") separated text file where the columns report the following info: \n",
    "the first column is the query_id, the second the subject_id (i.e. the reference on which we aligned the query), the third is the percentage of identity and then we have the alignment length, number of mismatches, gap opens, start point of the alignment on the query, end point of the alignment on the query, start point of the alignment on the subject, end point of the alignment on the subject and evalue of the alignment."
   ],
   "metadata": {}
  },
  {
   "cell_type": "markdown",
   "source": [
    "```\n",
    "#Fields:q.id,s.id,% ident,align len,mismatches,gap opens,q.start,q.end,s.start,s.end,evalue\n",
    "ab1_400a,scaffold16155,98.698,384,4,1,12,394,6700,7083,0.0\n",
    "ab1_400b,scaffold14620,98.698,384,4,1,12,394,1240,857,0.0\n",
    "92A2_SP6_344a,scaffold14394,95.575,113,5,0,97,209,250760,250648,2.92e-44\n",
    "92A2_SP6_344b,scaffold10682,97.849,93,2,0,18,110,898,990,3.81e-38\n",
    "92A2_T7_558a,scaffold277,88.746,311,31,3,21,330,26630,26937,5.81e-103\n",
    "92A2_T7_558b,scaffold277,89.545,220,21,2,27,246,27167,26950,6.06e-73\n",
    "92A2_T7_558c,scaffold1125,88.125,320,31,5,30,346,231532,231847,7.51e-102\n",
    "ab1_675a,scaffold4896,100.000,661,0,0,15,675,79051,78391,0.0\n",
    "ab1_676b,scaffold4896,99.552,670,0,3,7,673,78421,79090,0.0\n",
    "```"
   ],
   "metadata": {}
  },
  {
   "cell_type": "markdown",
   "source": [
    "1. For each alignment, store the subject id, the percentage of identity and evalue, \n",
    "subject start and end in a dictionary using the query id as key. All this information can be\n",
    "stored in a dictionary having subject id as key and a dictionary with all the information as value:\n",
    "```\n",
    "alignments[\"ab1_400\"] = {\"subjectid\" : scaffold16155, \"perc_id\" : 98.698, \"evalue\" : 0.0}\n",
    "```\n",
    "2. Print the whole dictionary\n",
    "3. Print only the alignments having percentage of identity > 90%\n",
    "\n",
    "Note: skip the first comment line (i.e. skip line if starts with \"#\").\n",
    "Note1: when storing the percentage of identity remember to convert the string into a float.\n",
    "\n",
    "The expected output is:"
   ],
   "metadata": {}
  },
  {
   "cell_type": "markdown",
   "source": [
    "```\n",
    "{'92A2_T7_558a': {'perc_id': 88.746, 'subjectid': 'scaffold277', 'evalue': '5.81e-103'}, \n",
    "'92A2_T7_558b': {'perc_id': 89.545, 'subjectid': 'scaffold277', 'evalue': '6.06e-73'}, \n",
    "'92A2_SP6_344b': {'perc_id': 97.849, 'subjectid': 'scaffold10682', 'evalue': '3.81e-38'}, \n",
    "'92A2_T7_558c': {'perc_id': 88.125, 'subjectid': 'scaffold1125', 'evalue': '7.51e-102'}, \n",
    "'ab1_400a': {'perc_id': 98.698, 'subjectid': 'scaffold16155', 'evalue': '0.0'}, \n",
    "'ab1_675a': {'perc_id': 100.0, 'subjectid': 'scaffold4896', 'evalue': '0.0'}, \n",
    "'ab1_400b': {'perc_id': 98.698, 'subjectid': 'scaffold14620', 'evalue': '0.0'}, \n",
    "'92A2_SP6_344a': {'perc_id': 95.575, 'subjectid': 'scaffold14394', 'evalue': '2.92e-44'}, \n",
    "'ab1_676b': {'perc_id': 99.552, 'subjectid': 'scaffold4896', 'evalue': '0.0'}} \n",
    "\n",
    "\n",
    "Alignments with identity > 90%:\n",
    "\n",
    "Query id\tSubject id\t% ident\tevalue\n",
    "92A2_SP6_344b \t scaffold10682 \t 97.849 \t 3.81e-38\n",
    "ab1_400a \t scaffold16155 \t 98.698 \t 0.0\n",
    "ab1_675a \t scaffold4896 \t 100.0 \t 0.0\n",
    "ab1_400b \t scaffold14620 \t 98.698 \t 0.0\n",
    "92A2_SP6_344a \t scaffold14394 \t 95.575 \t 2.92e-44\n",
    "ab1_676b \t scaffold4896 \t 99.552 \t 0.0\n",
    "```"
   ],
   "metadata": {}
  },
  {
   "cell_type": "markdown",
   "source": [
    "<div class=\"tggle\" onclick=\"toggleVisibility('ex6');\">Show/Hide Solution</div>\n",
    "<div id=\"ex6\" style=\"display:none;\">"
   ],
   "metadata": {}
  },
  {
   "cell_type": "code",
   "execution_count": 29,
   "source": [
    "blast_out = \"\"\"#Fields:q.id,s.id,% ident,align len,mismatches,gap opens,q.start,q.end,s.start,s.end,evalue\n",
    "ab1_400a,scaffold16155,98.698,384,4,1,12,394,6700,7083,0.0\n",
    "ab1_400b,scaffold14620,98.698,384,4,1,12,394,1240,857,0.0\n",
    "92A2_SP6_344a,scaffold14394,95.575,113,5,0,97,209,250760,250648,2.92e-44\n",
    "92A2_SP6_344b,scaffold10682,97.849,93,2,0,18,110,898,990,3.81e-38\n",
    "92A2_T7_558a,scaffold277,88.746,311,31,3,21,330,26630,26937,5.81e-103\n",
    "92A2_T7_558b,scaffold277,89.545,220,21,2,27,246,27167,26950,6.06e-73\n",
    "92A2_T7_558c,scaffold1125,88.125,320,31,5,30,346,231532,231847,7.51e-102\n",
    "ab1_675a,scaffold4896,100.000,661,0,0,15,675,79051,78391,0.0\n",
    "ab1_676b,scaffold4896,99.552,670,0,3,7,673,78421,79090,0.0\"\"\"\n",
    "\n",
    "\n",
    "\n",
    "alignments = dict()\n",
    "\n",
    "for align in blast_out.split(\"\\n\"):\n",
    "    if align.startswith(\"#\") == False:\n",
    "        align_info = align.split(\",\")\n",
    "        alignments[align_info[0]] = {\"subjectid\" : align_info[1], \n",
    "                                     \"perc_id\" : float(align_info[2]),\n",
    "                                    \"evalue\" : align_info[-1]\n",
    "                                    } \n",
    "\n",
    "print(alignments, \"\\n\\n\")\n",
    "print(\"Alignments with identity > 90%:\\n\")\n",
    "print(\"Query id\\tSubject id\\t% ident\\tevalue\")\n",
    "for a in alignments:\n",
    "    if alignments[a][\"perc_id\"]>90:\n",
    "        print(a,\"\\t\", alignments[a][\"subjectid\"],\"\\t\", alignments[a][\"perc_id\"],\"\\t\", alignments[a][\"evalue\"])\n"
   ],
   "outputs": [
    {
     "output_type": "stream",
     "name": "stdout",
     "text": [
      "{'ab1_400a': {'subjectid': 'scaffold16155', 'perc_id': 98.698, 'evalue': '0.0'}, 'ab1_400b': {'subjectid': 'scaffold14620', 'perc_id': 98.698, 'evalue': '0.0'}, '92A2_SP6_344a': {'subjectid': 'scaffold14394', 'perc_id': 95.575, 'evalue': '2.92e-44'}, '92A2_SP6_344b': {'subjectid': 'scaffold10682', 'perc_id': 97.849, 'evalue': '3.81e-38'}, '92A2_T7_558a': {'subjectid': 'scaffold277', 'perc_id': 88.746, 'evalue': '5.81e-103'}, '92A2_T7_558b': {'subjectid': 'scaffold277', 'perc_id': 89.545, 'evalue': '6.06e-73'}, '92A2_T7_558c': {'subjectid': 'scaffold1125', 'perc_id': 88.125, 'evalue': '7.51e-102'}, 'ab1_675a': {'subjectid': 'scaffold4896', 'perc_id': 100.0, 'evalue': '0.0'}, 'ab1_676b': {'subjectid': 'scaffold4896', 'perc_id': 99.552, 'evalue': '0.0'}} \n",
      "\n",
      "\n",
      "Alignments with identity > 90%:\n",
      "\n",
      "Query id\tSubject id\t% ident\tevalue\n",
      "ab1_400a \t scaffold16155 \t 98.698 \t 0.0\n",
      "ab1_400b \t scaffold14620 \t 98.698 \t 0.0\n",
      "92A2_SP6_344a \t scaffold14394 \t 95.575 \t 2.92e-44\n",
      "92A2_SP6_344b \t scaffold10682 \t 97.849 \t 3.81e-38\n",
      "ab1_675a \t scaffold4896 \t 100.0 \t 0.0\n",
      "ab1_676b \t scaffold4896 \t 99.552 \t 0.0\n"
     ]
    }
   ],
   "metadata": {}
  },
  {
   "cell_type": "markdown",
   "source": [
    "</div>"
   ],
   "metadata": {}
  },
  {
   "cell_type": "markdown",
   "source": [
    "9. The following text (separated with a comma \",\") is an extract of protein-protein interactions network stored in the database [STRING](https://string-db.org/) involving [PKLR](https://www.ncbi.nlm.nih.gov/gene/5313) (Pyruvate kinase, liver and RBC) that plays a key role in glycolysis:"
   ],
   "metadata": {}
  },
  {
   "cell_type": "markdown",
   "source": [
    "```\n",
    "#node1,node2,node1_ext_id,node2_ext_id,\n",
    "ENO1,TPI1,ENSP00000234590,ENSP00000229270\n",
    "PKLR,ENO1,ENSP00000339933,ENSP00000234590\n",
    "PKLR,ENO3,ENSP00000339933,ENSP00000324105\n",
    "PGK1,ENO1,ENSP00000362413,ENSP00000234590\n",
    "PGK1,TPI1,ENSP00000362413,ENSP00000229270\n",
    "GPI,TPI1,ENSP00000405573,ENSP00000229270\n",
    "PKLR,ENO2,ENSP00000339933,ENSP00000229277\n",
    "PGK1,ENO3,ENSP00000362413,ENSP00000324105\n",
    "PGK1,ENO2,ENSP00000362413,ENSP00000229277\n",
    "GPI,PKLR,ENSP00000405573,ENSP00000339933\n",
    "ENO2,TPI1,ENSP00000229277,ENSP00000229270\n",
    "PGK2,ENO1,ENSP00000305995,ENSP00000234590\n",
    "ENO3,PGK2,ENSP00000324105,ENSP00000305995\n",
    "PGK2,TPI1,ENSP00000305995,ENSP00000229270\n",
    "ENO3,TPI1,ENSP00000324105,ENSP00000229270\n",
    "PGK2,ENO2,ENSP00000305995,ENSP00000229277\n",
    "GPI,ENO3,ENSP00000405573,ENSP00000324105\n",
    "PKLR,LDHB,ENSP00000339933,ENSP00000229319\n",
    "PKLR,LDHC,ENSP00000339933,ENSP00000280704\n",
    "PKLR,TPI1,ENSP00000339933,ENSP00000229270\n",
    "PGK1,PKLR,ENSP00000362413,ENSP00000339933\n",
    "GPI,ENO2,ENSP00000405573,ENSP00000229277\n",
    "PKLR,PGK2,ENSP00000339933,ENSP00000305995\n",
    "GPI,PGK1,ENSP00000405573,ENSP00000362413\n",
    "ME3,PKLR,ENSP00000352657,ENSP00000339933\n",
    "ME3,LDHB,ENSP00000352657,ENSP00000229319\n",
    "ME3,LDHC,ENSP00000352657,ENSP00000280704\n",
    "GPI,PGK2,ENSP00000405573,ENSP00000305995\n",
    "GPI,ENO1,ENSP00000405573,ENSP00000234590\n",
    "GPI,LDHB,ENSP00000405573,ENSP00000229319\n",
    "ENO3,ENO2,ENSP00000324105,ENSP00000229277\n",
    "GPI,LDHC,ENSP00000405573,ENSP00000280704\n",
    "ENO3,LDHB,ENSP00000324105,ENSP00000229319\n",
    "ENO3,LDHC,ENSP00000324105,ENSP00000280704\n",
    "ENO1,LDHB,ENSP00000234590,ENSP00000229319\n",
    "LDHB,TPI1,ENSP00000229319,ENSP00000229270\n",
    "LDHC,TPI1,ENSP00000280704,ENSP00000229270\n",
    "PGK2,LDHC,ENSP00000305995,ENSP00000280704\n",
    "PGK1,LDHB,ENSP00000362413,ENSP00000229319\n",
    "PGK1,PGK2,ENSP00000362413,ENSP00000305995\n",
    "ENO1,ENO2,ENSP00000234590,ENSP00000229277\n",
    "LDHC,ENO1,ENSP00000280704,ENSP00000234590\n",
    "LDHB,ENO2,ENSP00000229319,ENSP00000229277\n",
    "LDHC,ENO2,ENSP00000280704,ENSP00000229277\n",
    "ENO3,ENO1,ENSP00000324105,ENSP00000234590\n",
    "PGK1,LDHC,ENSP00000362413,ENSP00000280704\n",
    "GPI,ME3,ENSP00000405573,ENSP00000352657\n",
    "PGK2,LDHB,ENSP00000305995,ENSP00000229319\n",
    "ME3,TPI1,ENSP00000352657,ENSP00000229270\n",
    "```\n",
    "\n",
    "Here is a graphic representation of the protein-protein interactions:\n",
    "\n",
    "![i5](img/pract5/PKLR.png)"
   ],
   "metadata": {}
  },
  {
   "cell_type": "markdown",
   "source": [
    "Note: we can assume that relations between nodes are transitive: node1 --> node2 implies node2 --> node1.\n",
    "    \n",
    "1. Store the network information in a dictionary having node1 as key and the list of all nodes2 associated to it as value (remember to skip the first line that is the header). Remember transitivity, therefore add also node2 -->node1\n",
    "2. Find all first neighbours of \"PKLR\" (i.e. the nodes that are directly connected to \"PKLR\") and print them\n",
    "3. Find all first neighbours of \"ME3\" (i.e. the nodes that are directly connected to \"PKLR\") and print them\n",
    "4. Find all the second neighbours of \"ME3\" (i.e. the nodes that are connected to nodes directly connected to \"ME3\", but not directly to \"ME3\"). \n",
    "    \n",
    "<div class=\"tggle\" onclick=\"toggleVisibility('ex7');\">Show/Hide Solution</div>\n",
    "<div id=\"ex7\" style=\"display:none;\">"
   ],
   "metadata": {}
  },
  {
   "cell_type": "code",
   "execution_count": 30,
   "source": [
    "networkStr = \"\"\"#node1,node2,node1_ext_id,node2_ext_id,\n",
    "ENO1,TPI1,ENSP00000234590,ENSP00000229270\n",
    "PKLR,ENO1,ENSP00000339933,ENSP00000234590\n",
    "PKLR,ENO3,ENSP00000339933,ENSP00000324105\n",
    "PGK1,ENO1,ENSP00000362413,ENSP00000234590\n",
    "PGK1,TPI1,ENSP00000362413,ENSP00000229270\n",
    "GPI,TPI1,ENSP00000405573,ENSP00000229270\n",
    "PKLR,ENO2,ENSP00000339933,ENSP00000229277\n",
    "PGK1,ENO3,ENSP00000362413,ENSP00000324105\n",
    "PGK1,ENO2,ENSP00000362413,ENSP00000229277\n",
    "GPI,PKLR,ENSP00000405573,ENSP00000339933\n",
    "ENO2,TPI1,ENSP00000229277,ENSP00000229270\n",
    "PGK2,ENO1,ENSP00000305995,ENSP00000234590\n",
    "ENO3,PGK2,ENSP00000324105,ENSP00000305995\n",
    "PGK2,TPI1,ENSP00000305995,ENSP00000229270\n",
    "ENO3,TPI1,ENSP00000324105,ENSP00000229270\n",
    "PGK2,ENO2,ENSP00000305995,ENSP00000229277\n",
    "GPI,ENO3,ENSP00000405573,ENSP00000324105\n",
    "PKLR,LDHB,ENSP00000339933,ENSP00000229319\n",
    "PKLR,LDHC,ENSP00000339933,ENSP00000280704\n",
    "PKLR,TPI1,ENSP00000339933,ENSP00000229270\n",
    "PGK1,PKLR,ENSP00000362413,ENSP00000339933\n",
    "GPI,ENO2,ENSP00000405573,ENSP00000229277\n",
    "PKLR,PGK2,ENSP00000339933,ENSP00000305995\n",
    "GPI,PGK1,ENSP00000405573,ENSP00000362413\n",
    "ME3,PKLR,ENSP00000352657,ENSP00000339933\n",
    "ME3,LDHB,ENSP00000352657,ENSP00000229319\n",
    "ME3,LDHC,ENSP00000352657,ENSP00000280704\n",
    "GPI,PGK2,ENSP00000405573,ENSP00000305995\n",
    "GPI,ENO1,ENSP00000405573,ENSP00000234590\n",
    "GPI,LDHB,ENSP00000405573,ENSP00000229319\n",
    "ENO3,ENO2,ENSP00000324105,ENSP00000229277\n",
    "GPI,LDHC,ENSP00000405573,ENSP00000280704\n",
    "ENO3,LDHB,ENSP00000324105,ENSP00000229319\n",
    "ENO3,LDHC,ENSP00000324105,ENSP00000280704\n",
    "ENO1,LDHB,ENSP00000234590,ENSP00000229319\n",
    "LDHB,TPI1,ENSP00000229319,ENSP00000229270\n",
    "LDHC,TPI1,ENSP00000280704,ENSP00000229270\n",
    "PGK2,LDHC,ENSP00000305995,ENSP00000280704\n",
    "PGK1,LDHB,ENSP00000362413,ENSP00000229319\n",
    "PGK1,PGK2,ENSP00000362413,ENSP00000305995\n",
    "ENO1,ENO2,ENSP00000234590,ENSP00000229277\n",
    "LDHC,ENO1,ENSP00000280704,ENSP00000234590\n",
    "LDHB,ENO2,ENSP00000229319,ENSP00000229277\n",
    "LDHC,ENO2,ENSP00000280704,ENSP00000229277\n",
    "ENO3,ENO1,ENSP00000324105,ENSP00000234590\n",
    "PGK1,LDHC,ENSP00000362413,ENSP00000280704\n",
    "GPI,ME3,ENSP00000405573,ENSP00000352657\n",
    "PGK2,LDHB,ENSP00000305995,ENSP00000229319\n",
    "ME3,TPI1,ENSP00000352657,ENSP00000229270\"\"\"\n",
    "\n",
    "netData = dict()\n",
    "\n",
    "for line in networkStr.split(\"\\n\"):\n",
    "    \n",
    "    if not line.startswith(\"#\"):\n",
    "        info = line.split(\",\")\n",
    "        #insert node1\n",
    "        if info[0] in netData:\n",
    "            netData[info[0]].append(info[1])\n",
    "        else:\n",
    "            netData[info[0]] = [info[1]]\n",
    "        #insert node2\n",
    "        if info[1] in netData:\n",
    "            netData[info[1]].append(info[0])\n",
    "        else:\n",
    "            netData[info[1]] = [info[0]]\n",
    "        \n",
    "\n",
    "print(netData)\n",
    "\n",
    "print(\"\\nPKLR is directly connected to:\", netData[\"PKLR\"] )\n",
    "\n",
    "firstNeigh = netData[\"ME3\"]\n",
    "print(\"\\nME3 is directly connected to:\", firstNeigh  )\n",
    "\n",
    "secondNeigh = []\n",
    "for node in firstNeigh:\n",
    "    if node in netData: #important, the node might not have connections\n",
    "        neighbours = netData[node]\n",
    "        for n in neighbours:\n",
    "            if n not in secondNeigh and  n not in firstNeigh and n != \"ME3\":\n",
    "                secondNeigh.append(n)\n",
    "            \n",
    "print(\"\\nME3's second neighbours:\", secondNeigh  )"
   ],
   "outputs": [
    {
     "output_type": "stream",
     "name": "stdout",
     "text": [
      "{'ENO1': ['TPI1', 'PKLR', 'PGK1', 'PGK2', 'GPI', 'LDHB', 'ENO2', 'LDHC', 'ENO3'], 'TPI1': ['ENO1', 'PGK1', 'GPI', 'ENO2', 'PGK2', 'ENO3', 'PKLR', 'LDHB', 'LDHC', 'ME3'], 'PKLR': ['ENO1', 'ENO3', 'ENO2', 'GPI', 'LDHB', 'LDHC', 'TPI1', 'PGK1', 'PGK2', 'ME3'], 'ENO3': ['PKLR', 'PGK1', 'PGK2', 'TPI1', 'GPI', 'ENO2', 'LDHB', 'LDHC', 'ENO1'], 'PGK1': ['ENO1', 'TPI1', 'ENO3', 'ENO2', 'PKLR', 'GPI', 'LDHB', 'PGK2', 'LDHC'], 'GPI': ['TPI1', 'PKLR', 'ENO3', 'ENO2', 'PGK1', 'PGK2', 'ENO1', 'LDHB', 'LDHC', 'ME3'], 'ENO2': ['PKLR', 'PGK1', 'TPI1', 'PGK2', 'GPI', 'ENO3', 'ENO1', 'LDHB', 'LDHC'], 'PGK2': ['ENO1', 'ENO3', 'TPI1', 'ENO2', 'PKLR', 'GPI', 'LDHC', 'PGK1', 'LDHB'], 'LDHB': ['PKLR', 'ME3', 'GPI', 'ENO3', 'ENO1', 'TPI1', 'PGK1', 'ENO2', 'PGK2'], 'LDHC': ['PKLR', 'ME3', 'GPI', 'ENO3', 'TPI1', 'PGK2', 'ENO1', 'ENO2', 'PGK1'], 'ME3': ['PKLR', 'LDHB', 'LDHC', 'GPI', 'TPI1']}\n",
      "\n",
      "PKLR is directly connected to: ['ENO1', 'ENO3', 'ENO2', 'GPI', 'LDHB', 'LDHC', 'TPI1', 'PGK1', 'PGK2', 'ME3']\n",
      "\n",
      "ME3 is directly connected to: ['PKLR', 'LDHB', 'LDHC', 'GPI', 'TPI1']\n",
      "\n",
      "ME3's second neighbours: ['ENO1', 'ENO3', 'ENO2', 'PGK1', 'PGK2']\n"
     ]
    }
   ],
   "metadata": {}
  },
  {
   "cell_type": "markdown",
   "source": [
    "</div>"
   ],
   "metadata": {}
  }
 ],
 "metadata": {
  "celltoolbar": "Edit Metadata",
  "kernelspec": {
   "display_name": "Python 3",
   "language": "python",
   "name": "python3"
  },
  "language_info": {
   "codemirror_mode": {
    "name": "ipython",
    "version": 3
   },
   "file_extension": ".py",
   "mimetype": "text/x-python",
   "name": "python",
   "nbconvert_exporter": "python",
   "pygments_lexer": "ipython3",
   "version": "3.6.9"
  }
 },
 "nbformat": 4,
 "nbformat_minor": 2
}