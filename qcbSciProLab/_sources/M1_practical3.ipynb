{
 "cells": [
  {
   "cell_type": "markdown",
   "source": [
    "# Module 1, Practical 3\n",
    "\n",
    "In this practical we will work with lists and tuples.\n",
    "\n",
    "## Lists\n",
    "\n",
    "Python lists are **ordered** collections of (homogeneous) objects, but they can hold also non-homogeneous data. List are **mutable objects**. Elements of the collection are specified within two square brackets **[]** and are comma separated.\n",
    "\n",
    "We can use the function print to print the content of lists. Some examples of list definitions follow:"
   ],
   "metadata": {}
  },
  {
   "cell_type": "code",
   "execution_count": 1,
   "source": [
    "my_first_list = [1,2,3] \n",
    "print(\"first:\" , my_first_list)\n",
    "\n",
    "my_second_list = [1,2,3,1,3] #elements can appear several times\n",
    "print(\"second: \", my_second_list)\n",
    "\n",
    "fruits = [\"apple\", \"pear\", \"peach\", \"strawberry\", \"cherry\"] #elements can be strings\n",
    "print(\"fruits:\", fruits)\n",
    "\n",
    "an_empty_list = []\n",
    "print(\"empty:\" , an_empty_list)\n",
    "\n",
    "another_empty_list = list()\n",
    "print(\"another empty:\", another_empty_list)\n",
    "\n",
    "a_list_containing_other_lists = [[1,2], [3,4,5,6]] #elements can be other lists\n",
    "print(\"list of lists:\", a_list_containing_other_lists)\n",
    "\n",
    "my_final_example = [my_first_list, a_list_containing_other_lists]\n",
    "print(\"a list of lists of lists:\", my_final_example)\n",
    "\n"
   ],
   "outputs": [
    {
     "output_type": "stream",
     "name": "stdout",
     "text": [
      "first: [1, 2, 3]\n",
      "second:  [1, 2, 3, 1, 3]\n",
      "fruits: ['apple', 'pear', 'peach', 'strawberry', 'cherry']\n",
      "empty: []\n",
      "another empty: []\n",
      "list of lists: [[1, 2], [3, 4, 5, 6]]\n",
      "a list of lists of lists: [[1, 2, 3], [[1, 2], [3, 4, 5, 6]]]\n"
     ]
    }
   ],
   "metadata": {}
  },
  {
   "cell_type": "markdown",
   "source": [
    "### Operators for lists\n",
    "\n",
    "Python provides several operators to handle lists. The following operators behave like on strings (**remember that, as in strings, the first position is 0!**):\n",
    "\n",
    "![i1](img/pract3/operators1.png)\n",
    "\n",
    "While this **in** operator requires that the whole tested obj is present in the list\n",
    "\n",
    "![i2](img/pract3/operators2.png)\n",
    "\n",
    "and \n",
    "\n",
    "![i3](img/pract3/operators3.png)\n",
    "\n",
    "can also change the corresponding value of the list (**lists are mutable objects**).\n",
    "\n",
    "Let's see some examples."
   ],
   "metadata": {}
  },
  {
   "cell_type": "code",
   "execution_count": 2,
   "source": [
    "A = [1, 2, 3 ]\n",
    "B = [1, 2, 3, 1, 2]\n",
    "\n",
    "print(\"A is a \", type(A))\n",
    "\n",
    "print(A, \" has length: \", len(A))\n",
    "print(\"A[0]: \", A[0], \" A[1]:\", A[1], \" A[-1]:\", A[-1])\n",
    "\n",
    "print(B, \" has length: \", len(B))\n",
    "print(\"Is A equal to B?\", A == B)\n",
    "\n",
    "C = A + [1, 2]\n",
    "print(C)\n",
    "print(\"Is C equal to B?\", B == C)   #same content\n",
    "print(\"Is C the same object as B?\", B is C) #different objects\n",
    "D = [1, 2, 3]*8 \n",
    "print(D)\n",
    "\n",
    "E = D[12:18] #slicing\n",
    "print(E)\n",
    "print(\"Is A*2 equal to E?\", A*2 == E)\n"
   ],
   "outputs": [
    {
     "output_type": "stream",
     "name": "stdout",
     "text": [
      "A is a  <class 'list'>\n",
      "[1, 2, 3]  has length:  3\n",
      "A[0]:  1  A[1]: 2  A[-1]: 3\n",
      "[1, 2, 3, 1, 2]  has length:  5\n",
      "Is A equal to B? False\n",
      "[1, 2, 3, 1, 2]\n",
      "Is C equal to B? True\n",
      "Is C the same object as B? False\n",
      "[1, 2, 3, 1, 2, 3, 1, 2, 3, 1, 2, 3, 1, 2, 3, 1, 2, 3, 1, 2, 3, 1, 2, 3]\n",
      "[1, 2, 3, 1, 2, 3]\n",
      "Is A*2 equal to E? True\n"
     ]
    }
   ],
   "metadata": {}
  },
  {
   "cell_type": "code",
   "execution_count": 3,
   "source": [
    "A = [1, 2, 3, 4, 5, 6]\n",
    "B = [1, 3, 5]\n",
    "print(\"A:\", A)\n",
    "print(\"B:\", B)\n",
    "\n",
    "print(\"Is B in A?\", B in A)\n",
    "print(\"A\\'s ID:\", id(A))\n",
    "A[5] = [1,3,5] #we can add elements\n",
    "print(A)\n",
    "print(\"A\\'s ID:\", id(A)) #same as before! why? \n",
    "print(\"A has length:\", len(A))\n",
    "print(\"Is now B in A?\", B in A)"
   ],
   "outputs": [
    {
     "output_type": "stream",
     "name": "stdout",
     "text": [
      "A: [1, 2, 3, 4, 5, 6]\n",
      "B: [1, 3, 5]\n",
      "Is B in A? False\n",
      "A's ID: 139779855942920\n",
      "[1, 2, 3, 4, 5, [1, 3, 5]]\n",
      "A's ID: 139779855942920\n",
      "A has length: 6\n",
      "Is now B in A? True\n"
     ]
    }
   ],
   "metadata": {}
  },
  {
   "cell_type": "markdown",
   "source": [
    "<div class=\"alert alert-warning\">\n",
    "\n",
    "**Note:** When **indexing**, do not exceed the list boundaries (or you will be prompted a ```list index out of range``` error).\n",
    "\n",
    "</div>\n",
    "\n",
    "Consider the following example:"
   ],
   "metadata": {}
  },
  {
   "cell_type": "code",
   "execution_count": 4,
   "source": [
    "A = [1, 2, 3, 4, 5, 6]\n",
    "print(\"A has length:\", len(A))\n",
    "\n",
    "print(\"First element:\", A[0])\n",
    "print(\"7th-element: \", A[6])"
   ],
   "outputs": [
    {
     "output_type": "stream",
     "name": "stdout",
     "text": [
      "A has length: 6\n",
      "First element: 1\n"
     ]
    },
    {
     "output_type": "error",
     "ename": "IndexError",
     "evalue": "list index out of range",
     "traceback": [
      "\u001b[0;31m---------------------------------------------------------------------------\u001b[0m",
      "\u001b[0;31mIndexError\u001b[0m                                Traceback (most recent call last)",
      "\u001b[0;32m<ipython-input-4-699e5f04cae0>\u001b[0m in \u001b[0;36m<module>\u001b[0;34m\u001b[0m\n\u001b[1;32m      3\u001b[0m \u001b[0;34m\u001b[0m\u001b[0m\n\u001b[1;32m      4\u001b[0m \u001b[0mprint\u001b[0m\u001b[0;34m(\u001b[0m\u001b[0;34m\"First element:\"\u001b[0m\u001b[0;34m,\u001b[0m \u001b[0mA\u001b[0m\u001b[0;34m[\u001b[0m\u001b[0;36m0\u001b[0m\u001b[0;34m]\u001b[0m\u001b[0;34m)\u001b[0m\u001b[0;34m\u001b[0m\u001b[0;34m\u001b[0m\u001b[0m\n\u001b[0;32m----> 5\u001b[0;31m \u001b[0mprint\u001b[0m\u001b[0;34m(\u001b[0m\u001b[0;34m\"7th-element: \"\u001b[0m\u001b[0;34m,\u001b[0m \u001b[0mA\u001b[0m\u001b[0;34m[\u001b[0m\u001b[0;36m6\u001b[0m\u001b[0;34m]\u001b[0m\u001b[0;34m)\u001b[0m\u001b[0;34m\u001b[0m\u001b[0;34m\u001b[0m\u001b[0m\n\u001b[0m",
      "\u001b[0;31mIndexError\u001b[0m: list index out of range"
     ]
    }
   ],
   "metadata": {}
  },
  {
   "cell_type": "markdown",
   "source": [
    "It is actually fine to exceed boundaries with slicing instead:"
   ],
   "metadata": {}
  },
  {
   "cell_type": "code",
   "execution_count": 5,
   "source": [
    "A = [1, 2, 3, 4, 5, 6]\n",
    "print(\"A has length:\", len(A))\n",
    "\n",
    "print(\"First element:\", A[0])\n",
    "print(\"last element: \", A[-1])\n",
    "\n",
    "print(\"3rd to 10th: \", A[2:10])\n",
    "\n",
    "print(\"8th to 11th:\", A[7:11])"
   ],
   "outputs": [
    {
     "output_type": "stream",
     "name": "stdout",
     "text": [
      "A has length: 6\n",
      "First element: 1\n",
      "last element:  6\n",
      "3rd to 10th:  [3, 4, 5, 6]\n",
      "8th to 11th: []\n"
     ]
    }
   ],
   "metadata": {}
  },
  {
   "cell_type": "markdown",
   "source": [
    "**Example**:\n",
    "Consider the matrix $M = \\begin{bmatrix}1 & 2 & 3\\\\ 1 & 2 & 1\\\\ 1 & 1 & 3\\end{bmatrix}$ and the vector $v=[10, 5, 10]^T$. \n",
    "What is the matrix-vector product $M*v$? $$\\begin{bmatrix}1 & 2 & 3\\\\ 1 & 2 & 1\\\\ 1 & 1 & 3\\end{bmatrix}*[10,5,10]^T = [50, 30, 45]^T$$"
   ],
   "metadata": {}
  },
  {
   "cell_type": "code",
   "execution_count": 6,
   "source": [
    "M = [[1, 2, 3], [1, 2, 1], [1, 1, 3]]\n",
    "v = [10, 5, 10]\n",
    "prod = [0, 0 ,0] #at the beginning the product is the null vector\n",
    "\n",
    "prod[0]=M[0][0]*v[0] + M[0][1]*v[1] + M[0][2]*v[2]\n",
    "prod[1]=M[1][0]*v[0] + M[1][1]*v[1] + M[1][2]*v[2]\n",
    "prod[2]=M[2][0]*v[0] + M[2][1]*v[1] + M[2][2]*v[2]\n",
    "\n",
    "print(\"M: \", M)\n",
    "print(\"v: \", v)\n",
    "print(\"M*v: \", prod)\n",
    "\n"
   ],
   "outputs": [
    {
     "output_type": "stream",
     "name": "stdout",
     "text": [
      "M:  [[1, 2, 3], [1, 2, 1], [1, 1, 3]]\n",
      "v:  [10, 5, 10]\n",
      "M*v:  [50, 30, 45]\n"
     ]
    }
   ],
   "metadata": {}
  },
  {
   "cell_type": "markdown",
   "source": [
    "### Methods of the class list\n",
    "\n",
    "The class list has some methods that can be used to operate on it. Recall from the lecture the following methods:\n",
    "\n",
    "![i4](img/pract3/list_methods.png)\n",
    "\n",
    "<div class=\"alert alert-info\">\n",
    "\n",
    "**Note:** \n",
    "Lists are **mutable objects** and therefore virtually all the previous methods (except **count**) do not have an output value, but they **modify** the list.\n",
    "\n",
    "</div>\n",
    "Some usage examples follow:"
   ],
   "metadata": {}
  },
  {
   "cell_type": "code",
   "execution_count": 7,
   "source": [
    "#A numeric list\n",
    "A = [1, 2, 3]\n",
    "print(A)\n",
    "print(\"A has id:\", id(A)) \n",
    "A.append(72) #appends one and only one object\n",
    "print(A)\n",
    "print(\"A has id:\", id(A)) \n",
    "A.extend([1, 5, 124, 99]) #adds all these objects, one after the other.\n",
    "print(A)\n",
    "A.reverse() #NOTE: NO RETURN VALUE!!!\n",
    "print(A)\n",
    "A.sort()\n",
    "print(A)\n",
    "print(\"Min value: \", A[0]) # In this simple case, could have used min(A)\n",
    "print(\"Max value: \", A[-1]) #In this simple case, could have used max(A)\n",
    "print(\"Number 1 appears:\", A.count(1), \" times\")\n",
    "print(\"While number 837: \", A.count(837))\n",
    "\n",
    "print(\"\\nDone with numbers, let's go strings...\\n\")\n",
    "#A string list\n",
    "fruits = [\"apple\", \"banana\", \"pineapple\", \"cherry\",\"pear\", \"almond\", \"orange\"]\n",
    "#Let's get a reverse lexicographic order:\n",
    "print(fruits)\n",
    "fruits.sort()\n",
    "fruits.reverse() # equivalent to: fruits.sort(reverse=True)\n",
    "print(fruits)\n",
    "fruits.remove(\"banana\")\n",
    "print(fruits)\n",
    "fruits.insert(5, \"wild apple\") #put wild apple after apple.\n",
    "print(fruits)\n",
    "print(\"\\nSorted fruits:\")\n",
    "fruits.sort() # does not return anything. Modifies list!\n",
    "print(fruits)"
   ],
   "outputs": [
    {
     "output_type": "stream",
     "name": "stdout",
     "text": [
      "[1, 2, 3]\n",
      "A has id: 139779846805128\n",
      "[1, 2, 3, 72]\n",
      "A has id: 139779846805128\n",
      "[1, 2, 3, 72, 1, 5, 124, 99]\n",
      "[99, 124, 5, 1, 72, 3, 2, 1]\n",
      "[1, 1, 2, 3, 5, 72, 99, 124]\n",
      "Min value:  1\n",
      "Max value:  124\n",
      "Number 1 appears: 2  times\n",
      "While number 837:  0\n",
      "\n",
      "Done with numbers, let's go strings...\n",
      "\n",
      "['apple', 'banana', 'pineapple', 'cherry', 'pear', 'almond', 'orange']\n",
      "['pineapple', 'pear', 'orange', 'cherry', 'banana', 'apple', 'almond']\n",
      "['pineapple', 'pear', 'orange', 'cherry', 'apple', 'almond']\n",
      "['pineapple', 'pear', 'orange', 'cherry', 'apple', 'wild apple', 'almond']\n",
      "\n",
      "Sorted fruits:\n",
      "['almond', 'apple', 'cherry', 'orange', 'pear', 'pineapple', 'wild apple']\n"
     ]
    }
   ],
   "metadata": {}
  },
  {
   "cell_type": "markdown",
   "source": [
    "An important thing to remember that we mentioned already a couple of times is that lists **are mutable objects** and therefore **virtually all the previous methods (except count) do not have an output value**:"
   ],
   "metadata": {}
  },
  {
   "cell_type": "code",
   "execution_count": 8,
   "source": [
    "A = [\"A\", \"B\", \"C\"]\n",
    "\n",
    "print(\"A:\", A)\n",
    "\n",
    "A_new = A.append(\"D\")\n",
    "\n",
    "print(\"A:\", A)\n",
    "\n",
    "print(\"A_new:\", A_new)\n",
    "\n",
    "#A_new is None. We cannot apply methods to it...\n",
    "print(A_new is None)\n",
    "print(\"A_new has \" , A_new.count(\"D\"), \" Ds\")"
   ],
   "outputs": [
    {
     "output_type": "stream",
     "name": "stdout",
     "text": [
      "A: ['A', 'B', 'C']\n",
      "A: ['A', 'B', 'C', 'D']\n",
      "A_new: None\n",
      "True\n"
     ]
    },
    {
     "output_type": "error",
     "ename": "AttributeError",
     "evalue": "'NoneType' object has no attribute 'count'",
     "traceback": [
      "\u001b[0;31m---------------------------------------------------------------------------\u001b[0m",
      "\u001b[0;31mAttributeError\u001b[0m                            Traceback (most recent call last)",
      "\u001b[0;32m<ipython-input-8-114913bce16b>\u001b[0m in \u001b[0;36m<module>\u001b[0;34m\u001b[0m\n\u001b[1;32m     11\u001b[0m \u001b[0;31m#A_new is None. We cannot apply methods to it...\u001b[0m\u001b[0;34m\u001b[0m\u001b[0;34m\u001b[0m\u001b[0;34m\u001b[0m\u001b[0m\n\u001b[1;32m     12\u001b[0m \u001b[0mprint\u001b[0m\u001b[0;34m(\u001b[0m\u001b[0mA_new\u001b[0m \u001b[0;32mis\u001b[0m \u001b[0;32mNone\u001b[0m\u001b[0;34m)\u001b[0m\u001b[0;34m\u001b[0m\u001b[0;34m\u001b[0m\u001b[0m\n\u001b[0;32m---> 13\u001b[0;31m \u001b[0mprint\u001b[0m\u001b[0;34m(\u001b[0m\u001b[0;34m\"A_new has \"\u001b[0m \u001b[0;34m,\u001b[0m \u001b[0mA_new\u001b[0m\u001b[0;34m.\u001b[0m\u001b[0mcount\u001b[0m\u001b[0;34m(\u001b[0m\u001b[0;34m\"D\"\u001b[0m\u001b[0;34m)\u001b[0m\u001b[0;34m,\u001b[0m \u001b[0;34m\" Ds\"\u001b[0m\u001b[0;34m)\u001b[0m\u001b[0;34m\u001b[0m\u001b[0;34m\u001b[0m\u001b[0m\n\u001b[0m",
      "\u001b[0;31mAttributeError\u001b[0m: 'NoneType' object has no attribute 'count'"
     ]
    }
   ],
   "metadata": {}
  },
  {
   "cell_type": "markdown",
   "source": [
    "<div class=\"alert alert-warning\">\n",
    "**Some things to remember** \n",
    "\n",
    "1. append and extend work quite differently:"
   ],
   "metadata": {}
  },
  {
   "cell_type": "code",
   "execution_count": null,
   "source": [
    "A = [1, 2, 3]\n",
    "A.extend([4, 5])\n",
    "print(A)\n",
    "B = [1, 2, 3]\n",
    "B.append([4,5])\n",
    "print(B)"
   ],
   "outputs": [],
   "metadata": {}
  },
  {
   "cell_type": "markdown",
   "source": [
    "2. To remove an object it must exist:"
   ],
   "metadata": {}
  },
  {
   "cell_type": "code",
   "execution_count": null,
   "source": [
    "A = [1,2,3, [[4],[5,6]], 8]\n",
    "print(A)\n",
    "A.remove(2)\n",
    "print(A)\n",
    "A.remove([[4],[5,6]])\n",
    "print(A)\n",
    "A.remove(7)"
   ],
   "outputs": [],
   "metadata": {}
  },
  {
   "cell_type": "markdown",
   "source": [
    "3. To sort a list, its elements must be sortable (i.e. homogeneous)!"
   ],
   "metadata": {}
  },
  {
   "cell_type": "code",
   "execution_count": 9,
   "source": [
    "A = [4,3, 1,7, 2]\n",
    "print(\"A:\", A)\n",
    "A.sort()\n",
    "print(\"A sorted:\",  A)\n",
    "A.append(\"banana\")\n",
    "print(\"A:\", A)\n",
    "A.sort()\n",
    "print(\"A:\", A)\n"
   ],
   "outputs": [
    {
     "output_type": "stream",
     "name": "stdout",
     "text": [
      "A: [4, 3, 1, 7, 2]\n",
      "A sorted: [1, 2, 3, 4, 7]\n",
      "A: [1, 2, 3, 4, 7, 'banana']\n"
     ]
    },
    {
     "output_type": "error",
     "ename": "TypeError",
     "evalue": "'<' not supported between instances of 'str' and 'int'",
     "traceback": [
      "\u001b[0;31m---------------------------------------------------------------------------\u001b[0m",
      "\u001b[0;31mTypeError\u001b[0m                                 Traceback (most recent call last)",
      "\u001b[0;32m<ipython-input-9-b37960bcb6f2>\u001b[0m in \u001b[0;36m<module>\u001b[0;34m\u001b[0m\n\u001b[1;32m      5\u001b[0m \u001b[0mA\u001b[0m\u001b[0;34m.\u001b[0m\u001b[0mappend\u001b[0m\u001b[0;34m(\u001b[0m\u001b[0;34m\"banana\"\u001b[0m\u001b[0;34m)\u001b[0m\u001b[0;34m\u001b[0m\u001b[0;34m\u001b[0m\u001b[0m\n\u001b[1;32m      6\u001b[0m \u001b[0mprint\u001b[0m\u001b[0;34m(\u001b[0m\u001b[0;34m\"A:\"\u001b[0m\u001b[0;34m,\u001b[0m \u001b[0mA\u001b[0m\u001b[0;34m)\u001b[0m\u001b[0;34m\u001b[0m\u001b[0;34m\u001b[0m\u001b[0m\n\u001b[0;32m----> 7\u001b[0;31m \u001b[0mA\u001b[0m\u001b[0;34m.\u001b[0m\u001b[0msort\u001b[0m\u001b[0;34m(\u001b[0m\u001b[0;34m)\u001b[0m\u001b[0;34m\u001b[0m\u001b[0;34m\u001b[0m\u001b[0m\n\u001b[0m\u001b[1;32m      8\u001b[0m \u001b[0mprint\u001b[0m\u001b[0;34m(\u001b[0m\u001b[0;34m\"A:\"\u001b[0m\u001b[0;34m,\u001b[0m \u001b[0mA\u001b[0m\u001b[0;34m)\u001b[0m\u001b[0;34m\u001b[0m\u001b[0;34m\u001b[0m\u001b[0m\n",
      "\u001b[0;31mTypeError\u001b[0m: '<' not supported between instances of 'str' and 'int'"
     ]
    }
   ],
   "metadata": {
    "scrolled": true
   }
  },
  {
   "cell_type": "markdown",
   "source": [
    "</div>"
   ],
   "metadata": {}
  },
  {
   "cell_type": "markdown",
   "source": [
    "<div class=\"alert alert-info\">\n",
    "\n",
    "**Important to remember:** \n",
    "\n",
    "Lists are **mutable objects** and this has some consequences!\n",
    "Since lists are mutable objects, they hold references to objects rather than objects.\n",
    "\n",
    "Take a look at the following examples:"
   ],
   "metadata": {}
  },
  {
   "cell_type": "code",
   "execution_count": 10,
   "source": [
    "l1 = [1, 2]\n",
    "l2 = [4, 3]\n",
    "LL = [l1, l2]\n",
    "print(\"l1:\", l1)\n",
    "print(\"l2:\",l2)\n",
    "print(\"LL:\", LL)\n",
    "l1.append(7)\n",
    "print(\"\\nAppending 7 to l1...\")\n",
    "print(\"l1:\", l1)\n",
    "print(\"LL now: \", LL)\n",
    "\n",
    "LL[0][1] = -1\n",
    "print(\"\\nSetting LL[0][1]=-1...\")\n",
    "print(\"LL now:\" , LL)\n",
    "print(\"l1 now\", l1)\n",
    "#but the list can point also to a different object, \n",
    "#without affecting the original list.\n",
    "LL[0] = 100\n",
    "print(\"\\nSetting LL[0] = 100\")\n",
    "print(\"LL now:\", LL)\n",
    "print(\"l1 now\", l1)\n"
   ],
   "outputs": [
    {
     "output_type": "stream",
     "name": "stdout",
     "text": [
      "l1: [1, 2]\n",
      "l2: [4, 3]\n",
      "LL: [[1, 2], [4, 3]]\n",
      "\n",
      "Appending 7 to l1...\n",
      "l1: [1, 2, 7]\n",
      "LL now:  [[1, 2, 7], [4, 3]]\n",
      "\n",
      "Setting LL[0][1]=-1...\n",
      "LL now: [[1, -1, 7], [4, 3]]\n",
      "l1 now [1, -1, 7]\n",
      "\n",
      "Setting LL[0] = 100\n",
      "LL now: [100, [4, 3]]\n",
      "l1 now [1, -1, 7]\n"
     ]
    }
   ],
   "metadata": {}
  },
  {
   "cell_type": "markdown",
   "source": [
    "\n",
    "\n",
    "**Making copies**\n",
    "\n",
    "There are several ways to copy a list into another. Let's see the difference between = and [:]. Note what happens when lists get complicated. "
   ],
   "metadata": {}
  },
  {
   "cell_type": "code",
   "execution_count": 11,
   "source": [
    "A = [\"hi\", \"there\"]\n",
    "B = A \n",
    "print(\"A:\", A)\n",
    "print(\"B:\", B)\n",
    "A.extend([\"from\", \"python\"])\n",
    "print(\"A now: \", A)\n",
    "print(\"B now: \", B)\n",
    "\n",
    "print(\"\\n---- copy example -------\")\n",
    "#Let's make a distinct copy of A.\n",
    "C = A[:] #all the elements of A have been copied in C\n",
    "print(\"C:\", C)\n",
    "A[3] = \"java\"\n",
    "print(\"A now:\", A)\n",
    "print(\"C now:\", C)\n",
    "\n",
    "print(\"\\n---- be careful though -------\")\n",
    "#Watch out though that this is a shallow copy...\n",
    "D = [A, A]\n",
    "E = D[:]\n",
    "print(\"D:\", D)\n",
    "print(\"E:\", E)\n",
    "\n",
    "D[0][0] = \"hello\"\n",
    "print(\"\\nD now:\", D)\n",
    "print(\"E now:\", E)\n",
    "print(\"A now:\", A)"
   ],
   "outputs": [
    {
     "output_type": "stream",
     "name": "stdout",
     "text": [
      "A: ['hi', 'there']\n",
      "B: ['hi', 'there']\n",
      "A now:  ['hi', 'there', 'from', 'python']\n",
      "B now:  ['hi', 'there', 'from', 'python']\n",
      "\n",
      "---- copy example -------\n",
      "C: ['hi', 'there', 'from', 'python']\n",
      "A now: ['hi', 'there', 'from', 'java']\n",
      "C now: ['hi', 'there', 'from', 'python']\n",
      "\n",
      "---- be careful though -------\n",
      "D: [['hi', 'there', 'from', 'java'], ['hi', 'there', 'from', 'java']]\n",
      "E: [['hi', 'there', 'from', 'java'], ['hi', 'there', 'from', 'java']]\n",
      "\n",
      "D now: [['hello', 'there', 'from', 'java'], ['hello', 'there', 'from', 'java']]\n",
      "E now: [['hello', 'there', 'from', 'java'], ['hello', 'there', 'from', 'java']]\n",
      "A now: ['hello', 'there', 'from', 'java']\n"
     ]
    }
   ],
   "metadata": {}
  },
  {
   "cell_type": "markdown",
   "source": [
    "**Equality and identity**\n",
    "\n",
    "Two different operators exist to check the **equality** of two lists (==) and the **identity** of two lists (is)."
   ],
   "metadata": {}
  },
  {
   "cell_type": "code",
   "execution_count": 12,
   "source": [
    "A = [1, 2, 3]\n",
    "B = A\n",
    "C = [1, 2, 3]\n",
    "print(\"Is A equal to B?\", A == B)\n",
    "print(\"Is A actually B?\", A is B)\n",
    "print(\"Is A equal to C?\", A == C)\n",
    "print(\"Is A actually C?\", A is C)\n",
    "#in fact:\n",
    "print(\"\\nA's id:\", id(A))\n",
    "print(\"B's id:\", id(B))\n",
    "print(\"C's id:\", id(C))\n",
    "#just to confirm that:\n",
    "A.append(4)\n",
    "B.append(5)\n",
    "print(\"\\nA now: \", A)\n",
    "print(\"B now: \", B)\n",
    "print(\"C now:\", C)"
   ],
   "outputs": [
    {
     "output_type": "stream",
     "name": "stdout",
     "text": [
      "Is A equal to B? True\n",
      "Is A actually B? True\n",
      "Is A equal to C? True\n",
      "Is A actually C? False\n",
      "\n",
      "A's id: 139779847198600\n",
      "B's id: 139779847198600\n",
      "C's id: 139779847159368\n",
      "\n",
      "A now:  [1, 2, 3, 4, 5]\n",
      "B now:  [1, 2, 3, 4, 5]\n",
      "C now: [1, 2, 3]\n"
     ]
    }
   ],
   "metadata": {}
  },
  {
   "cell_type": "markdown",
   "source": [
    "\n",
    "</div>\n",
    "\n",
    "### From strings to lists, the ```split``` method\n",
    "\n",
    "Strings have a method *split* that can literally split the string at specific characters. \n",
    "\n",
    "**Example** \n",
    "\n",
    "Recall the protein seen in the previous practical: \n",
    "\n",
    "```\n",
    "chain_a = \"\"\"SSSVPSQKTYQGSYGFRLGFLHSGTAKSVTCTYSPALNKM\n",
    "FCQLAKTCPVQLWVDSTPPPGTRVRAMAIYKQSQHMTEVV\n",
    "RRCPHHERCSDSDGLAPPQHLIRVEGNLRVEYLDDRNTFR\n",
    "HSVVVPYEPPEVGSDCTTIHYNYMCNSSCMGGMNRRPILT\n",
    "IITLEDSSGNLLGRNSFEVRVCACPGRDRRTEEENLRKKG\n",
    "EPHHELPPGSTKRALPNNT\"\"\"\n",
    "```\n",
    "\n",
    "how can we split it into several lines?"
   ],
   "metadata": {}
  },
  {
   "cell_type": "code",
   "execution_count": 13,
   "source": [
    "chain_a = \"\"\"SSSVPSQKTYQGSYGFRLGFLHSGTAKSVTCTYSPALNKM\n",
    "FCQLAKTCPVQLWVDSTPPPGTRVRAMAIYKQSQHMTEVV\n",
    "RRCPHHERCSDSDGLAPPQHLIRVEGNLRVEYLDDRNTFR\n",
    "HSVVVPYEPPEVGSDCTTIHYNYMCNSSCMGGMNRRPILT\n",
    "IITLEDSSGNLLGRNSFEVRVCACPGRDRRTEEENLRKKG\n",
    "EPHHELPPGSTKRALPNNT\"\"\"\n",
    "\n",
    "lines = chain_a.split('\\n')\n",
    "print(\"Original sequence:\")\n",
    "print( chain_a, \"\\n\") #some spacing to keep things clear\n",
    "print(\"line by line:\")\n",
    "# write the following and you will appreciate loops! :-)\n",
    "print(\"1st line:\" ,lines[0])\n",
    "print(\"2nd line:\" ,lines[1])\n",
    "print(\"3rd line:\" ,lines[2])\n",
    "print(\"4th line:\" ,lines[3])\n",
    "print(\"5th line:\" ,lines[4])\n",
    "print(\"6th line:\" ,lines[5])\n",
    "\n",
    "print(\"\\nSplit the 1st line in correspondence of FRL:\\n\",lines[0].split(\"FRL\"))"
   ],
   "outputs": [
    {
     "output_type": "stream",
     "name": "stdout",
     "text": [
      "Original sequence:\n",
      "SSSVPSQKTYQGSYGFRLGFLHSGTAKSVTCTYSPALNKM\n",
      "FCQLAKTCPVQLWVDSTPPPGTRVRAMAIYKQSQHMTEVV\n",
      "RRCPHHERCSDSDGLAPPQHLIRVEGNLRVEYLDDRNTFR\n",
      "HSVVVPYEPPEVGSDCTTIHYNYMCNSSCMGGMNRRPILT\n",
      "IITLEDSSGNLLGRNSFEVRVCACPGRDRRTEEENLRKKG\n",
      "EPHHELPPGSTKRALPNNT \n",
      "\n",
      "line by line:\n",
      "1st line: SSSVPSQKTYQGSYGFRLGFLHSGTAKSVTCTYSPALNKM\n",
      "2nd line: FCQLAKTCPVQLWVDSTPPPGTRVRAMAIYKQSQHMTEVV\n",
      "3rd line: RRCPHHERCSDSDGLAPPQHLIRVEGNLRVEYLDDRNTFR\n",
      "4th line: HSVVVPYEPPEVGSDCTTIHYNYMCNSSCMGGMNRRPILT\n",
      "5th line: IITLEDSSGNLLGRNSFEVRVCACPGRDRRTEEENLRKKG\n",
      "6th line: EPHHELPPGSTKRALPNNT\n",
      "\n",
      "Split the 1st line in correspondence of FRL:\n",
      " ['SSSVPSQKTYQGSYG', 'GFLHSGTAKSVTCTYSPALNKM']\n"
     ]
    }
   ],
   "metadata": {}
  },
  {
   "cell_type": "markdown",
   "source": [
    "**Note that in the last instruction, the substring FRL is disappeared (as happened to the newline)**. \n",
    "\n",
    "\n",
    "### And back to strings with the ```join``` method\n",
    "\n",
    "Given a list, one can join the elements of the list together into a string by using the ```join``` method of the class string. The syntax is the following: *str.join(list)* which joins together all the elements in the list in a string separating them with the string *str*. \n",
    "\n",
    "**Example** \n",
    "Given the list ['Sept', '30th', '2020', '11:30'], let's combine all its elements in a string joining the elements with a dash (\"-\") and print them. Let's finally join them with a tab (\"\\\\t\") and print them. "
   ],
   "metadata": {}
  },
  {
   "cell_type": "code",
   "execution_count": 14,
   "source": [
    "vals = ['Sept', '30th', '2020', '11:30']\n",
    "print(vals)\n",
    "myStr = \"-\".join(vals)\n",
    "print(\"\\n\" + myStr)\n",
    "myStr = \"\\t\".join(vals)\n",
    "print(\"\\n\" + myStr)"
   ],
   "outputs": [
    {
     "output_type": "stream",
     "name": "stdout",
     "text": [
      "['Sept', '30th', '2020', '11:30']\n",
      "\n",
      "Sept-30th-2020-11:30\n",
      "\n",
      "Sept\t30th\t2020\t11:30\n"
     ]
    }
   ],
   "metadata": {}
  },
  {
   "cell_type": "markdown",
   "source": [
    "## Tuples\n",
    "\n",
    "Tuples are the **immutable** version of lists (i.e. it is not possible to change their content without actually changing the object). They are sequential collections of objects, and elements of tuples are assumed to be in a particular order. They can hold heterogeneous information. They are defined with the brackets **()**. \n",
    "Some examples:"
   ],
   "metadata": {}
  },
  {
   "cell_type": "code",
   "execution_count": 15,
   "source": [
    "first_tuple = (1,2,3) \n",
    "print(first_tuple)\n",
    "\n",
    "second_tuple = (1,) #this contains one element only, but we need the comma!\n",
    "var = (1) #This is not a tuple!!!\n",
    "print(second_tuple, \" type:\", type(second_tuple))\n",
    "print(var, \" type:\", type(var))\n",
    "empty_tuple = () #fairly useless\n",
    "print(empty_tuple, \"\\n\")\n",
    "third_tuple = (\"January\", 1 ,2007) #heterogeneous info \n",
    "print(third_tuple)\n",
    "\n",
    "days = (third_tuple,(\"February\",2,1998), (\"March\",2,1978),(\"June\",12,1978))\n",
    "print(days, \"\\n\")\n",
    "\n",
    "#Remember tuples are immutable objects...\n",
    "print(\"Days has id: \", id(days))\n",
    "days = (\"Mon\",\"Tue\",\"Wed\",\"Thu\",\"Fri\",\"Sat\",\"Sun\")\n",
    "#...hence reassignment creates a new object\n",
    "print(\"Days now has id: \", id(days))\n"
   ],
   "outputs": [
    {
     "output_type": "stream",
     "name": "stdout",
     "text": [
      "(1, 2, 3)\n",
      "(1,)  type: <class 'tuple'>\n",
      "1  type: <class 'int'>\n",
      "() \n",
      "\n",
      "('January', 1, 2007)\n",
      "(('January', 1, 2007), ('February', 2, 1998), ('March', 2, 1978), ('June', 12, 1978)) \n",
      "\n",
      "Days has id:  139779908702520\n",
      "Days now has id:  139779855774080\n"
     ]
    }
   ],
   "metadata": {}
  },
  {
   "cell_type": "markdown",
   "source": [
    "The following operators work on tuples and they behave exactly as on lists:\n",
    "\n",
    "![i5](img/pract3/tuple_operators.png)"
   ],
   "metadata": {}
  },
  {
   "cell_type": "code",
   "execution_count": 16,
   "source": [
    "practical1 = (\"Wednesday\", \"23/09/2020\")\n",
    "practical2 = (\"Monday\", \"28/09/2020\")\n",
    "practical3 = (\"Wednesday\", \"30/09/2020\")\n",
    "\n",
    "#A tuple containing 3 tuples\n",
    "lectures = (practical1, practical2, practical3)\n",
    "#One tuple only\n",
    "mergedLectures = practical1 + practical2 + practical3  \n",
    "\n",
    "print(\"The first three lectures:\\n\", lectures, \"\\n\")\n",
    "print(\"mergedLectures:\\n\", mergedLectures)\n",
    "\n",
    "#This returns the whole tuple\n",
    "print(\"1st lecture was on: \", lectures[0], \"\\n\") \n",
    "#2 elements from the same tuple\n",
    "print(\"1st lecture was on \", mergedLectures[0], \", \", mergedLectures[1], \"\\n\") \n",
    "# Return type is tuple!\n",
    "print(\"3rd lecture was on: \", lectures[2]) \n",
    "#2 elements from the same tuple returned in tuple\n",
    "print(\"3rd lecture was on \", mergedLectures[4:], \"\\n\") \n"
   ],
   "outputs": [
    {
     "output_type": "stream",
     "name": "stdout",
     "text": [
      "The first three lectures:\n",
      " (('Wednesday', '23/09/2020'), ('Monday', '28/09/2020'), ('Wednesday', '30/09/2020')) \n",
      "\n",
      "mergedLectures:\n",
      " ('Wednesday', '23/09/2020', 'Monday', '28/09/2020', 'Wednesday', '30/09/2020')\n",
      "1st lecture was on:  ('Wednesday', '23/09/2020') \n",
      "\n",
      "1st lecture was on  Wednesday ,  23/09/2020 \n",
      "\n",
      "3rd lecture was on:  ('Wednesday', '30/09/2020')\n",
      "3rd lecture was on  ('Wednesday', '30/09/2020') \n",
      "\n"
     ]
    }
   ],
   "metadata": {}
  },
  {
   "cell_type": "markdown",
   "source": [
    "The following methods are available for tuples:\n",
    "\n",
    "![i6](img/pract3/tuple_methods.png)\n"
   ],
   "metadata": {}
  },
  {
   "cell_type": "code",
   "execution_count": 17,
   "source": [
    "practical1 = (\"Wednesday\", \"23/09/2020\")\n",
    "practical2 = (\"Monday\", \"28/09/2020\")\n",
    "practical3 = (\"Wednesday\", \"30/09/2020\")\n",
    "\n",
    "\n",
    "mergedLectures = practical1 + practical2 + practical3  #One tuple only\n",
    "print(mergedLectures.count(\"Wednesday\"), \" lectures were on Wednesday\")\n",
    "print(mergedLectures.count(\"Monday\"), \" lecture was on Monday\")\n",
    "print(mergedLectures.count(\"Friday\"), \" lectures was on Friday\")\n",
    "\n",
    "print(\"Index:\", practical2.index(\"Monday\"))\n",
    "#You cannot look for an element that does not exist\n",
    "print(\"Index:\", practical2.index(\"Wednesday\"))\n",
    "\n"
   ],
   "outputs": [
    {
     "output_type": "stream",
     "name": "stdout",
     "text": [
      "2  lectures were on Wednesday\n",
      "1  lecture was on Monday\n",
      "0  lectures was on Friday\n",
      "Index: 0\n"
     ]
    },
    {
     "output_type": "error",
     "ename": "ValueError",
     "evalue": "tuple.index(x): x not in tuple",
     "traceback": [
      "\u001b[0;31m---------------------------------------------------------------------------\u001b[0m",
      "\u001b[0;31mValueError\u001b[0m                                Traceback (most recent call last)",
      "\u001b[0;32m<ipython-input-17-f06c6edd5ecf>\u001b[0m in \u001b[0;36m<module>\u001b[0;34m\u001b[0m\n\u001b[1;32m     11\u001b[0m \u001b[0mprint\u001b[0m\u001b[0;34m(\u001b[0m\u001b[0;34m\"Index:\"\u001b[0m\u001b[0;34m,\u001b[0m \u001b[0mpractical2\u001b[0m\u001b[0;34m.\u001b[0m\u001b[0mindex\u001b[0m\u001b[0;34m(\u001b[0m\u001b[0;34m\"Monday\"\u001b[0m\u001b[0;34m)\u001b[0m\u001b[0;34m)\u001b[0m\u001b[0;34m\u001b[0m\u001b[0;34m\u001b[0m\u001b[0m\n\u001b[1;32m     12\u001b[0m \u001b[0;31m#You cannot look for an element that does not exist\u001b[0m\u001b[0;34m\u001b[0m\u001b[0;34m\u001b[0m\u001b[0;34m\u001b[0m\u001b[0m\n\u001b[0;32m---> 13\u001b[0;31m \u001b[0mprint\u001b[0m\u001b[0;34m(\u001b[0m\u001b[0;34m\"Index:\"\u001b[0m\u001b[0;34m,\u001b[0m \u001b[0mpractical2\u001b[0m\u001b[0;34m.\u001b[0m\u001b[0mindex\u001b[0m\u001b[0;34m(\u001b[0m\u001b[0;34m\"Wednesday\"\u001b[0m\u001b[0;34m)\u001b[0m\u001b[0;34m)\u001b[0m\u001b[0;34m\u001b[0m\u001b[0;34m\u001b[0m\u001b[0m\n\u001b[0m\u001b[1;32m     14\u001b[0m \u001b[0;34m\u001b[0m\u001b[0m\n",
      "\u001b[0;31mValueError\u001b[0m: tuple.index(x): x not in tuple"
     ]
    }
   ],
   "metadata": {}
  },
  {
   "cell_type": "markdown",
   "source": [
    "## Introduction to sets\n",
    "\n",
    "Python also includes a data type for **sets**. A set is an unordered collection with no duplicate elements. Basic uses include membership testing and eliminating duplicate entries. Set objects also support mathematical operations like union, intersection, difference, and symmetric difference.\n",
    "\n",
    "Curly braces or the set() function can be used to create sets. Note: to create an empty set you have to use set(), not {}; the latter creates an empty dictionary, a data structure that we will discuss in the next practicals.\n",
    "\n",
    "Here is a brief demonstration:\n",
    "```\n",
    ">>> basket = {'apple', 'orange', 'apple', 'pear', 'orange', 'banana'}\n",
    ">>> print(basket)                      # show that duplicates have been removed\n",
    "{'orange', 'banana', 'pear', 'apple'}\n",
    ">>> 'orange' in basket                 # fast membership testing\n",
    "True\n",
    ">>> 'crabgrass' in basket\n",
    "False\n",
    "\n",
    ">>> # Demonstrate set operations on unique letters from two words\n",
    "...\n",
    ">>> a = set('abracadabra')\n",
    ">>> b = set('alacazam')\n",
    ">>> a                                  # unique letters in a\n",
    "{'a', 'r', 'b', 'c', 'd'}\n",
    ">>> a - b                              # letters in a but not in b\n",
    "{'r', 'd', 'b'}\n",
    ">>> a | b                              # letters in a or b or both\n",
    "{'a', 'c', 'r', 'd', 'b', 'm', 'z', 'l'}\n",
    ">>> a & b                              # letters in both a and b\n",
    "{'a', 'c'}\n",
    ">>> a ^ b                              # letters in a or b but not both\n",
    "{'r', 'd', 'b', 'm', 'z', 'l'}\n",
    "```\n",
    "\n",
    "## Exercises\n",
    "\n",
    "1. Given the following text string:\n",
    "\n",
    "```\n",
    "\"\"\"this is a text\n",
    "string on\n",
    "several lines that does not say anything.\"\"\"\n",
    "```\n",
    "\n",
    "* print it; \n",
    "* print how many lines, words and characters it contains;\n",
    "* sort the words alphabetically and print the first and the last in lexicographic order.\n",
    "\n",
    "<div class=\"tggle\" onclick=\"toggleVisibility('ex0');\">Show/Hide Solution</div>\n",
    "<div id=\"ex0\" style=\"display:none;\">"
   ],
   "metadata": {}
  },
  {
   "cell_type": "code",
   "execution_count": null,
   "source": [
    "T = \"\"\"this is a text\n",
    "string on\n",
    "several lines that does not say anything.\"\"\"\n",
    "\n",
    "#a) print it\n",
    "print(T)\n",
    "print(\"\")\n",
    "#b) print the lines, words and characters\n",
    "lines = T.split('\\n')\n",
    "\n",
    "#NOTE: words are split by a space or a newline! They have already been\n",
    "#split by newline.\n",
    "\n",
    "words = lines[0].split(' ') + lines[1].split(' ') + lines[2].split(' ')\n",
    "\n",
    "num_chars = len(T) #this includes spaces and newlines\n",
    "\n",
    "print(\"Lines:\", len(lines), \"words:\", len(words), \"chars:\", num_chars)\n",
    "# alternative way for number of characters:\n",
    "print(\"\")\n",
    "characters = list(T) #put all the characters of the string in a list\n",
    "num_chars2 = len(characters)\n",
    "print(characters)\n",
    "print(num_chars2)\n",
    "\n",
    "print(\"Unsorted words: \", words)\n",
    "words.sort() #NOTE: it does not return ANYTHING!!!\n",
    "print(\"\\nSorted words: \", words)\n",
    "print(\"\")\n",
    "print(\"First word: \", words[0])\n",
    "print(\"Last word:\", words[-1])"
   ],
   "outputs": [],
   "metadata": {}
  },
  {
   "cell_type": "markdown",
   "source": [
    "</div>\n",
    "\n",
    "2. The variant calling format ([VCF](http://www.internationalgenome.org/wiki/Analysis/vcf4.0/)) is a format to represent structural variants of genomes (i.e. SNPs, insertions, deletions) . Each line of this format represents a variant, every piece of information within a line is separated by a tab (\\\\t in python). The first 5 fields of this format report the chromosome (chr), the position (pos), the name of the variant (name), the reference allele (REF) and the alternative allele (ALT). Assuming to have a variable VCF defined containing the following three lines (representing three SNPs): \n",
    "\n",
    "```\n",
    "VCF = \"\"\"MDC000001.124\\t7112\\tFB_AFFY_0000024\\tG\\tA\n",
    "MDC000002.328\\t941\\tFB_AFFY_0000144\\tC\\tT\n",
    "MDC000004.272\\t2015\\tFB_AFFY_0000222\\tG\\tA\"\"\"\n",
    "```\n",
    "\n",
    "* Store these three variants as a list of lists, where each one of the fields is kept separate (e.g. the list should be similar to: [[chr1,pos1,name1,ref1,alt1], [chr2, pos2, name2, ref2, alt2], ...] where all the elements are as specified in the string VCF (note that \"...\" means that the list is not complete); \n",
    "* Print each variant changing its format in:  \"name|chr|pos|REF/ALT\".\n",
    "\n",
    "<div class=\"tggle\" onclick=\"toggleVisibility('ex1');\">Show/Hide Solution</div>\n",
    "<div id=\"ex1\" style=\"display:none;\">"
   ],
   "metadata": {}
  },
  {
   "cell_type": "code",
   "execution_count": 27,
   "source": [
    "VCF = \"\"\"MDC000001.124\\t7112\\tFB_AFFY_0000024\\tG\\tA\n",
    "MDC000002.328\\t941\\tFB_AFFY_0000144\\tC\\tT\n",
    "MDC000004.272\\t2015\\tFB_AFFY_0000222\\tG\\tA\"\"\"\n",
    "\n",
    "variants = VCF.split('\\n')\n",
    "print(variants)\n",
    "\n",
    "variants[0] = variants[0].split('\\t')\n",
    "variants[1] = variants[1].split('\\t')\n",
    "variants[2] = variants[2].split('\\t')\n",
    "\n",
    "print(variants)\n",
    "\n",
    "print(variants[0])\n",
    "print(variants[1])\n",
    "print(variants[2], \"\\n\")\n",
    "\n",
    "info = variants[0]\n",
    "print(info[2] + \"|\" + info[0] + \"|\" + info[1] + \"|\" + info[3] +\"/\" + info[4])\n",
    "info = variants[1]\n",
    "print(info[2] + \"|\" + info[0] + \"|\" + info[1] + \"|\" + info[3] +\"/\" + info[4])\n",
    "info = variants[2]\n",
    "print(info[2] + \"|\" + info[0] + \"|\" + info[1] + \"|\" + info[3] +\"/\" + info[4])\n",
    "\n"
   ],
   "outputs": [
    {
     "output_type": "stream",
     "name": "stdout",
     "text": [
      "['MDC000001.124\\t7112\\tFB_AFFY_0000024\\tG\\tA', 'MDC000002.328\\t941\\tFB_AFFY_0000144\\tC\\tT', 'MDC000004.272\\t2015\\tFB_AFFY_0000222\\tG\\tA']\n",
      "[['MDC000001.124', '7112', 'FB_AFFY_0000024', 'G', 'A'], ['MDC000002.328', '941', 'FB_AFFY_0000144', 'C', 'T'], ['MDC000004.272', '2015', 'FB_AFFY_0000222', 'G', 'A']]\n",
      "['MDC000001.124', '7112', 'FB_AFFY_0000024', 'G', 'A']\n",
      "['MDC000002.328', '941', 'FB_AFFY_0000144', 'C', 'T']\n",
      "['MDC000004.272', '2015', 'FB_AFFY_0000222', 'G', 'A'] \n",
      "\n",
      "FB_AFFY_0000024|MDC000001.124|7112|G/A\n",
      "FB_AFFY_0000144|MDC000002.328|941|C/T\n",
      "FB_AFFY_0000222|MDC000004.272|2015|G/A\n"
     ]
    }
   ],
   "metadata": {}
  },
  {
   "cell_type": "markdown",
   "source": [
    "</div>\n",
    "\n",
    "3. Given the list L = [\"walnut\", \"eggplant\", \"lemon\", \"lime\", \"date\", \"onion\", \"nectarine\", \"endive\" ]: \n",
    "\n",
    "* Create another list (called newList) containing the first letter of each element of L (e.g newList =[\"w\", \"e\", ...]). \n",
    "* Add a space to newList at position 4 and append an exclamation mark (!) at the end. \n",
    "* Print the list.\n",
    "* Print the content of the list joining all the elements with an empty space (i.e. use the method join: \"\".join(newList) )\n",
    "\n",
    "<div class=\"tggle\" onclick=\"toggleVisibility('ex2');\">Show/Hide Solution</div>\n",
    "<div id=\"ex2\" style=\"display:none;\">"
   ],
   "metadata": {}
  },
  {
   "cell_type": "code",
   "execution_count": 29,
   "source": [
    "L = [\"walnut\", \"eggplant\", \"lemon\", \"lime\", \"date\", \"onion\", \"nectarine\", \"endive\" ]\n",
    "\n",
    "newList = []\n",
    "#the next few lines are to make you appreciate loops! :-)\n",
    "newList.append(L[0][0])\n",
    "newList.append(L[1][0])\n",
    "newList.append(L[2][0])\n",
    "newList.append(L[3][0])\n",
    "newList.append(L[4][0])\n",
    "newList.append(L[5][0])\n",
    "newList.append(L[6][0])\n",
    "newList.append(L[7][0])\n",
    "\n",
    "newList.insert(4,\" \")\n",
    "newList.append(\"!\")\n",
    "\n",
    "print(newList)\n",
    "print(\"\\n\", \"\".join(newList))"
   ],
   "outputs": [
    {
     "output_type": "stream",
     "name": "stdout",
     "text": [
      "['w', 'e', 'l', 'l', ' ', 'd', 'o', 'n', 'e', '!']\n",
      "\n",
      " well done!\n"
     ]
    }
   ],
   "metadata": {}
  },
  {
   "cell_type": "markdown",
   "source": [
    "</div>\n",
    "\n",
    "4. Fastq is a standard format for storing sequences and quality information. More information on the format can be found [here](https://en.wikipedia.org/wiki/FASTQ_format). This format can be used to store sequencing information coming from the sequencer. Each entry represents a read (i.e. a sequence) and carries four different pieces of information. A sample entry is the following:\n",
    "\n",
    "```\n",
    "entry = \"\"\"@HWI-ST1296:75:C3F7CACXX:1:1101:19142:14904\n",
    "CCAACAACTTTGACGCTAAGGATAGCTCCATGGCAGCATATCTGGCACAA\n",
    "+\n",
    "FHIIJIJJGIJJJJJIHHHFFFFFEE:;CIDDDDDDDDDDDDEDDDDDDB\"\"\"\n",
    "```"
   ],
   "metadata": {}
  },
  {
   "cell_type": "markdown",
   "source": [
    "where: \n",
    "\n",
    "* (i) the first line is the read identifier starts with a \"@\" and carries several types of information regarding the instrument used for sequencing (the reported example is an illumina read - if you are interested, you can find more info on the format of the ID [here](https://support.illumina.com/help/BaseSpace_OLH_009008/Content/Source/Informatics/BS/NamingConvention_FASTQ-files-swBS.htm). \n",
    "\n",
    "* (ii) the second information is the sequence of the read (note that it can span  several lines, not in our simple example though); \n",
    "\n",
    "* (iii) a \"+\" sign to mark the end of the sequence information (optionally the read identifier can be repeated); \n",
    "\n",
    "* (iv) the phred quality score of the read  encoded as a text string. It must contain the  same number of elements that are in the sequence. To decode each character into a the corresponding phred score, one needs to convert it into the unicode integer representation of it - 33. For example, the conversion of a character \"I\" in python can be done using the *ord* built in function in the following way: ord(\"I\") - 33 = 40. Finally the phred score can be converted into probability of the base to be wrong with  the following formula: $P = 10^{-Q/10}$, where $Q$ is the phred quality score.   \n",
    "\n",
    "Given the entry above:\n",
    "\n",
    "* 1. Check that the ID starts with a @\n",
    "* 2. Store the sequence as a list where each element is one single base (e.g. sequence =['T', 'A',...])\n",
    "* 3. Store the quality as a list where each element is one single quality character (e.g. qualChar = ['C', 'C', ...])\n",
    "* 4. Check that the length of the sequence and quality are the same \n",
    "* 5. Count how many times the sequence \"TCCA\" appears in the read\n",
    "* 6. Retrieve the sub-list containing the quality values corresponding to the \"TCCA\" string\n",
    "* 7. Convert each value in the list at point 6 in the corresponding probability of the base being wrong"
   ],
   "metadata": {}
  },
  {
   "cell_type": "markdown",
   "source": [
    "<div class=\"tggle\" onclick=\"toggleVisibility('ex3');\">Show/Hide Solution</div>\n",
    "<div id=\"ex3\" style=\"display:none;\">"
   ],
   "metadata": {}
  },
  {
   "cell_type": "code",
   "execution_count": 31,
   "source": [
    "entry = \"\"\"@HWI-ST1296:75:C3F7CACXX:1:1101:19142:14904\n",
    "CCAACAACTTTGACGCTAAGGATAGCTCCATGGCAGCATATCTGGCACAA\n",
    "+                                                  \n",
    "FHIIJIJJGIJJJJJIHHHFFFFFEE:;CIDDDDDDDDDDDDEDDDDDDB\n",
    "\"\"\"\n",
    "\n",
    "#1. Check that the ID starts with a @\n",
    "print(\"Does header start with @? \", entry.startswith(\"@\"))\n",
    "entryList = entry.split('\\n')\n",
    "\n",
    "#2. and 3. Store the sequence/quality as a list where each element is one single base \n",
    "sequence = list(entryList[1])\n",
    "qualChar = list(entryList[3])\n",
    "\n",
    "#4. Check that the length of the sequence and quality are the same\n",
    "print(\"Sequence and quality have the same length:\", len(sequence) == len(qualChar))\n",
    "\n",
    "#5. Count how many times the sequence \"TCCA\" appears in the read\n",
    "print(\"Sequence \\\"TCAA\\\" is present \", entryList[1].count(\"TCCA\"), \" times\" )\n",
    "\n",
    "#6. Retrieve the sub-list containing the quality values corresponding to the \"TCCA\" string\n",
    "pos = entryList[1].find(\"TCCA\")\n",
    "\n",
    "qVals = qualChar[pos:pos+4]\n",
    "\n",
    "print(\"Sequence: \", entryList[1][pos:pos+4])\n",
    "print(\"Quality: \", qVals)\n",
    "\n",
    "#7. Convert each value in the list at point 6 in the corresponding probability of the base \n",
    "# being wrong\n",
    "\n",
    "phredS = []\n",
    "\n",
    "phredS.append(ord(qVals[0]) - 33)\n",
    "phredS.append(ord(qVals[1]) - 33)\n",
    "phredS.append(ord(qVals[2]) - 33)\n",
    "phredS.append(ord(qVals[3]) - 33)\n",
    "\n",
    "print(\"Phred score:\", phredS)\n",
    "\n",
    "probVals = []\n",
    "probVals.append(10**(0-phredS[0]/10))\n",
    "probVals.append(10**(0-phredS[1]/10))\n",
    "probVals.append(10**(0-phredS[2]/10))\n",
    "probVals.append(10**(0-phredS[3]/10))\n",
    "\n",
    "print(\"Error Probabilities:\\n\", probVals)\n",
    "\n"
   ],
   "outputs": [
    {
     "output_type": "stream",
     "name": "stdout",
     "text": [
      "Does header start with @?  True\n",
      "Sequence and quality have the same length: True\n",
      "Sequence \"TCAA\" is present  1  times\n",
      "26\n",
      "['T', 'C', 'C', 'A']\n",
      "Sequence:  TCCA\n",
      "Quality:  [':', ';', 'C', 'I']\n",
      "Phred score: [25, 26, 34, 40]\n",
      "Error Probabilities:\n",
      " [0.0031622776601683794, 0.0025118864315095794, 0.00039810717055349735, 0.0001]\n"
     ]
    }
   ],
   "metadata": {}
  },
  {
   "cell_type": "markdown",
   "source": [
    "</div>\n",
    "\n",
    "5. Given the list L = [10, 60, 72, 118, 11, 71, 56, 89, 120, 175] find the min, max and median value (hint: sort it and extract the right values). Create a list with only the elements at even indexes (i.e. [10, 72, 11, ..], note that the \"..\" means that the list is not complete) and re-compute min, max and median values. Finally, re-do the same for the elements located at odd indexes (i.e. [60, 118,..]).\n",
    "\n",
    "<div class=\"tggle\" onclick=\"toggleVisibility('ex3b');\">Show/Hide Solution</div>\n",
    "<div id=\"ex3b\" style=\"display:none;\">"
   ],
   "metadata": {}
  },
  {
   "cell_type": "code",
   "execution_count": 22,
   "source": [
    "L = [10, 60, 72, 118, 11, 71, 56, 89, 120, 175]\n",
    "Lodd = L[1::2] #get only odd-indexed elements\n",
    "Leven = L[0::2] #get only even-indexed elements\n",
    "\n",
    "print(\"original:\" , L)\n",
    "print(\"Lodd:\", Lodd)\n",
    "print(\"Leven:\", Leven)\n",
    "L.sort()\n",
    "Lodd.sort()\n",
    "Leven.sort()\n",
    "\n",
    "\n",
    "print(\"sorted:  \" , L)\n",
    "print(\"sorted Lodd:  \" , Lodd)\n",
    "print(\"sorted Leven:  \" , Leven)\n",
    "\n",
    "print(\"L: Min: \", L[0], \" Max.\" , L[-1], \" Median: \", L[len(L) // 2])\n",
    "print(\"Lodd: Min: \", Lodd[0], \" Max.\" , Lodd[-1], \" Median: \", Lodd[len(Lodd) // 2])\n",
    "print(\"Leven: Min: \", Leven[0], \" Max.\" , Leven[-1], \" Median: \", Leven[len(Leven) // 2])"
   ],
   "outputs": [
    {
     "output_type": "stream",
     "name": "stdout",
     "text": [
      "original: [10, 60, 72, 118, 11, 71, 56, 89, 120, 175]\n",
      "Lodd: [60, 118, 71, 89, 175]\n",
      "Leven: [10, 72, 11, 56, 120]\n",
      "sorted:   [10, 11, 56, 60, 71, 72, 89, 118, 120, 175]\n",
      "sorted Lodd:   [60, 71, 89, 118, 175]\n",
      "sorted Leven:   [10, 11, 56, 72, 120]\n",
      "L: Min:  10  Max. 175  Median:  72\n",
      "Lodd: Min:  60  Max. 175  Median:  89\n",
      "Leven: Min:  10  Max. 120  Median:  56\n"
     ]
    }
   ],
   "metadata": {
    "scrolled": true
   }
  },
  {
   "cell_type": "markdown",
   "source": [
    "</div>\n",
    "\n",
    "6. Given the string pets = \"siamese cat,dog,songbird,guinea pig,rabbit,hampster\" convert it into a list. Create then a tuple of tuples where each tuple has two information: the name of the pet and the length of the name. E.g. ((\"dog\",3), ( \"hampster\",8)). Print the tuple.\n",
    "\n",
    "<div class=\"tggle\" onclick=\"toggleVisibility('ex5');\">Show/Hide Solution</div>\n",
    "<div id=\"ex5\" style=\"display:none;\">"
   ],
   "metadata": {}
  },
  {
   "cell_type": "code",
   "execution_count": 23,
   "source": [
    "pets = \"cat,dog,bird,guinea pig,rabbit,hampster\"\n",
    "\n",
    "pet_list = pets.split(',')\n",
    "\n",
    "print(pet_list)\n",
    "\n",
    "pet_tuples = ((pet_list[0], len(pet_list[0])), \n",
    "              (pet_list[1], len(pet_list[1])), \n",
    "              (pet_list[2], len(pet_list[2])), \n",
    "              (pet_list[3], len(pet_list[3])),\n",
    "              (pet_list[4], len(pet_list[4])),\n",
    "              (pet_list[5], len(pet_list[5])))\n",
    "\n",
    "print(pet_tuples)"
   ],
   "outputs": [
    {
     "output_type": "stream",
     "name": "stdout",
     "text": [
      "['cat', 'dog', 'bird', 'guinea pig', 'rabbit', 'hampster']\n",
      "(('cat', 3), ('dog', 3), ('bird', 4), ('guinea pig', 10), ('rabbit', 6), ('hampster', 8))\n"
     ]
    }
   ],
   "metadata": {}
  },
  {
   "cell_type": "markdown",
   "source": [
    "</div>"
   ],
   "metadata": {}
  },
  {
   "cell_type": "markdown",
   "source": [
    "7. Given the string S=\"apple|pear|apple|cherry|pear|apple|pear|pear|cherry|pear|strawberry\". Store the elements separated by the \"|\" in a list. \n",
    "    1. How many elements does the list have?\n",
    "    2. Knowing that the list created at the previous point has only four distinct elements (i.e. \"apple\",\"pear\",\"cherry\" and \"strawberry\"), create another list where each element is a tuple containing the name of the fruit and its multiplicity (that is how many times it appears in the original list). Ex. list_of_tuples = [(\"apple\", 3), (\"pear\", \"5\"),...]\n",
    "    3. Print the content of each tuple in a separate line (ex. first line: apple is present 3 times)\n",
    "\n",
    "\n",
    "<div class=\"tggle\" onclick=\"toggleVisibility('ex4');\">Show/Hide Solution</div>\n",
    "<div id=\"ex4\" style=\"display:none;\">"
   ],
   "metadata": {}
  },
  {
   "cell_type": "code",
   "execution_count": 24,
   "source": [
    "S=\"apple|pear|apple|cherry|pear|apple|pear|pear|cherry|pear|strawberry\"\n",
    "\n",
    "Slist = S.split(\"|\")\n",
    "print(Slist)\n",
    "\n",
    "appleT = (\"apple\", Slist.count(\"apple\"))\n",
    "pearT = (\"pear\", Slist.count(\"pear\"))\n",
    "cherryT = (\"cherry\", Slist.count(\"cherry\"))\n",
    "strawberryT = (\"strawberry\", Slist.count(\"strawberry\"))\n",
    "list_of_tuples =[appleT, pearT, cherryT, strawberryT]\n",
    "\n",
    "print(list_of_tuples, \"\\n\") #adding newline to separate elements\n",
    "\n",
    "print(appleT[0], \" is present \", appleT[1], \" times\")\n",
    "print(pearT[0], \" is present \", pearT[1], \" times\")\n",
    "print(cherryT[0], \" is present \", cherryT[1], \" times\")\n",
    "print(strawberryT[0], \" is present \", strawberryT[1], \" times\")\n"
   ],
   "outputs": [
    {
     "output_type": "stream",
     "name": "stdout",
     "text": [
      "['apple', 'pear', 'apple', 'cherry', 'pear', 'apple', 'pear', 'pear', 'cherry', 'pear', 'strawberry']\n",
      "[('apple', 3), ('pear', 5), ('cherry', 2), ('strawberry', 1)] \n",
      "\n",
      "apple  is present  3  times\n",
      "pear  is present  5  times\n",
      "cherry  is present  2  times\n",
      "strawberry  is present  1  times\n"
     ]
    }
   ],
   "metadata": {}
  },
  {
   "cell_type": "markdown",
   "source": [
    "</div>"
   ],
   "metadata": {}
  },
  {
   "cell_type": "markdown",
   "source": [
    "8. Define three tuples representing points in the 3D space: A = (10,20,30), B = (1,72, 100) and C = (4, 9, 20).\n",
    "    1. Compute the Euclidean distance between A and B (let's call it AB), A and C (AC), B and C (BC) and print them. Remember that the distance $d$ between two points $X_1 = (x_1,y_1,z_1)$ and $X_2 = (x_2,y_2,z_2)$ is $d = \\sqrt{(x_2-x_1)^2 + (y_2 - y_1)^2 + (z_2-z_1)^2}$. Hint: remember to import math to use the *sqrt* method.\n",
    "\n",
    "    2. Create a point D multiplying every element of C by 10. (Hint: do not use C\\*10, as this will repeat C 10 times).  And compute the distance AD, BD, CD.\n",
    "\n",
    "    3. Answer to the following questions (writing a suitable boolean expression and printing the result):\n",
    "        1. Is A closer to B than to C?\n",
    "        2. Is A closer to C than to B or to D?\n",
    "        3. Is B closer to A than to C to D?\n",
    "    \n",
    "\n",
    "<div class=\"tggle\" onclick=\"toggleVisibility('ex6');\">Show/Hide Solution</div>\n",
    "<div id=\"ex6\" style=\"display:none;\">"
   ],
   "metadata": {}
  },
  {
   "cell_type": "code",
   "execution_count": 25,
   "source": [
    "import math\n",
    "\n",
    "A = (10,20,30)\n",
    "B = (1,72, 100)\n",
    "C = (4,9,20)\n",
    "D = (C[0]*10, C[1]*10, C[2]*10)\n",
    "\n",
    "AB = math.sqrt( (B[0]-A[0])**2 + (B[1] - A[1])**2 + (B[2] - A[2])**2)\n",
    "AC = math.sqrt( (C[0]-A[0])**2 + (C[1] - A[1])**2 + (C[2] - A[2])**2)\n",
    "BC = math.sqrt( (C[0]-B[0])**2 + (C[1] - B[1])**2 + (C[2] - B[2])**2)\n",
    "AD = math.sqrt( (D[0]-A[0])**2 + (D[1] - A[1])**2 + (D[2] - A[2])**2)\n",
    "BD = math.sqrt( (D[0]-B[0])**2 + (D[1] - B[1])**2 + (D[2] - B[2])**2)\n",
    "CD = math.sqrt( (D[0]-C[0])**2 + (D[1] - C[1])**2 + (D[2] - C[2])**2)\n",
    "\n",
    "print(\"Distance AB: \", AB)\n",
    "print(\"Distance AC: \", AC)\n",
    "print(\"Distance AD: \", AD)\n",
    "print(\"Distance BC: \", BC)\n",
    "print(\"Distance BD: \", BD)\n",
    "print(\"Distance CD: \", CD)\n",
    "\n",
    "print(\"A is closer to B than to C: \", AB < AC)\n",
    "print(\"A is closer to C than to B or D:\", AC < AB and AC < AD)\n",
    "print(\"B is closer to A than C to D:\", AB < CD)\n"
   ],
   "outputs": [
    {
     "output_type": "stream",
     "name": "stdout",
     "text": [
      "Distance AB:  87.66413177577246\n",
      "Distance AC:  16.0312195418814\n",
      "Distance AD:  186.27936010197158\n",
      "Distance BC:  101.87246929372037\n",
      "Distance BD:  108.83473710171766\n",
      "Distance CD:  200.64147128647159\n",
      "A is closer to B than to C:  False\n",
      "A is closer to C than to B or D: True\n",
      "B is closer to A than C to D: True\n"
     ]
    }
   ],
   "metadata": {}
  },
  {
   "cell_type": "markdown",
   "source": [
    "</div>\n",
    "\n",
    "9. Given the matrix $M =\\begin{bmatrix}1 & 2 & 3\\\\ 4 & 5 & 6\\\\ 7 & 8 & 9\\end{bmatrix}$ compute $M^2 = \\begin{bmatrix}1 & 2 & 3\\\\ 4 & 5 & 6\\\\ 7 & 8 & 9\\end{bmatrix} \\times \\begin{bmatrix}1 & 2 & 3\\\\ 4 & 5 & 6\\\\ 7 & 8 & 9\\end{bmatrix} = \\begin{bmatrix}30 & 36 & 42\\\\ 66 & 81 & 96\\\\ 102 & 126 & 150\\end{bmatrix}$"
   ],
   "metadata": {}
  },
  {
   "cell_type": "markdown",
   "source": [
    "<div class=\"tggle\" onclick=\"toggleVisibility('ex7');\">Show/Hide Solution</div>\n",
    "<div id=\"ex7\" style=\"display:none;\">"
   ],
   "metadata": {}
  },
  {
   "cell_type": "code",
   "execution_count": 26,
   "source": [
    "M = [[1, 2, 3], [4, 5, 6], [7, 8, 9]]\n",
    "\n",
    "Msq = [[0, 0, 0], [0, 0,0], [0, 0, 0]]# the output is initialized to the zero matrix\n",
    "#Msq[i,j] is represented as Msq[i][j]\n",
    "Msq[0][0] = M[0][0]*M[0][0] + M[0][1]*M[1][0] + M[0][2] * M[2][0]\n",
    "Msq[0][1] = M[0][0]*M[0][1] + M[0][1]*M[1][1] + M[0][2] * M[2][1]\n",
    "Msq[0][2] = M[0][0]*M[0][2] + M[0][1]*M[1][2] + M[0][2] * M[2][2]\n",
    "Msq[1][0] = M[1][0]*M[0][0] + M[1][1]*M[1][0] + M[1][2] * M[2][0]\n",
    "Msq[1][1] = M[1][0]*M[0][1] + M[1][1]*M[1][1] + M[1][2] * M[2][1]\n",
    "Msq[1][2] = M[1][0]*M[0][2] + M[1][1]*M[1][2] + M[1][2] * M[2][2]\n",
    "Msq[2][0] = M[2][0]*M[0][0] + M[2][1]*M[1][0] + M[2][2] * M[2][0]\n",
    "Msq[2][1] = M[2][0]*M[0][1] + M[2][1]*M[1][1] + M[2][2] * M[2][1]\n",
    "Msq[2][2] = M[2][0]*M[0][2] + M[2][1]*M[1][2] + M[2][2] * M[2][2]\n",
    "\n",
    "print(Msq)"
   ],
   "outputs": [
    {
     "output_type": "stream",
     "name": "stdout",
     "text": [
      "[[30, 36, 42], [66, 81, 96], [102, 126, 150]]\n"
     ]
    }
   ],
   "metadata": {}
  },
  {
   "cell_type": "markdown",
   "source": [
    "</div>"
   ],
   "metadata": {}
  }
 ],
 "metadata": {
  "celltoolbar": "Edit Metadata",
  "kernelspec": {
   "display_name": "Python 3",
   "language": "python",
   "name": "python3"
  },
  "language_info": {
   "codemirror_mode": {
    "name": "ipython",
    "version": 3
   },
   "file_extension": ".py",
   "mimetype": "text/x-python",
   "name": "python",
   "nbconvert_exporter": "python",
   "pygments_lexer": "ipython3",
   "version": "3.6.9"
  }
 },
 "nbformat": 4,
 "nbformat_minor": 2
}