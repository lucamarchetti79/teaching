{
 "cells": [
  {
   "cell_type": "markdown",
   "source": [
    "# Scientific Programming for QCB"
   ],
   "metadata": {}
  },
  {
   "cell_type": "markdown",
   "source": [
    "# General Info\n",
    "\n",
    "For any additional information you can write an email: \n",
    "\n",
    "- for technical support and for help with the exercises to the tutors:\n",
    "    - **Massimiliano Luca: mluca at fbk dot eu**\n",
    "    - **Gabriele Masina: gabriele dot masina at studenti dot unitn dot it**\n",
    "\n",
    "- for questions about the organization of the teaching to me: **luca dot marchetti at unitn dot it**.\n",
    "\n",
    "## Timetable and lecture rooms\n",
    "\n",
    "Practicals will be held on **Tuesdays from 14:30 to 16:30 (room A110)** and on **Thursdays from 14:30 to 16:30 (room A107)**.\n",
    "\n",
    "The teaching will be divided in **two modules** according to the theoretical part provided by Prof. Passerini (1st module) and Prof. Dassi (2nd module). Each module will be composed of **12 lessons (6 weeks)** that also comprehend **2 mid-term exams**, one between the two modules (beginning of november) and one at the end (mid december).\n",
    "\n",
    "## Zoom links\n",
    "\n",
    "Depending on the current situation of the Covid-19 pandemic, practicals could change to online form by using the Zoom platform (https://zoom.us/). If needed, the zoom link for attending the practicals will be made available in the moodle web page.\n",
    "\n",
    "## Equipment\n",
    "\n",
    "Even if the lessons are provided in a standard room, we will try to keep the form of practical lessons held in a computer science lab. For this reason, **students are highly encouraged to bring their personal laptop to work independently in solving the exercises**.\n",
    "\n",
    "## Acknowledgements\n",
    "\n",
    "I would like to thank **Dr. David Leoni** for all his help and for sharing Jupman with me.\n",
    "I would also like to thank **Dr. Stefano Teso, Luca Bianco, and Erik Dassi** for allowing me to use their material to prepare the course.\n"
   ],
   "metadata": {}
  }
 ],
 "metadata": {
  "celltoolbar": "Edit Metadata",
  "kernelspec": {
   "display_name": "Python 3",
   "language": "python",
   "name": "python3"
  },
  "language_info": {
   "codemirror_mode": {
    "name": "ipython",
    "version": 3
   },
   "file_extension": ".py",
   "mimetype": "text/x-python",
   "name": "python",
   "nbconvert_exporter": "python",
   "pygments_lexer": "ipython3",
   "version": "3.6.9"
  },
  "toc": {
   "base_numbering": 1,
   "nav_menu": {},
   "number_sections": false,
   "sideBar": true,
   "skip_h1_title": false,
   "title_cell": "Table of Contents",
   "title_sidebar": "Contents",
   "toc_cell": false,
   "toc_position": {},
   "toc_section_display": true,
   "toc_window_display": false
  }
 },
 "nbformat": 4,
 "nbformat_minor": 2
}