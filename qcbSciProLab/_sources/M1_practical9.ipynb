{
 "cells": [
  {
   "cell_type": "markdown",
   "source": [
    "# Module 1, Practical 9\n",
    "\n",
    "In this practical we will practice Numpy and Matplotlib.\n",
    "\n",
    "## Numpy\n",
    "\n",
    "Numpy is a fundamental library for high performance scientific computations. It provides fast and memory efficient data structures like ```ndarray``` with broadcasting capabilities, standard mathematical functions that can be applied on the arrays avoiding loops, linear algebra functions, I/O methods and it is well integrated with programming languages like C.\n",
    "\n",
    "To use the functionalities of the library we always need to import it with (standard name is np):\n",
    "\n",
    "```\n",
    "import numpy as np\n",
    "```\n",
    "\n",
    "The official documentation of the numpy library can be found at [http://www.numpy.org/](http://www.numpy.org/).\n",
    "\n",
    "## Numpy ndarray\n",
    "\n",
    "Numpy ndarray is an N-dimensional array object designed to contain homogeneous data (i.e. all data must have the same type). Every array (also called *tensor*) comes with two information: the **shape** (a tuple describing the dimensions of the array) and a **dtype** (the data type of the array).\n",
    "\n",
    "Given a list of homogeneous values the ndarray can be obtained by using the ```np.array(list)``` method. Given the numpy array its **shape**, **dimensionality** and **dtype** can be obtained with ```array.shape```, ```array.ndim``` and ```array.dtype```. \n",
    "\n",
    "An example follows:"
   ],
   "metadata": {}
  },
  {
   "cell_type": "code",
   "execution_count": 1,
   "source": [
    "import numpy as np\n",
    "\n",
    "Aint = np.array([[1,2,3], [4,5,6]])\n",
    "Afloat = np.array([[1.1,2,3], [4.2,5,6], [1,2,3]])\n",
    "\n",
    "print(Aint)\n",
    "print(type(Aint))\n",
    "print(Aint.shape)\n",
    "print(Aint.dtype)\n",
    "print(\"\")      \n",
    "print(Afloat)\n",
    "print(\"type: {}\".format(type(Afloat)))\n",
    "print(\"shape: {}\".format(Afloat.shape))\n",
    "print(\"dtype: {}\".format(Afloat.dtype))    "
   ],
   "outputs": [
    {
     "output_type": "stream",
     "name": "stdout",
     "text": [
      "[[1 2 3]\n",
      " [4 5 6]]\n",
      "<class 'numpy.ndarray'>\n",
      "(2, 3)\n",
      "int64\n",
      "\n",
      "[[1.1 2.  3. ]\n",
      " [4.2 5.  6. ]\n",
      " [1.  2.  3. ]]\n",
      "type: <class 'numpy.ndarray'>\n",
      "shape: (3, 3)\n",
      "dtype: float64\n"
     ]
    }
   ],
   "metadata": {}
  },
  {
   "cell_type": "markdown",
   "source": [
    "**Example:**\n",
    "\n",
    "Let's create a ndarray holding the square root and one with the cubic root of the first five integers.  Let's put them together in a 2-d array and check its dimensions."
   ],
   "metadata": {}
  },
  {
   "cell_type": "code",
   "execution_count": 2,
   "source": [
    "import numpy as np\n",
    "import math\n",
    "\n",
    "\n",
    "mysqrt = [math.sqrt(x) for x in range(0,5)]\n",
    "mycrt = [x**(1/3) for x in range(0,5)]\n",
    "myOtherRt = [x**(1/5) for x in range(0,5)]\n",
    "print(\"Original lists:\")\n",
    "print(mysqrt)\n",
    "print(mycrt)\n",
    "print(\"\")\n",
    "npData = np.array(mysqrt)\n",
    "print(\"Numpy ndarray:\")\n",
    "print(npData)\n",
    "print(\"\")\n",
    "print(\"The shape:\", npData.shape)\n",
    "print(\"The dimensionality:\", npData.ndim)\n",
    "print(\"The type:\", npData.dtype)\n",
    "print(\"\")\n",
    "\n",
    "npData = np.array([mysqrt]) #NOTE: brackets!\n",
    "print(\"The 2D version of the ndarray:\")\n",
    "print(npData)\n",
    "print(\"\")\n",
    "print(\"The shape:\", npData.shape)\n",
    "print(\"The dimensionality:\", npData.ndim)\n",
    "print(\"The type:\", npData.dtype)\n",
    "print(\"\")\n",
    "\n",
    "\n",
    "twoDarray = np.array([mysqrt, mycrt, myOtherRt])\n",
    "print(\"Another 2D array:\")\n",
    "print(twoDarray)\n",
    "print(\"\")\n",
    "print(\"The shape:\", twoDarray.shape)\n",
    "print(\"The dimensionality:\", twoDarray.ndim)\n",
    "print(\"The type:\", twoDarray.dtype)"
   ],
   "outputs": [
    {
     "output_type": "stream",
     "name": "stdout",
     "text": [
      "Original lists:\n",
      "[0.0, 1.0, 1.4142135623730951, 1.7320508075688772, 2.0]\n",
      "[0.0, 1.0, 1.2599210498948732, 1.4422495703074083, 1.5874010519681994]\n",
      "\n",
      "Numpy ndarray:\n",
      "[0.         1.         1.41421356 1.73205081 2.        ]\n",
      "\n",
      "The shape: (5,)\n",
      "The dimensionality: 1\n",
      "The type: float64\n",
      "\n",
      "The 2D version of the ndarray:\n",
      "[[0.         1.         1.41421356 1.73205081 2.        ]]\n",
      "\n",
      "The shape: (1, 5)\n",
      "The dimensionality: 2\n",
      "The type: float64\n",
      "\n",
      "Another 2D array:\n",
      "[[0.         1.         1.41421356 1.73205081 2.        ]\n",
      " [0.         1.         1.25992105 1.44224957 1.58740105]\n",
      " [0.         1.         1.14869835 1.24573094 1.31950791]]\n",
      "\n",
      "The shape: (3, 5)\n",
      "The dimensionality: 2\n",
      "The type: float64\n"
     ]
    }
   ],
   "metadata": {}
  },
  {
   "cell_type": "markdown",
   "source": [
    "We can also create arrays (matrices) full of zeros or ones or even diagonal matrices with the following numpy methods: \n",
    "\n",
    "1. Array: ```np.zeros(N)``` or matrix: ```np.zeros((N,M))```\n",
    "2. Array: ```np.ones(N)``` or matrix: ```np.ones((N,M))```\n",
    "3. Matrix: ```np.eye(N)```\n",
    "\n",
    "Numpy has its own **range** method that is called ```np.arange(N)```. Evenly spaced values in a range can be obtained also with ```np.linspace(S,E, num=N, endpoint=True/False)``` to obtain N linearly spaced values from S to E (included, unless endpoint = False is specified)."
   ],
   "metadata": {}
  },
  {
   "cell_type": "code",
   "execution_count": 3,
   "source": [
    "import numpy as np\n",
    "\n",
    "zeros = np.zeros(3)\n",
    "zMat = np.zeros((4,3))\n",
    "ones = np.ones(3)\n",
    "oMat = np.ones((3,2))\n",
    "diag = np.eye(4)\n",
    "rng = np.arange(5) #5 excluded!\n",
    "\n",
    "print(\"Zero array (1x3)\")\n",
    "print(zeros)\n",
    "print(\"\")\n",
    "D = zMat.shape\n",
    "print(\"Zero matrix ({}x{})\".format(D[0],D[1]))\n",
    "print(zMat)\n",
    "print(\"\")\n",
    "print(\"Ones array (1x3)\")\n",
    "print(ones)\n",
    "print(\"\")\n",
    "print(\"Ones matrix (3x2)\")\n",
    "print(oMat)\n",
    "print(\"\")\n",
    "print(\"Diagonal matrix\")\n",
    "print(diag)\n",
    "print(\"\")\n",
    "print(\"Range 0-4\")\n",
    "print(rng)\n",
    "print(\"A diagonal matrix:\")\n",
    "dm = np.diag(rng)\n",
    "print(dm)\n",
    "print(\"Its shape:\")\n",
    "print(dm.shape)\n",
    "\n",
    "rng = np.arange(7)\n",
    "print(\"Range 0-6\")\n",
    "print(rng)\n",
    "\n",
    "myRange = np.linspace(-5,2.5,num =6)\n",
    "print(\"6 linearly spaced elements in [-5 - 2.5]:\")\n",
    "print(myRange)\n",
    "\n",
    "myRange = np.linspace(0,21,num =7, endpoint=False)\n",
    "print(\"7 linearly spaced elements in [0 - 21):\")\n",
    "print(myRange)"
   ],
   "outputs": [
    {
     "output_type": "stream",
     "name": "stdout",
     "text": [
      "Zero array (1x3)\n",
      "[0. 0. 0.]\n",
      "\n",
      "Zero matrix (4x3)\n",
      "[[0. 0. 0.]\n",
      " [0. 0. 0.]\n",
      " [0. 0. 0.]\n",
      " [0. 0. 0.]]\n",
      "\n",
      "Ones array (1x3)\n",
      "[1. 1. 1.]\n",
      "\n",
      "Ones matrix (3x2)\n",
      "[[1. 1.]\n",
      " [1. 1.]\n",
      " [1. 1.]]\n",
      "\n",
      "Diagonal matrix\n",
      "[[1. 0. 0. 0.]\n",
      " [0. 1. 0. 0.]\n",
      " [0. 0. 1. 0.]\n",
      " [0. 0. 0. 1.]]\n",
      "\n",
      "Range 0-4\n",
      "[0 1 2 3 4]\n",
      "A diagonal matrix:\n",
      "[[0 0 0 0 0]\n",
      " [0 1 0 0 0]\n",
      " [0 0 2 0 0]\n",
      " [0 0 0 3 0]\n",
      " [0 0 0 0 4]]\n",
      "Its shape:\n",
      "(5, 5)\n",
      "Range 0-6\n",
      "[0 1 2 3 4 5 6]\n",
      "6 linearly spaced elements in [-5 - 2.5]:\n",
      "[-5.  -3.5 -2.  -0.5  1.   2.5]\n",
      "7 linearly spaced elements in [0 - 21):\n",
      "[ 0.  3.  6.  9. 12. 15. 18.]\n"
     ]
    }
   ],
   "metadata": {}
  },
  {
   "cell_type": "markdown",
   "source": [
    "## Random arrays\n",
    "\n",
    "Random arrays can be created from several different distributions (check [here](https://numpy.org/doc/stable/reference/random/generator.html#distributions) for all options). Through the *random number generator* **default_rng** which has been added to the newest versions of numpy (e.g. >1.16). The older syntax has been kept for back-compatibility, but the newer one using the *default_rng* should be used. Some examples include **uniform** distribution, **normal**, **binomial**,...\n",
    "\n",
    "\n",
    "\n",
    "**Example:**\n",
    "\n",
    "Create a random array of 1000 values drawn from:\n",
    "1. a gaussian distribution with $\\sigma = 20$ and $\\mu = 2$\n",
    "2. a uniform distribution from 0 to 5\n",
    "3. a binomial distribution with $p = 0.5$ and $n = 12$ \n",
    "\n",
    "and plot their histogram."
   ],
   "metadata": {}
  },
  {
   "cell_type": "code",
   "execution_count": 4,
   "source": [
    "import numpy as np\n",
    "import matplotlib.pyplot as plt\n",
    "\n",
    "#Create the random number generator\n",
    "rng = np.random.default_rng()\n",
    "\n",
    "#get the gaussian random array\n",
    "g = rng.normal(20,2, 1000)\n",
    "#a uniform random array with vals in [0,5]\n",
    "u = rng.uniform(0,5, 1000)\n",
    "#get the binomial random array \n",
    "b = rng.binomial(12,0.5, 1000)\n",
    "\n",
    "\n",
    "plt.hist(g, bins = 30)\n",
    "plt.title(\"Gaussian(20,2)\")\n",
    "plt.xlabel(\"Random #\")\n",
    "plt.ylabel(\"Count\")\n",
    "plt.show()\n",
    "\n",
    "plt.hist(u, bins = 10)\n",
    "plt.title(\"Uniform(0,5)\")\n",
    "plt.xlabel(\"Random #\")\n",
    "plt.ylabel(\"Count\")\n",
    "plt.show()\n",
    "plt.hist(b, bins = 10)\n",
    "plt.title(\"Binomial(12,0.5)\")\n",
    "plt.xlabel(\"Random #\")\n",
    "plt.ylabel(\"Count\")\n",
    "plt.show()\n"
   ],
   "outputs": [
    {
     "output_type": "display_data",
     "data": {
      "text/plain": [
       "<matplotlib.figure.Figure at 0x7f1fb241db00>"
      ]
     },
     "metadata": {}
    },
    {
     "output_type": "display_data",
     "data": {
      "text/plain": [
       "<matplotlib.figure.Figure at 0x7f1fb22507f0>"
      ]
     },
     "metadata": {}
    },
    {
     "output_type": "display_data",
     "data": {
      "text/plain": [
       "<matplotlib.figure.Figure at 0x7f1fad53d240>"
      ]
     },
     "metadata": {}
    }
   ],
   "metadata": {}
  },
  {
   "cell_type": "markdown",
   "source": [
    "It is also possible to specify the size of the output (with the tuple ```size```) to get a matrix instead."
   ],
   "metadata": {}
  },
  {
   "cell_type": "code",
   "execution_count": 5,
   "source": [
    "import numpy as np\n",
    "\n",
    "rng = np.random.default_rng()\n",
    "u = rng.uniform(0,1, size = (4,3))\n",
    "\n",
    "print(\"Uniform distr. in (0,1). 4x3 matrix:\")\n",
    "print(\"\")\n",
    "print(u)"
   ],
   "outputs": [
    {
     "output_type": "stream",
     "name": "stdout",
     "text": [
      "Uniform distr. in (0,1). 4x3 matrix:\n",
      "\n",
      "[[0.04319745 0.80810316 0.95688607]\n",
      " [0.38279799 0.06599466 0.83906502]\n",
      " [0.64017936 0.17292249 0.6691821 ]\n",
      " [0.30912131 0.57479797 0.96046875]]\n"
     ]
    }
   ],
   "metadata": {}
  },
  {
   "cell_type": "markdown",
   "source": [
    "To always get the same values we need to initialize the random seed (a parameter of the pseudo-random sequence generator) always to the same value."
   ],
   "metadata": {}
  },
  {
   "cell_type": "code",
   "execution_count": 6,
   "source": [
    "import numpy as np\n",
    "\n",
    "rng = np.random.default_rng()\n",
    "u = rng.uniform(0,1,size=(3,2))\n",
    "u1 = rng.uniform(0,1,size=(3,2))\n",
    "u2 = rng.uniform(0,1,size=(3,2))\n",
    "\n",
    "print(\" u: {}\\n\\n u1:{}\\n\\n u2:{}\".format(u,u1,u2))\n",
    "\n",
    "print(\"\")\n",
    "print(\"With random seed reinit.\")\n",
    "rng = np.random.default_rng(0) #seed init at 0\n",
    "u = rng.uniform(0,1,3)\n",
    "rng = np.random.default_rng(0) #seed init at 0\n",
    "u1 = rng.uniform(0,1,3)\n",
    "rng = np.random.default_rng(0) #seed init at 0\n",
    "u2 = rng.uniform(0,1,3)\n",
    "#no reinit!!!\n",
    "u3 = rng.uniform(0,1,3)\n",
    "print(\" u: {}\\n u1:{}\\n u2:{}\\n u3:{}\".format(u,u1,u2, u3))"
   ],
   "outputs": [
    {
     "output_type": "stream",
     "name": "stdout",
     "text": [
      " u: [[0.76180262 0.30145968]\n",
      " [0.42649499 0.6514337 ]\n",
      " [0.46345338 0.27718304]]\n",
      "\n",
      " u1:[[0.7564963  0.80978551]\n",
      " [0.02806826 0.70233526]\n",
      " [0.04354717 0.08700437]]\n",
      "\n",
      " u2:[[0.53011366 0.61936712]\n",
      " [0.67975182 0.85019137]\n",
      " [0.04757717 0.2940392 ]]\n",
      "\n",
      "With random seed reinit.\n",
      " u: [0.63696169 0.26978671 0.04097352]\n",
      " u1:[0.63696169 0.26978671 0.04097352]\n",
      " u2:[0.63696169 0.26978671 0.04097352]\n",
      " u3:[0.01652764 0.81327024 0.91275558]\n"
     ]
    }
   ],
   "metadata": {}
  },
  {
   "cell_type": "markdown",
   "source": [
    "## Numpy to and from pandas \n",
    "\n",
    "Pandas Series and DataFrames are actually built on top of numpy ndarrays. Moreover, given a numpy matrix (or array) it is quite easy to convert it into a DataFrame (or Series)."
   ],
   "metadata": {}
  },
  {
   "cell_type": "code",
   "execution_count": 7,
   "source": [
    "import pandas as pd\n",
    "import numpy as np\n",
    "\n",
    "myDict = {\"one\" : 1, \"two\" : 2, \"three\" : 3, \"four\" : 4}\n",
    "\n",
    "mySeries = pd.Series(myDict)\n",
    "\n",
    "print(myDict)\n",
    "print(\"\")\n",
    "print(mySeries)\n",
    "print(\"\")\n",
    "print(type(mySeries))\n",
    "print(\"\")\n",
    "print(type(mySeries.values))\n",
    "print(\"\")\n",
    "\n",
    "myMat = np.diag(np.arange(6))\n",
    "myDF = pd.DataFrame(myMat)\n",
    "print(\"Numpy matrix\")\n",
    "print(myMat)\n",
    "print(\"\")\n",
    "print(\"Pandas DataFrame\")\n",
    "print(myDF)\n",
    "print(\"\")\n",
    "print(\"Reindexed DataFrame\")\n",
    "myDF = pd.DataFrame(myMat, index = list(\"ABCDEF\"), \n",
    "                    columns = ['a1','b2','c3','d4','e5','f6'])\n",
    "print(myDF)"
   ],
   "outputs": [
    {
     "output_type": "stream",
     "name": "stdout",
     "text": [
      "{'one': 1, 'two': 2, 'three': 3, 'four': 4}\n",
      "\n",
      "one      1\n",
      "two      2\n",
      "three    3\n",
      "four     4\n",
      "dtype: int64\n",
      "\n",
      "<class 'pandas.core.series.Series'>\n",
      "\n",
      "<class 'numpy.ndarray'>\n",
      "\n",
      "Numpy matrix\n",
      "[[0 0 0 0 0 0]\n",
      " [0 1 0 0 0 0]\n",
      " [0 0 2 0 0 0]\n",
      " [0 0 0 3 0 0]\n",
      " [0 0 0 0 4 0]\n",
      " [0 0 0 0 0 5]]\n",
      "\n",
      "Pandas DataFrame\n",
      "   0  1  2  3  4  5\n",
      "0  0  0  0  0  0  0\n",
      "1  0  1  0  0  0  0\n",
      "2  0  0  2  0  0  0\n",
      "3  0  0  0  3  0  0\n",
      "4  0  0  0  0  4  0\n",
      "5  0  0  0  0  0  5\n",
      "\n",
      "Reindexed DataFrame\n",
      "   a1  b2  c3  d4  e5  f6\n",
      "A   0   0   0   0   0   0\n",
      "B   0   1   0   0   0   0\n",
      "C   0   0   2   0   0   0\n",
      "D   0   0   0   3   0   0\n",
      "E   0   0   0   0   4   0\n",
      "F   0   0   0   0   0   5\n"
     ]
    }
   ],
   "metadata": {}
  },
  {
   "cell_type": "markdown",
   "source": [
    "## Reshaping\n",
    "\n",
    "The shape of a numpy ndarray can be changed at any time with the methods ```reshape((R,C))``` where R and C are the rows and columns used to shape an array into a matrix, and ```ravel``` that is used to go the other way around from matrix to array."
   ],
   "metadata": {}
  },
  {
   "cell_type": "code",
   "execution_count": 8,
   "source": [
    "import numpy as np\n",
    "\n",
    "myA = np.arange(12)\n",
    "\n",
    "print(\"The array:\")\n",
    "print(myA)\n",
    "print(\"\")\n",
    "myB = myA.reshape((2,6))\n",
    "print(\"Reshaped (2x6):\")\n",
    "print(myB)\n",
    "print(\"\")\n",
    "myC = myA.reshape((3,4))\n",
    "print(\"Reshaped: (3x4)\")\n",
    "print(myC)\n",
    "\n",
    "myD = myB.ravel()\n",
    "print(\"\")\n",
    "print(\"Back to array:\")\n",
    "print(myD)"
   ],
   "outputs": [
    {
     "output_type": "stream",
     "name": "stdout",
     "text": [
      "The array:\n",
      "[ 0  1  2  3  4  5  6  7  8  9 10 11]\n",
      "\n",
      "Reshaped (2x6):\n",
      "[[ 0  1  2  3  4  5]\n",
      " [ 6  7  8  9 10 11]]\n",
      "\n",
      "Reshaped: (3x4)\n",
      "[[ 0  1  2  3]\n",
      " [ 4  5  6  7]\n",
      " [ 8  9 10 11]]\n",
      "\n",
      "Back to array:\n",
      "[ 0  1  2  3  4  5  6  7  8  9 10 11]\n"
     ]
    }
   ],
   "metadata": {}
  },
  {
   "cell_type": "markdown",
   "source": [
    "Be careful though, if shapes don't match an error **cannot reshape array** is returned:\n",
    "\n",
    "![i1](img/pract9/errorReshape.png)"
   ],
   "metadata": {}
  },
  {
   "cell_type": "markdown",
   "source": [
    "## Iterating over arrays and Indexing\n",
    "\n",
    "It is possible to loop over the elements of an array by element or by row of the matrix. In the first case we use the method ```np.ndarray.flat``` to make a matrix accessible as a one dimensional array. Check out the following examples:"
   ],
   "metadata": {}
  },
  {
   "cell_type": "code",
   "execution_count": 9,
   "source": [
    "import numpy as np\n",
    "\n",
    "myA = np.arange(12)\n",
    "print(myA)\n",
    "print(\"\")\n",
    "print(\"Matrix:\")\n",
    "myA = myA.reshape((4,3))\n",
    "print(myA)\n",
    "\n",
    "print(\"Looping through elements:\")# equivalent to:\n",
    "for el in myA.flat:               # for el in myA.ravel():\n",
    "    print(\"Element:\", el)         #     print(\"Element:\",el)\n",
    "      \n",
    "\n",
    "print(\"Looping row by row:\") \n",
    "for el in myA:\n",
    "    print(\"Row: \", el, \"is a\", type(el))\n",
    "    for j in el:\n",
    "        print(\"\\tel:\", j)"
   ],
   "outputs": [
    {
     "output_type": "stream",
     "name": "stdout",
     "text": [
      "[ 0  1  2  3  4  5  6  7  8  9 10 11]\n",
      "\n",
      "Matrix:\n",
      "[[ 0  1  2]\n",
      " [ 3  4  5]\n",
      " [ 6  7  8]\n",
      " [ 9 10 11]]\n",
      "Looping through elements:\n",
      "Element: 0\n",
      "Element: 1\n",
      "Element: 2\n",
      "Element: 3\n",
      "Element: 4\n",
      "Element: 5\n",
      "Element: 6\n",
      "Element: 7\n",
      "Element: 8\n",
      "Element: 9\n",
      "Element: 10\n",
      "Element: 11\n",
      "Looping row by row:\n",
      "Row:  [0 1 2] is a <class 'numpy.ndarray'>\n",
      "\tel: 0\n",
      "\tel: 1\n",
      "\tel: 2\n",
      "Row:  [3 4 5] is a <class 'numpy.ndarray'>\n",
      "\tel: 3\n",
      "\tel: 4\n",
      "\tel: 5\n",
      "Row:  [6 7 8] is a <class 'numpy.ndarray'>\n",
      "\tel: 6\n",
      "\tel: 7\n",
      "\tel: 8\n",
      "Row:  [ 9 10 11] is a <class 'numpy.ndarray'>\n",
      "\tel: 9\n",
      "\tel: 10\n",
      "\tel: 11\n"
     ]
    }
   ],
   "metadata": {}
  },
  {
   "cell_type": "markdown",
   "source": [
    "Indexing and slicing can be performed as usual with the **[]** operator. ```np.ndarray[i,j]``` returns the element at row ```i``` and column ```j```. \n",
    "\n",
    "A multi-dimensional matrix has more than 2 dimensions. They can be thought as several 2D matrices stacked one on top of the other:\n",
    "\n",
    "![i2](img/pract9/ndmat.png)\n",
    "\n",
    "Note that ```np.ndarray[0,:,:]``` is the whole first matrix. ```np.ndarray[:,0,:]``` is all the first rows, while \n",
    "```np.ndarray[:,:,0]``` is all the first columns.\n",
    "Regarding slicing and indexing, the same reasoning applies to n-dimensional matrices. For example, ```myB``` below is a 3x3x3 matrix."
   ],
   "metadata": {}
  },
  {
   "cell_type": "code",
   "execution_count": 10,
   "source": [
    "import numpy as np\n",
    "\n",
    "rng = np.random.default_rng()\n",
    "\n",
    "myA = rng.integers(0,10, size = (3,4))\n",
    "print(myA)\n",
    "print(\"\")\n",
    "print(\"myA[2,2] = \", myA[2,2])\n",
    "print(\"myA[1,3] = \", myA[1,3])\n",
    "print(\"myA[0,3] = \", myA[0,3])\n",
    "print(\"second row:\", myA[1,:])\n",
    "print(\"\")\n",
    "print(\"3D matrix \",)\n",
    "myB = np.random.randint(0,10, size = (3,3,3))\n",
    "print(\" - shape:\", myB.shape)\n",
    "print(myB)\n",
    "print(\"\")\n",
    "print(\"myB[0,2,2] = \", myB[0,2,2])\n",
    "print(\"Second matrix:\")\n",
    "print(myB[1,:,:])\n",
    "print(\"Third row of second matrix:\")\n",
    "print(myB[1,2,:])\n",
    "print(\"Second column of second matrix:\")\n",
    "print(myB[1,:,1])"
   ],
   "outputs": [
    {
     "output_type": "stream",
     "name": "stdout",
     "text": [
      "[[3 0 1 6]\n",
      " [3 9 7 3]\n",
      " [0 4 0 0]]\n",
      "\n",
      "myA[2,2] =  0\n",
      "myA[1,3] =  3\n",
      "myA[0,3] =  6\n",
      "second row: [3 9 7 3]\n",
      "\n",
      "3D matrix \n",
      " - shape: (3, 3, 3)\n",
      "[[[0 3 1]\n",
      "  [2 6 0]\n",
      "  [0 7 9]]\n",
      "\n",
      " [[9 3 7]\n",
      "  [0 4 4]\n",
      "  [1 7 2]]\n",
      "\n",
      " [[1 4 1]\n",
      "  [5 9 9]\n",
      "  [4 5 1]]]\n",
      "\n",
      "myB[0,2,2] =  9\n",
      "Second matrix:\n",
      "[[9 3 7]\n",
      " [0 4 4]\n",
      " [1 7 2]]\n",
      "Third row of second matrix:\n",
      "[1 7 2]\n",
      "Second column of second matrix:\n",
      "[3 4 7]\n"
     ]
    }
   ],
   "metadata": {}
  },
  {
   "cell_type": "markdown",
   "source": [
    "## Broadcasting and arithmetic functions\n",
    "\n",
    "Universal functions are very efficient element-wise functions that can be applied on ndarrays. As seen in Pandas,  operations involving scalar values and arrays are broadcast to all the elements of the ndarray, while operations performed on arrays having the same size are done element by element. \n",
    "\n",
    "Note also that it is possible to perform some operations only on a **sub-part** of an ndarray. Moreover, if operators are applied to **differently sized, but compatible, ndarrays** (es. matrix 3x3x3 and vector 3x1), numpy will perform broadcast of the operator. \n",
    "Let's see some examples:"
   ],
   "metadata": {}
  },
  {
   "cell_type": "code",
   "execution_count": 11,
   "source": [
    "import numpy as np\n",
    "\n",
    "rng = np.random.default_rng()\n",
    "A = rng.integers(0,10, size = (3,2))\n",
    "B = rng.integers(0,10, size = (3,3,3))\n",
    "C = rng.integers(0,10, size = (3,1))\n",
    "print(\"Matrix A 3x2\")\n",
    "print(A)\n",
    "print(\"\")\n",
    "print(\"Matrix B 3x3x3\")\n",
    "print(B)\n",
    "print(\"\")\n",
    "print(\"Matrix C 3x1\")\n",
    "print(C)\n",
    "print(\"\")\n",
    "print(\"A squared\")\n",
    "print(A**2)\n",
    "print(\"\")\n",
    "print(\"A square-rooted\")\n",
    "print(np.sqrt(A))\n",
    "\n",
    "print(\"\")\n",
    "print(\"B square-rooted\")\n",
    "print(np.sqrt(B))\n",
    "\n",
    "print(\"A + C \")\n",
    "print(A + C)\n",
    "print(\"\")\n",
    "\n",
    "print(\"B + C \")\n",
    "print(B  + C)\n",
    "\n",
    "print(\"\")\n",
    "print(\"B\")\n",
    "print(B)\n",
    "print(\"Sub array B - 20\")\n",
    "B[:, 0:2 , 0:2 ] -= 20\n",
    "print(B)"
   ],
   "outputs": [
    {
     "output_type": "stream",
     "name": "stdout",
     "text": [
      "Matrix A 3x2\n",
      "[[1 4]\n",
      " [1 0]\n",
      " [5 0]]\n",
      "\n",
      "Matrix B 3x3x3\n",
      "[[[5 5 8]\n",
      "  [2 7 5]\n",
      "  [3 2 7]]\n",
      "\n",
      " [[6 7 8]\n",
      "  [5 2 7]\n",
      "  [1 4 1]]\n",
      "\n",
      " [[4 3 5]\n",
      "  [2 4 5]\n",
      "  [9 1 7]]]\n",
      "\n",
      "Matrix C 3x1\n",
      "[[8]\n",
      " [5]\n",
      " [1]]\n",
      "\n",
      "A squared\n",
      "[[ 1 16]\n",
      " [ 1  0]\n",
      " [25  0]]\n",
      "\n",
      "A square-rooted\n",
      "[[1.         2.        ]\n",
      " [1.         0.        ]\n",
      " [2.23606798 0.        ]]\n",
      "\n",
      "B square-rooted\n",
      "[[[2.23606798 2.23606798 2.82842712]\n",
      "  [1.41421356 2.64575131 2.23606798]\n",
      "  [1.73205081 1.41421356 2.64575131]]\n",
      "\n",
      " [[2.44948974 2.64575131 2.82842712]\n",
      "  [2.23606798 1.41421356 2.64575131]\n",
      "  [1.         2.         1.        ]]\n",
      "\n",
      " [[2.         1.73205081 2.23606798]\n",
      "  [1.41421356 2.         2.23606798]\n",
      "  [3.         1.         2.64575131]]]\n",
      "A + C \n",
      "[[ 9 12]\n",
      " [ 6  5]\n",
      " [ 6  1]]\n",
      "\n",
      "B + C \n",
      "[[[13 13 16]\n",
      "  [ 7 12 10]\n",
      "  [ 4  3  8]]\n",
      "\n",
      " [[14 15 16]\n",
      "  [10  7 12]\n",
      "  [ 2  5  2]]\n",
      "\n",
      " [[12 11 13]\n",
      "  [ 7  9 10]\n",
      "  [10  2  8]]]\n",
      "\n",
      "B\n",
      "[[[5 5 8]\n",
      "  [2 7 5]\n",
      "  [3 2 7]]\n",
      "\n",
      " [[6 7 8]\n",
      "  [5 2 7]\n",
      "  [1 4 1]]\n",
      "\n",
      " [[4 3 5]\n",
      "  [2 4 5]\n",
      "  [9 1 7]]]\n",
      "Sub array B - 20\n",
      "[[[-15 -15   8]\n",
      "  [-18 -13   5]\n",
      "  [  3   2   7]]\n",
      "\n",
      " [[-14 -13   8]\n",
      "  [-15 -18   7]\n",
      "  [  1   4   1]]\n",
      "\n",
      " [[-16 -17   5]\n",
      "  [-18 -16   5]\n",
      "  [  9   1   7]]]\n"
     ]
    }
   ],
   "metadata": {}
  },
  {
   "cell_type": "markdown",
   "source": [
    "A lot of mathematical and statistical functions can be applied. Examples include trigonometric functions like **sin, cos, tan,...**, statistical functions like **mean, std, max, min, cumsum,...**  see the [documentation](https://docs.scipy.org/doc/numpy/reference/routines.math.html) for a complete list.\n",
    "\n",
    "\n",
    "**Example:**\n",
    "Let's create and plot a sin, cos and $\\log_2 (2 + sin+cos)$ from -2Pi to 2Pi"
   ],
   "metadata": {}
  },
  {
   "cell_type": "code",
   "execution_count": 12,
   "source": [
    "import numpy as np\n",
    "import matplotlib.pyplot as plt\n",
    "\n",
    "A = np.arange(-2* np.pi, 2*np.pi, 0.01)\n",
    "\n",
    "sA = np.sin(A)\n",
    "cA = np.cos(A)\n",
    "\n",
    "\n",
    "plt.plot(sA)\n",
    "plt.plot(cA)\n",
    "plt.plot(np.log2(2 + sA + cA))\n",
    "\n",
    "plt.legend([\"Sin(x)\", \"Cos(x)\",\"$\\log_2{2+sin(x)+cos(x)}$\"])\n",
    "plt.show()"
   ],
   "outputs": [
    {
     "output_type": "display_data",
     "data": {
      "text/plain": [
       "<matplotlib.figure.Figure at 0x7f1fec16b400>"
      ],
      "image/png": "[encoded data removed]"
     },
     "metadata": {
      "needs_background": "light"
     }
    }
   ],
   "metadata": {}
  },
  {
   "cell_type": "markdown",
   "source": [
    "## Filtering\n",
    "\n",
    "It is possible to filter ```np.ndarrays``` to retrieve the indexes (or the values) meeting specific conditions. The method ```where``` provides the index of those values. Note that if the ```np.ndarray``` is actually a matrix, ```where``` returns a tuple of indexes that are respectively the i and j coordinates of the elements fulfilling the condition.\n",
    "\n",
    "**Example**: write a method that creates the np.ndarray with all the integers multiple of a certain number N that do not exceed M. The method should return also the indexes of those values in the original np.ndarray.  "
   ],
   "metadata": {}
  },
  {
   "cell_type": "code",
   "execution_count": 13,
   "source": [
    "import numpy as np\n",
    "\n",
    "def getMultiples(N,M):\n",
    "    all = np.arange(1,M+1)\n",
    "    ind = np.where(all % N == 0)\n",
    "    filt = (all % N == 0)\n",
    "    return ind, all[filt]\n",
    "    \n",
    "\n",
    "res = getMultiples(13, 1000)\n",
    "print(\"Indexes: {}\\nValues:{}\".format(res[0],res[1]))"
   ],
   "outputs": [
    {
     "output_type": "stream",
     "name": "stdout",
     "text": [
      "Indexes: (array([ 12,  25,  38,  51,  64,  77,  90, 103, 116, 129, 142, 155, 168,\n",
      "       181, 194, 207, 220, 233, 246, 259, 272, 285, 298, 311, 324, 337,\n",
      "       350, 363, 376, 389, 402, 415, 428, 441, 454, 467, 480, 493, 506,\n",
      "       519, 532, 545, 558, 571, 584, 597, 610, 623, 636, 649, 662, 675,\n",
      "       688, 701, 714, 727, 740, 753, 766, 779, 792, 805, 818, 831, 844,\n",
      "       857, 870, 883, 896, 909, 922, 935, 948, 961, 974, 987]),)\n",
      "Values:[ 13  26  39  52  65  78  91 104 117 130 143 156 169 182 195 208 221 234\n",
      " 247 260 273 286 299 312 325 338 351 364 377 390 403 416 429 442 455 468\n",
      " 481 494 507 520 533 546 559 572 585 598 611 624 637 650 663 676 689 702\n",
      " 715 728 741 754 767 780 793 806 819 832 845 858 871 884 897 910 923 936\n",
      " 949 962 975 988]\n"
     ]
    }
   ],
   "metadata": {}
  },
  {
   "cell_type": "code",
   "execution_count": 14,
   "source": [
    "import numpy as np\n",
    "\n",
    "myA = np.arange(12).reshape((3,4))\n",
    "print(myA)\n",
    "print(\"Elements divisible by 3\")\n",
    "indexes = np.where(myA % 3 == 0) \n",
    "print(\"Indexes:\\n{}\".format(indexes))\n",
    "for ind in range(len(indexes[0])):\n",
    "    i = indexes[0][ind]\n",
    "    j = indexes[1][ind]\n",
    "    print(\"({},{}) -> {}\".format(i,j, myA[i][j]))"
   ],
   "outputs": [
    {
     "output_type": "stream",
     "name": "stdout",
     "text": [
      "[[ 0  1  2  3]\n",
      " [ 4  5  6  7]\n",
      " [ 8  9 10 11]]\n",
      "Elements divisible by 3\n",
      "Indexes:\n",
      "(array([0, 0, 1, 2]), array([0, 3, 2, 1]))\n",
      "(0,0) -> 0\n",
      "(0,3) -> 3\n",
      "(1,2) -> 6\n",
      "(2,1) -> 9\n"
     ]
    }
   ],
   "metadata": {}
  },
  {
   "cell_type": "markdown",
   "source": [
    "**Example**: Let's do some filtering on the sine and cosine series plotted above."
   ],
   "metadata": {}
  },
  {
   "cell_type": "code",
   "execution_count": 15,
   "source": [
    "import numpy as np\n",
    "import matplotlib.pyplot as plt\n",
    "\n",
    "A = np.arange(-2* np.pi, 2*np.pi, 0.01)\n",
    "\n",
    "sA = np.sin(A)\n",
    "cA = np.cos(A)\n",
    "\n",
    "plt.plot(sA)\n",
    "plt.plot(cA)\n",
    "\n",
    "\n",
    "s0A_Y = sA[sA < 0] #get the values < 0\n",
    "s0A_X = np.where(sA < 0) # the index of vaues < 0\n",
    "\n",
    "c0A_Y = cA[np.all( [cA > 0.5 , cA < 0.75], axis = 0)]\n",
    "c0A_X = np.where(np.all( [cA > 0.5 , cA < 0.75], axis = 0))\n",
    "\n",
    "plt.scatter(s0A_X,s0A_Y, marker='o', c = 'red')\n",
    "plt.scatter(c0A_X,c0A_Y, marker='X', c = 'green')\n",
    "\n",
    "plt.legend([\"Sin(x)\",  \"Cos(x)\",\"Sin(x) < 0\", \"Cos(x) in[0.5,0.75]\"])\n",
    "plt.show()"
   ],
   "outputs": [
    {
     "output_type": "display_data",
     "data": {
      "text/plain": [
       "<matplotlib.figure.Figure at 0x7f1fad545390>"
      ],
      "image/png": "[encoded data removed]"
     },
     "metadata": {
      "needs_background": "light"
     }
    }
   ],
   "metadata": {}
  },
  {
   "cell_type": "markdown",
   "source": [
    "Note that in the code above, ```np.all``` tests if the two conditions are True at the same time (i.e. AND). If we want to test if at least one is True we use ```np.any```. See [np.all](https://docs.scipy.org/doc/numpy-1.16.1/reference/generated/numpy.all.html#numpy.all) and [np.any](https://docs.scipy.org/doc/numpy-1.16.1/reference/generated/numpy.all.html#numpy.any) for more info:"
   ],
   "metadata": {}
  },
  {
   "cell_type": "code",
   "execution_count": 16,
   "source": [
    "import numpy as np\n",
    "\n",
    "v1 = [True, False,False, True]\n",
    "v2 = [False, False,True, True]\n",
    "v3 = [False, False, False, True]\n",
    "print(\"vals:\")\n",
    "vals = np.array([v1,v2,v3]) \n",
    "print(vals)      \n",
    "print(\"\\nANY(vals):\")\n",
    "print(np.any(vals, axis=0))\n",
    "print(\"\\nANY(vals) on rows:\")\n",
    "print(np.any(vals, axis=1))\n",
    "print(\"\\nALL(vals):\")\n",
    "print(np.all(vals, axis=0))\n",
    "\n",
    "print(\"\\nALL(vals) on rows:\")\n",
    "print(np.all(vals, axis=1))\n"
   ],
   "outputs": [
    {
     "output_type": "stream",
     "name": "stdout",
     "text": [
      "vals:\n",
      "[[ True False False  True]\n",
      " [False False  True  True]\n",
      " [False False False  True]]\n",
      "\n",
      "ANY(vals):\n",
      "[ True False  True  True]\n",
      "\n",
      "ANY(vals) on rows:\n",
      "[ True  True  True]\n",
      "\n",
      "ALL(vals):\n",
      "[False False False  True]\n",
      "\n",
      "ALL(vals) on rows:\n",
      "[False False False]\n"
     ]
    }
   ],
   "metadata": {}
  },
  {
   "cell_type": "markdown",
   "source": [
    "We can apply all and any on 3D matrices as well, note the behaviour of ```axis``` in this case, that can assume values in [0,1,2] as in the following picture and example:\n",
    "\n",
    "![allany3d](img/pract9/allany3d.png)\n"
   ],
   "metadata": {}
  },
  {
   "cell_type": "code",
   "execution_count": 17,
   "source": [
    "import numpy as np\n",
    "\n",
    "v1 = [[True, False],[False, True]]\n",
    "v2 = [[False, False],[True, True]]\n",
    "v3 = [[False, False], [False, True]]\n",
    "print(\"vals:\")\n",
    "vals = np.array([v1,v2,v3]) \n",
    "print(vals) \n",
    "print(\"\\nThe matrix is {}D\".format(vals.ndim))\n",
    "print(\"First matrix:\")\n",
    "print(vals[0,:,:])\n",
    "print(\"\\nFirst row, all matrices:\")\n",
    "print(vals[:,0,:])\n",
    "print(\"\\nSecond column, all matrices:\")\n",
    "print(vals[:,:,1])\n",
    "\n",
    "print(\"\\nAXIS=0\")\n",
    "print(\"ANY:\")\n",
    "print(np.any(vals, axis=0))\n",
    "print(\"ALL \")\n",
    "print(np.all(vals, axis=0))\n",
    "\n",
    "print(\"\\nAXIS=1\")\n",
    "print(\"ANY:\")\n",
    "print(np.any(vals, axis=1))\n",
    "print(\"ALL:\")\n",
    "print(np.all(vals, axis=1))\n",
    "\n",
    "print(\"\\nAXIS=2\")\n",
    "print(\"ANY:\")\n",
    "print(np.any(vals, axis=2))\n",
    "print(\"ALL:\")\n",
    "print(np.all(vals, axis=2))\n",
    "\n"
   ],
   "outputs": [
    {
     "output_type": "stream",
     "name": "stdout",
     "text": [
      "vals:\n",
      "[[[ True False]\n",
      "  [False  True]]\n",
      "\n",
      " [[False False]\n",
      "  [ True  True]]\n",
      "\n",
      " [[False False]\n",
      "  [False  True]]]\n",
      "\n",
      "The matrix is 3D\n",
      "First matrix:\n",
      "[[ True False]\n",
      " [False  True]]\n",
      "\n",
      "First row, all matrices:\n",
      "[[ True False]\n",
      " [False False]\n",
      " [False False]]\n",
      "\n",
      "Second column, all matrices:\n",
      "[[False  True]\n",
      " [False  True]\n",
      " [False  True]]\n",
      "\n",
      "AXIS=0\n",
      "ANY:\n",
      "[[ True False]\n",
      " [ True  True]]\n",
      "ALL \n",
      "[[False False]\n",
      " [False  True]]\n",
      "\n",
      "AXIS=1\n",
      "ANY:\n",
      "[[ True  True]\n",
      " [ True  True]\n",
      " [False  True]]\n",
      "ALL:\n",
      "[[False False]\n",
      " [False False]\n",
      " [False False]]\n",
      "\n",
      "AXIS=2\n",
      "ANY:\n",
      "[[ True  True]\n",
      " [False  True]\n",
      " [False  True]]\n",
      "ALL:\n",
      "[[False False]\n",
      " [False  True]\n",
      " [False False]]\n"
     ]
    }
   ],
   "metadata": {}
  },
  {
   "cell_type": "markdown",
   "source": [
    "## Linear algebra\n",
    "\n",
    "In numpy the product operator ```*``` is used to perform element-wise product, and therefore the arrays in input must have the same size. \n",
    "Matrix-matrix multiplication can be done through the ```np.dot(x,y)``` method, which is also a method of the object ```np.ndarray``` and therefore if ```x``` is a ```np.ndarray``` of compatible size with ```y```, we can perform their product with ```x.dot(y)```.\n",
    "\n",
    "A ndarray can be transposed by using the method ```T```."
   ],
   "metadata": {}
  },
  {
   "cell_type": "code",
   "execution_count": 18,
   "source": [
    "import numpy as np\n",
    "\n",
    "a = np.array([1, 2, 3, 1, 2, 3,1, 1 ,1])\n",
    "A = a.reshape((3,3))\n",
    "rng = np.random.default_rng()\n",
    "B = rng.integers(0,10, size = (3,2))\n",
    "\n",
    "print(\"A (3x3)\")\n",
    "print(A)\n",
    "print(\"\")\n",
    "print(\"B (3x2)\")\n",
    "print(B)\n",
    "print(\"\")\n",
    "print(\"AxB (3x2)\")\n",
    "print(A.dot(B))\n",
    "print(\"\")\n",
    "print(\"A transposed:\")\n",
    "print(A.T)"
   ],
   "outputs": [
    {
     "output_type": "stream",
     "name": "stdout",
     "text": [
      "A (3x3)\n",
      "[[1 2 3]\n",
      " [1 2 3]\n",
      " [1 1 1]]\n",
      "\n",
      "B (3x2)\n",
      "[[8 4]\n",
      " [1 0]\n",
      " [4 5]]\n",
      "\n",
      "AxB (3x2)\n",
      "[[22 19]\n",
      " [22 19]\n",
      " [13  9]]\n",
      "\n",
      "A transposed:\n",
      "[[1 1 1]\n",
      " [2 2 1]\n",
      " [3 3 1]]\n"
     ]
    }
   ],
   "metadata": {}
  },
  {
   "cell_type": "markdown",
   "source": [
    "Numpy has a module called ```linalg``` providing several functions that implement matrix decompositions, inversions, determinant calculation and so on. Some of these methods are ```linalg.inv``` for the matrix inversion, ```linalg.qr``` for the QR decomposition, ```linalg.cholesky``` for the Cholesky decomposition, ```linalg.eig``` to find the eigenvalues of a matrix, ```linalg.solve``` to solve a system of linear equations and so on. \n",
    "\n",
    "The complete list of all available methods can be found in the [documentation](https://docs.scipy.org/doc/numpy-1.13.0/reference/routines.linalg.html).\n",
    "\n",
    "**Example:**\n",
    "Let's create a random 4x4 matrix and invert it. Let's finally check that the product of the matrix by its inversion yields the 4x4 identity matrix."
   ],
   "metadata": {}
  },
  {
   "cell_type": "code",
   "execution_count": 19,
   "source": [
    "import numpy as np\n",
    "from numpy import linalg\n",
    "\n",
    "rng = np.random.default_rng()\n",
    "A = rng.integers(0,10, size = (4,4))\n",
    "print(\"Matrix A:\")\n",
    "print(A)\n",
    "print(\"\")\n",
    "print(\"inv(A)\")\n",
    "A_1 = linalg.inv(A)\n",
    "print(A_1)\n",
    "print(\"\")\n",
    "print(np.dot(A,A_1)) # equivalent to print(A.dot(A_1))"
   ],
   "outputs": [
    {
     "output_type": "stream",
     "name": "stdout",
     "text": [
      "Matrix A:\n",
      "[[1 3 6 4]\n",
      " [1 9 9 1]\n",
      " [3 3 3 0]\n",
      " [3 8 9 0]]\n",
      "\n",
      "inv(A)\n",
      "[[ 0.02222222 -0.08888889  0.42222222 -0.06666667]\n",
      " [-0.13333333  0.53333333  0.46666667 -0.6       ]\n",
      " [ 0.11111111 -0.44444444 -0.55555556  0.66666667]\n",
      " [ 0.17777778  0.28888889  0.37777778 -0.53333333]]\n",
      "\n",
      "[[ 1.00000000e+00  0.00000000e+00  2.22044605e-16 -4.44089210e-16]\n",
      " [ 0.00000000e+00  1.00000000e+00  3.33066907e-16 -4.44089210e-16]\n",
      " [-1.38777878e-17 -2.22044605e-16  1.00000000e+00 -1.11022302e-16]\n",
      " [ 6.93889390e-17  2.22044605e-16 -1.11022302e-16  1.00000000e+00]]\n"
     ]
    }
   ],
   "metadata": {}
  },
  {
   "cell_type": "markdown",
   "source": [
    "**Example:**\n",
    "Let's solve the following system of linear equations:$\\begin{cases} 2x + y - 2z = 3\\\\ x - y - z = 0\\\\ x + y + 3z = 12\\end{cases}$"
   ],
   "metadata": {}
  },
  {
   "cell_type": "code",
   "execution_count": 20,
   "source": [
    "import numpy as np\n",
    "from numpy import linalg\n",
    "\n",
    "A = np.array([[2, 1, -2],[1,-1,-1], [1, 1 ,3]])\n",
    "b = np.array([3, 0, 12])\n",
    "\n",
    "print(\"A\")\n",
    "print(A)\n",
    "print(\"\")\n",
    "print(\"b\")\n",
    "print(b)\n",
    "print(\"\")\n",
    "#Let's find x such that: Ax = b\n",
    "x = linalg.solve(A,b)\n",
    "print(\"x\")\n",
    "print(x)\n",
    "#Let's double check Ax = b:\n",
    "print(\"\")\n",
    "print(\"Ax:\")\n",
    "print(np.dot(A,x))"
   ],
   "outputs": [
    {
     "output_type": "stream",
     "name": "stdout",
     "text": [
      "A\n",
      "[[ 2  1 -2]\n",
      " [ 1 -1 -1]\n",
      " [ 1  1  3]]\n",
      "\n",
      "b\n",
      "[ 3  0 12]\n",
      "\n",
      "x\n",
      "[3.5 1.  2.5]\n",
      "\n",
      "Ax:\n",
      "[ 3.  0. 12.]\n"
     ]
    }
   ],
   "metadata": {}
  },
  {
   "cell_type": "markdown",
   "source": [
    "## Matplotlib\n",
    "\n",
    "Matplotlib is a library created for producing publication quality plots. To use matplotlib one has to import it in the python program. Typically this is done with\n",
    "```\n",
    "import matplotlib.pyplot as plt \n",
    "```\n",
    "Documentation and several examples can be found at the [matplotlib website](https://matplotlib.org/index.html).\n",
    "\n",
    "Figures can also be saved to files with ```plt.savefig('filename')```.\n",
    "\n",
    "\n",
    "**Example:** [adapted from documentation]\n",
    "Let's plot the function $cos(2 * \\Pi * x)*sin(2 * \\Pi * x)$ for x ranging from 0 to 10, annotating the point (5,0)."
   ],
   "metadata": {}
  },
  {
   "cell_type": "code",
   "execution_count": 21,
   "source": [
    "import numpy as np\n",
    "import matplotlib.pyplot as plt\n",
    "\n",
    "x = np.arange(0, 10, 0.005)\n",
    "y = np.cos(np.pi*x) * np.sin(2*np.pi*x)\n",
    "\n",
    "fig = plt.figure()\n",
    "\n",
    "ax = fig.add_subplot(111)\n",
    "xdata = 5\n",
    "ydata = 0\n",
    "\n",
    "ax.plot(x, y)\n",
    "ax.set_xlim(0, 10)\n",
    "ax.set_ylim(-1, 1)\n",
    "\n",
    "xdata = 5\n",
    "ydata = 0\n",
    "\n",
    "bbox = dict(boxstyle=\"round\", fc=\"0.8\")\n",
    "arrowprops = dict(\n",
    "    arrowstyle = \"->\")\n",
    "\n",
    "offset = 92\n",
    "ax.annotate('(%.1f, %.1f)'%(xdata, ydata),\n",
    "            (xdata, ydata), xytext=(-1.5*offset, offset), textcoords='offset points',\n",
    "            bbox=bbox, arrowprops=arrowprops)\n",
    "\n",
    "plt.show()"
   ],
   "outputs": [
    {
     "output_type": "display_data",
     "data": {
      "text/plain": [
       "<matplotlib.figure.Figure at 0x7f1fa6493780>"
      ],
      "image/png": "[encoded data removed]"
     },
     "metadata": {
      "needs_background": "light"
     }
    }
   ],
   "metadata": {}
  },
  {
   "cell_type": "markdown",
   "source": [
    "**Example:**\n",
    "Let's plot simultaneusly $sin(2 * \\Pi * x)$, $cos(2  \\Pi  x)$ and $sin(2  \\Pi  x)*cos(2 \\Pi x)$ for x ranging from 0 to 5."
   ],
   "metadata": {}
  },
  {
   "cell_type": "code",
   "execution_count": 22,
   "source": [
    "import numpy as np\n",
    "import matplotlib.pyplot as plt\n",
    "\n",
    "x = np.arange(0, 5, 0.005)\n",
    "y = np.sin(2*np.pi*x)\n",
    "y1 = np.cos(2*np.pi*x)\n",
    "y2 = np.sin(2*np.pi*x)*np.cos(2*np.pi*x)\n",
    "\n",
    "f, (ax1, ax2, ax3) = plt.subplots(3, sharex=True, sharey=True)\n",
    "ax1.plot(x, y,'r')\n",
    "ax2.plot(x, y1,'g')\n",
    "ax3.plot(x,y2,'b')\n",
    "ax1.legend([\"sin\"])\n",
    "ax2.legend([\"cos\"])\n",
    "ax3.legend([\"sin * cos\"])\n",
    "\n",
    "plt.show()"
   ],
   "outputs": [
    {
     "output_type": "display_data",
     "data": {
      "text/plain": [
       "<matplotlib.figure.Figure at 0x7f1fa64938d0>"
      ],
      "image/png": "[encoded data removed]"
     },
     "metadata": {
      "needs_background": "light"
     }
    }
   ],
   "metadata": {}
  },
  {
   "cell_type": "markdown",
   "source": [
    "## Exercises\n"
   ],
   "metadata": {}
  },
  {
   "cell_type": "markdown",
   "source": [
    "1. Write a function that converts a numpy ndarray of temperatures expressed in Degrees Celsius into Degrees Farenheit. The formula to convert a temperature C in Celsius into F in Farenheit is the following:\n",
    "    $$F = C * 9/5 + 32$$\n",
    "    \n",
    "    Write then a function that converts a numpy ndarray of temperatures in Farenheit into Celsius.\n",
    "    \n",
    "    Finally: \n",
    "     1. apply the Celsius to Farenheit conversion on an ndarray containing the following October's minimum and maximum temperatures in Trento: tmin = [12, 11, 11, 8, 9, 10, 3, 8, 4, 5, 10, 9, 8, 9, 8, 7, 6, 4, 5, 6, 9, 9, 3, 3, 5] and tmax =[15, 22, 18, 20, 22, 22, 20, 21, 21, 21, 21, 23, 24, 24, 24, 25, 22, 22, 20, 20, 19, 15, 20, 23, 19];\n",
    "     2. check that both functions work correctly by converting the values from Celsius to Farenheit and back to Celsius;\n",
    "     3. plot the minimum and maximum temperatures in celsius on the same graph. Since the temperatures refer to the first 25 days of the month of October 2017, the x coordinate can be a range(1,26);\n",
    "    \n",
    "<div class=\"tggle\" onclick=\"toggleVisibility('ex1');\">Show/Hide Solution</div>\n",
    "<div id=\"ex1\" style=\"display:none;\">"
   ],
   "metadata": {}
  },
  {
   "cell_type": "code",
   "execution_count": 23,
   "source": [
    "import numpy as np\n",
    "import matplotlib.pyplot as plt\n",
    "\n",
    "\n",
    "def Celsius2Farenheit(CA):\n",
    "    FA = CA * 9/5 + 32\n",
    "    return FA\n",
    "\n",
    "def Farenheit2Celsius(FA):\n",
    "    CA = (FA - 32) * 5/9\n",
    "    return CA\n",
    "\n",
    "tmin = [12, 11, 11, 8, 9, 10, 3, 8, 4, 5, 10, 9, 8, 9, 8, 7, 6, 4, 5, 6, 9, 9, 3, 3, 5] \n",
    "tmax =[15, 22, 18, 20, 22, 22, 20, 21, 21, 21, 21, 23, 24, 24, 24, 25, 22, 22, 20, 20, 19, 15, 20, 23, 19]\n",
    "\n",
    "minC = np.array(tmin)\n",
    "maxC = np.array(tmax)\n",
    "\n",
    "minF = Celsius2Farenheit(minC)\n",
    "maxF = Celsius2Farenheit(maxC)\n",
    "\n",
    "print(\"T min in Celsius:\")\n",
    "print(minC)\n",
    "print(\"\")\n",
    "print(\"T min in Farenheit\")\n",
    "print(minF)\n",
    "print(\"T max in Celsius:\")\n",
    "print(maxC)\n",
    "print(\"\")\n",
    "print(\"T max in Farenheit\")\n",
    "print(maxF)\n",
    "\n",
    "print(Farenheit2Celsius(minF))\n",
    "\n",
    "#plotting the data:\n",
    "x = np.arange(1,26,1)\n",
    "\n",
    "plt.plot(x, minC, 'r', x,maxC, 'b')\n",
    "plt.title(\"Temperature in Trento: October 2017\")\n",
    "plt.ylabel('°C')\n",
    "plt.xlabel('Day')\n",
    "plt.legend(['T min', 'T max'])\n",
    "plt.show()\n",
    "#plt.close()\n",
    "plt.plot(x, minF, 'r', x,maxF, 'b')\n",
    "plt.title(\"Temperature in Trento: October 2017\")\n",
    "plt.ylabel('°F')\n",
    "plt.xlabel('Day')\n",
    "plt.legend(['T min', 'T max'])\n",
    "plt.show()"
   ],
   "outputs": [
    {
     "output_type": "stream",
     "name": "stdout",
     "text": [
      "T min in Celsius:\n",
      "[12 11 11  8  9 10  3  8  4  5 10  9  8  9  8  7  6  4  5  6  9  9  3  3\n",
      "  5]\n",
      "\n",
      "T min in Farenheit\n",
      "[53.6 51.8 51.8 46.4 48.2 50.  37.4 46.4 39.2 41.  50.  48.2 46.4 48.2\n",
      " 46.4 44.6 42.8 39.2 41.  42.8 48.2 48.2 37.4 37.4 41. ]\n",
      "T max in Celsius:\n",
      "[15 22 18 20 22 22 20 21 21 21 21 23 24 24 24 25 22 22 20 20 19 15 20 23\n",
      " 19]\n",
      "\n",
      "T max in Farenheit\n",
      "[59.  71.6 64.4 68.  71.6 71.6 68.  69.8 69.8 69.8 69.8 73.4 75.2 75.2\n",
      " 75.2 77.  71.6 71.6 68.  68.  66.2 59.  68.  73.4 66.2]\n",
      "[12. 11. 11.  8.  9. 10.  3.  8.  4.  5. 10.  9.  8.  9.  8.  7.  6.  4.\n",
      "  5.  6.  9.  9.  3.  3.  5.]\n"
     ]
    },
    {
     "output_type": "display_data",
     "data": {
      "text/plain": [
       "<matplotlib.figure.Figure at 0x7f1fb0191ac8>"
      ],
      "image/png": "[encoded data removed]"
     },
     "metadata": {
      "needs_background": "light"
     }
    },
    {
     "output_type": "display_data",
     "data": {
      "text/plain": [
       "<matplotlib.figure.Figure at 0x7f1fa635e240>"
      ],
      "image/png": "[encoded data removed]"
     },
     "metadata": {
      "needs_background": "light"
     }
    }
   ],
   "metadata": {}
  },
  {
   "cell_type": "markdown",
   "source": [
    "</div>"
   ],
   "metadata": {}
  },
  {
   "cell_type": "markdown",
   "source": [
    "2. Create the following functions:\n",
    "    * a) createRadomList : with parameters, N, min, max. Creates a list of N random integers ranging from min to max;\n",
    "    * b) **getIdentical** : with parameters two lists of integers L1 and L2 having the same size. It returns the list of indexes I where L1[I] == L2[I]  \n",
    "\n",
    "    * c) **check** : gets lists L1, L2, identities (as computed by getIdentical) and a number N and prints if the first N and last N values in identities correspond to indexes of identical values in L1 and L2;\n",
    "    \n",
    "    * d) implement **getIdentical** using numpy.ndarrays. Call it **getIdenticalNpy** (hint: subtract the two arrays and find zeros).\n",
    "    \n",
    "Test the software creating two lists of 100,000 random numbers from 0 to 10.\n",
    "You should get something similar to:\n",
    "```\n",
    "    100000\n",
    "    100000\n",
    "    9032\n",
    "    Index: 4 L: 1 L1: 1\n",
    "    Index: 21 L: 10 L1: 10\n",
    "    Index: 32 L: 6 L1: 6\n",
    "    Index: 37 L: 5 L1: 5\n",
    "    Index: 47 L: 1 L1: 1\n",
    "    Index: 99974 L: 8 L1: 8\n",
    "    Index: 99982 L: 6 L1: 6\n",
    "    Index: 99983 L: 3 L1: 3\n",
    "    Index: 99984 L: 4 L1: 4\n",
    "    Index: 99987 L: 0 L1: 0\n",
    "\n",
    "    Identities are OK!\n",
    "    9032\n",
    "    Index: 4 L: 1 L1: 1\n",
    "    Index: 21 L: 10 L1: 10\n",
    "    Index: 32 L: 6 L1: 6\n",
    "    Index: 37 L: 5 L1: 5\n",
    "    Index: 47 L: 1 L1: 1\n",
    "    Index: 99974 L: 8 L1: 8\n",
    "    Index: 99982 L: 6 L1: 6\n",
    "    Index: 99983 L: 3 L1: 3\n",
    "    Index: 99984 L: 4 L1: 4\n",
    "    Index: 99987 L: 0 L1: 0\n",
    "\n",
    "    Identities are OK!\n",
    "```\n",
    "\n",
    "<div class=\"tggle\" onclick=\"toggleVisibility('ex2');\">Show/Hide Solution</div>\n",
    "<div id=\"ex2\" style=\"display:none;\">"
   ],
   "metadata": {}
  },
  {
   "cell_type": "code",
   "execution_count": null,
   "source": [
    "import random\n",
    "import numpy as np\n",
    "import time \n",
    "\n",
    "\n",
    "def createRandomList(N=0, min=0, max=10):\n",
    "    \"\"\"creates a list of N random numbers in [min,max]\"\"\"\n",
    "    L = []\n",
    "    rng = np.random.default_rng()\n",
    "    for i in range(0,N):\n",
    "        L.append(rng.integers(min,max))\n",
    "    #L = [random.randint(min,max) for i in range(0,N)]\n",
    "    return L\n",
    "\n",
    "\n",
    "def getIdentical(list1,list2):\n",
    "    \"\"\"return indexes of identical values \n",
    "    (lists assumed of same size)\"\"\"\n",
    "    \n",
    "    return [i for i in range(0,len(list1)) if list1[i] == list2[i]]\n",
    "\n",
    "def getIdenticalNpy(list1,list2):\n",
    "    \"\"\"return indexes of identical values \n",
    "    (lists assumed of same size)\"\"\"\n",
    "    nda1 = np.array(list1)\n",
    "    nda2 = np.array(list2)\n",
    "    diff = nda1 - nda2\n",
    "    ret = list(np.where(diff == 0)[0])\n",
    "    return ret\n",
    "\n",
    "\n",
    "def check(list1, list2, identical,N=10):\n",
    "    ret = True\n",
    "    for index in identical[0:5]:\n",
    "        if list1[index] !=list2[index]:\n",
    "            ret = False\n",
    "            \n",
    "        print(\"Index: {} L: {} L1: {}\".format(index, list1[index], list2[index]))\n",
    "        #assert(L[index] ==  L1[index])\n",
    "    for index in identical[-N:]:\n",
    "        if list1[index] !=list2[index]:\n",
    "            ret = False\n",
    "        print(\"Index: {} L: {} L1: {}\".format(index, list1[index], list2[index]))\n",
    "        #assert(L[index] ==  L1[index])\n",
    "    \n",
    "    return ret\n",
    "\n",
    "def checkRND(list1, list2, identical,N=10):\n",
    "    ret = True\n",
    "    for index in createRandomList(N,0,len(identical)):\n",
    "        I = identical[index]\n",
    "        if list1[I] !=list2[I]:\n",
    "            ret = False\n",
    "            \n",
    "        print(\"Index: {} L: {} L1: {}\".format(index, list1[index], list2[index]))\n",
    "        #assert(L[index] ==  L1[index])\n",
    "     \n",
    "    return ret\n",
    "\n",
    "\n",
    "\n",
    "L = createRandomList(100000)\n",
    "L1 = createRandomList(100000)    \n",
    "print(len(L))\n",
    "print(len(L1))\n",
    "\n",
    "identical = getIdentical(L,L1)\n",
    "print(len(identical))\n",
    "\n",
    "if check(L,L1,identical,5):\n",
    "    print(\"\\nIdentities are OK!\")\n",
    "else:\n",
    "    print(\"\\nSomething went wrong!\")\n",
    "\n",
    "\n",
    "id1 = getIdenticalNpy(L,L1)\n",
    "print(len(id1[0]))\n",
    "if check(L,L1,id1,5):\n",
    "    print(\"\\nIdentities are OK!\")\n",
    "else:\n",
    "    print(\"\\nSomething went wrong!\")"
   ],
   "outputs": [],
   "metadata": {
    "scrolled": true
   }
  },
  {
   "cell_type": "markdown",
   "source": [
    "</div>"
   ],
   "metadata": {}
  },
  {
   "cell_type": "markdown",
   "source": [
    "3. Write some python code to solve the following system of linear equations:\n",
    "    $$\\begin{cases} 3x + 4y + 2z - 5w = -9\\\\ 4x + 4y + 10z + w = 32\\\\ -x + 2y + -7z -w = -7\\\\ x + y + z + w = 1\\end{cases}$$\n",
    "    \n",
    "    \n",
    "    Define then a function to compute the Euclidean norm of a ndarray in input. \n",
    "    \n",
    "    Hint: $$||X||_2 = \\sqrt{{x_1}^2 + {x_2}^2 + ... + {x_n}^2}$$\n",
    "    \n",
    "    \n",
    "    Compute then the Euclidean norm of the solution. \n",
    "    \n",
    "    \n",
    "    Implement a function that takes two N-dimensional vectors and computes the euclidean distance between them. Compute the distance between the solution of the system of equations above and the vector V = [7,120,11,33]. Check also that the distance between a vector and itself is zero. The Euclidean distance between two vectors P and Q can be computed as: $\\sqrt{\\sum\\limits_{i=1}^n (q_i -p_i)^2}$.\n",
    "    \n",
    "<div class=\"tggle\" onclick=\"toggleVisibility('ex3');\">Show/Hide Solution</div>\n",
    "<div id=\"ex3\" style=\"display:none;\">"
   ],
   "metadata": {}
  },
  {
   "cell_type": "code",
   "execution_count": 25,
   "source": [
    "import numpy as np\n",
    "from numpy import linalg\n",
    "\n",
    "def eucNorm(arr): ### equivalent to np.linalg.norm\n",
    "    \"\"\"computes the Euclidean norm of the array arr\"\"\"\n",
    "    return np.sqrt(np.power(arr,2).sum())\n",
    "\n",
    "def eucDist(v1, v2):\n",
    "    \"\"\"computes the Euclidean distance of two N-dimensional vectors\"\"\"\n",
    "    dV = np.power(v2-v1,2)\n",
    "    return np.sqrt(dV.sum())    \n",
    "#AX = b\n",
    "\n",
    "A = [[3, 4, 2, -5],[4, 4, 10, 1],[-1, 2, -7, -1],[1, 1, 1, 1]]\n",
    "Amat = np.array(A)\n",
    "\n",
    "b = np.array([-9, 32, -7, 1])\n",
    "print(\"A matrix\")\n",
    "print(Amat)\n",
    "print(\"\")\n",
    "print(\"b vector\")\n",
    "print(b)\n",
    "print(\"\")     \n",
    "Xsol = linalg.solve(A,b)\n",
    "print(\"Solution X:\")\n",
    "print(Xsol)\n",
    "print(Amat.dot(Xsol))\n",
    "print(\"\")\n",
    "#Euclidean norm:\n",
    "print(\"Euclidean norm of {}:\".format(Xsol))\n",
    "print(eucNorm(Xsol))\n",
    "\n",
    "#Euclidean distance\n",
    "V = np.array([7,120,11,33])\n",
    "print(\"\\nThe Euclidean distance of\")\n",
    "print(Xsol)\n",
    "print(\"\\nand\\n\")\n",
    "print(V)\n",
    "\n",
    "print(\"\\nis:\")\n",
    "print(eucDist(Xsol,V))\n",
    "\n",
    "print(\"\\neucDist(V,V) = {}\".format(eucDist(V,V)))\n"
   ],
   "outputs": [
    {
     "output_type": "stream",
     "name": "stdout",
     "text": [
      "A matrix\n",
      "[[ 3  4  2 -5]\n",
      " [ 4  4 10  1]\n",
      " [-1  2 -7 -1]\n",
      " [ 1  1  1  1]]\n",
      "\n",
      "b vector\n",
      "[-9 32 -7  1]\n",
      "\n",
      "Solution X:\n",
      "[-15.88888889   9.28888889   5.64444444   1.95555556]\n",
      "[-9. 32. -7.  1.]\n",
      "\n",
      "Euclidean norm of [-15.88888889   9.28888889   5.64444444   1.95555556]:\n",
      "19.35004386379691\n",
      "\n",
      "The Euclidean distance of\n",
      "[-15.88888889   9.28888889   5.64444444   1.95555556]\n",
      "\n",
      "and\n",
      "\n",
      "[  7 120  11  33]\n",
      "\n",
      "is:\n",
      "117.35966455387272\n",
      "\n",
      "eucDist(V,V) = 0.0\n"
     ]
    }
   ],
   "metadata": {}
  },
  {
   "cell_type": "markdown",
   "source": [
    "</div>"
   ],
   "metadata": {}
  },
  {
   "cell_type": "markdown",
   "source": [
    "4. Implement the following functions working on numpy ndarrays:\n",
    "    \n",
    "    1. The component form of a vector ```comp(A,B)``` starting in point A and ending in point B is $\\overline{AB}$. Hint: if $A=(a_1,...,a_n)$ and $B=(b_1,...,b_n)$, $\\overline{AB} = (b_1 - a_1, ..., b_n - a_n)$.\n",
    "    \n",
    "    2. The direction cosines of a 3D vector ```dirCos(A)```. If $P=(x,y,z)$ the direction cosines are the cosines of the angles made by the vector with the three axes. They can be computed as: \n",
    "    \n",
    "    $$\\frac{x}{\\sqrt(x^2+y^2+z^2}, \\frac{y}{\\sqrt(x^2+y^2+z^2}, \\frac{z}{\\sqrt(x^2+y^2+z^2}$$\n",
    "    \n",
    "    \n",
    "    ![idcos](img/pract9/dcos.png)  \n",
    "    \n",
    "    \n",
    "    3. The angle between two vectors ```angle(A,B)```. Given two vectors $A = (a_x,a_y,a_z)$ and $B = (b_x,b_y,b_z)$, $cos(\\alpha) = \\frac{A \\cdot B}{||A||_2||B||_2}$  where the Euclidean norms are computed as in the previous example.\n",
    "    \n",
    "    \n",
    "    ![iangle](img/pract9/angle.png)  \n",
    "    \n",
    "    \n",
    "    4. The volume of the pyramid described by three 3D vectors $\\overline{a},\\overline{b},\\overline{c}$:\n",
    "    ![ipyram](img/pract9/pyram.png)\n",
    "    \n",
    "    the volume ```pyrVol(a,b,c)``` can be computed as: $\\frac{1}{6} |det(M)|$, where $M = \\begin{bmatrix}\\overline{a} \\\\ \\overline{b} \\\\ \\overline{c}\\end{bmatrix}$, det is the determinant of the matrix anx || represents the absolute value.\n",
    "    \n",
    "    Define some numpy arrays starting from the following lists: \n",
    "      1. A = [10, 3, 4, 7, 12], B = [6, 7, 8, 1, 1] and test ```comp(A,B)```\n",
    "      2. Va = [90,12,72] and test ```dirCos(Va)```\n",
    "      3. VA = [70,9,12] and VB = [1,-10,30] and test ```angle(VA,VB)```\n",
    "      4. a = [10, 20, 30], b = [ 4,  7, 21], c = [-5,  4, 12] and test ```pyrVol(a,b,c)```\n",
    "\n",
    "\n",
    "   Check your solutions [here](http://onlinemschool.com/math/assistance/).    \n",
    "\n",
    "\n",
    "<div class=\"tggle\" onclick=\"toggleVisibility('ex4');\">Show/Hide Solution</div>\n",
    "<div id=\"ex4\" style=\"display:none;\">"
   ],
   "metadata": {}
  },
  {
   "cell_type": "code",
   "execution_count": null,
   "source": [
    "import numpy as np\n",
    "from numpy import linalg\n",
    "\n",
    "def comp(p1,p2):\n",
    "    \"\"\"component of vector starting in p1 and ending in p2\"\"\"\n",
    "    return p2 - p1\n",
    "\n",
    "def dirCos(v1):\n",
    "    \"\"\"direction cosines of v1\"\"\"\n",
    "    norm = np.sqrt(np.power(v1,2).sum())\n",
    "    return v1[0]/norm, v1[1]/norm, v1[2]/norm\n",
    "\n",
    "def eucNorm(arr):\n",
    "    \"\"\"computes the Euclidean norm of the array arr\"\"\"\n",
    "    return np.sqrt(np.power(arr,2).sum())\n",
    "\n",
    "def angle(v1,v2):\n",
    "    \"\"\"computes the angle between two vectors v1 and v2\"\"\"\n",
    "    dp = np.dot(v1,v2)\n",
    "    cosVal = dp / (eucNorm(v1) * eucNorm(v2))\n",
    "    return np.rad2deg(np.arccos(cosVal))\n",
    "\n",
    "def pyrVol(v1,v2,v3):\n",
    "    \"\"\"returns the volume of the pyramid described by v1,v2 and v3\"\"\"\n",
    "    matM = np.concatenate((v1,v2,v3))\n",
    "    matM = matM.reshape((v1.shape[0], 3))\n",
    "    return abs(np.linalg.det(matM))/6\n",
    "\n",
    "\n",
    "#Testing the functions\n",
    "#1. comp(A,B)\n",
    "A = np.array([10, 3, 4, 7, 12])\n",
    "B = np.array([6, 7, 8, 1, 1])\n",
    "print(\"A\")\n",
    "print(A) \n",
    "print(\"\")\n",
    "print(\"B\")\n",
    "print(B)\n",
    "print(\"\")\n",
    "print(\"comp(A,B)\")\n",
    "print(comp(A,B))\n",
    "#2. dirCos(Va)\n",
    "print(\"\")\n",
    "Va = np.array([90,12,72])\n",
    "print(\"Va\")\n",
    "print(Va)\n",
    "print(\"\")\n",
    "print(\"dirCos(Va)\")\n",
    "print(dirCos(Va))\n",
    "#3. angle(VA,VB)\n",
    "VA = np.array([70,9,12]) \n",
    "VB = np.array([1,-10,30])\n",
    "print(\"\")\n",
    "print(\"VA\")\n",
    "print(VA)\n",
    "print(\"\")\n",
    "print(\"VB\")\n",
    "print(VB)\n",
    "print(\"\")\n",
    "print(\"angle(VA,VB)\")\n",
    "print(angle(VA,VB))\n",
    "print(\"\")\n",
    "#4. pyrVol(a,b,c)\n",
    "a = np.array([10, 20, 30])\n",
    "b = np.array([ 4,  7, 21]) \n",
    "c = np.array([-5,  4, 12])\n",
    "print(\"a\")\n",
    "print(a)\n",
    "print(\"\")\n",
    "print(\"b\")\n",
    "print(b)\n",
    "print(\"\")\n",
    "print(\"c\")\n",
    "print(c)\n",
    "print(\"\")\n",
    "print(\"pyrVol(a,b,c)\")\n",
    "print(pyrVol(a,b,c))"
   ],
   "outputs": [],
   "metadata": {}
  },
  {
   "cell_type": "markdown",
   "source": [
    "</div>"
   ],
   "metadata": {}
  },
  {
   "cell_type": "markdown",
   "source": [
    "5. Implement the power iteration algorithm which is a method to obtain an approximation of the biggest (in absolute value) eigenvalue of a matrix A. \n",
    "\n",
    "The algorithm starts from a random vector $b_0$ and keeps computing $b_{k+1} = \\frac{A\\cdot b_{k}}{min(A\\cdot b_{k})}$. When the algorithm ends, the eigenvalue is actually the value: $min(A\\cdot b_{k})$\n",
    "\n",
    "The powerIteration function will have the **maximum number of iterations** and **dThr** as parameters ```powerIteration(A,maxIt, dThr)```. The computation will stop either when the maximum number of iterations ```maxIt``` is reached or when the Euclidean distance between ```b_{k-1}``` and ```b_k``` is lower than ```dThr```.\n",
    "\n",
    "Check the result against numpy eigenvalues obtained with ```np.linalg.eig()``` using various matrices.\n",
    "\n",
    "<div class=\"tggle\" onclick=\"toggleVisibility('ex5');\">Show/Hide Solution</div>\n",
    "<div id=\"ex5\" style=\"display:none;\">"
   ],
   "metadata": {}
  },
  {
   "cell_type": "code",
   "execution_count": 27,
   "source": [
    "import numpy as np\n",
    "from numpy import linalg\n",
    "\n",
    "\n",
    "def eucDist(v1, v2):\n",
    "    \"\"\"computes the Euclidean distance of two N-dimensional vectors\"\"\"\n",
    "    dV = np.power(v2-v1,2)\n",
    "    return np.sqrt(dV.sum())\n",
    "\n",
    "\n",
    "def powerIteration(A,maxIt,dThr):\n",
    "    rng = np.random.default_rng()\n",
    "    b = rng.integers(1,10,(A.shape[0]))\n",
    "    it = 0\n",
    "    dist = 1000000\n",
    "    while( it < maxIt and dist > dThr ):\n",
    "        tmp = np.dot(A,b)\n",
    "        dist = eucDist(b,tmp)\n",
    "        b = tmp/np.min(tmp)\n",
    "        it += 1\n",
    "        \n",
    "    return np.min(tmp)\n",
    "\n",
    "\n",
    "\n",
    "M = np.array([[1, 3, 7, 9], [ 4, 11, 7, 27], [22, 11, 57, 1], [4, 7, 27, 27]])\n",
    "\n",
    "r = powerIteration(M,200, 0.0001)\n",
    "print(\"Eigenvalue from power method: \", r)\n",
    "print(\"FROM linalg:\" , max(np.linalg.eig(M)[0]))\n",
    "\n",
    "N = np.array([[0, 11, -5],[-2, 17, -7],[-4, 26, -10]])\n",
    "print(N)\n",
    "r = powerIteration(N,200, 0.0001)\n",
    "print(\"Eigenvalue from power method: \", r)\n",
    "print(\"FROM linalg:\" , max(np.linalg.eig(N)[0]))\n",
    "N1 = np.array([[2, -12],[1, -5]])\n",
    "r = powerIteration(N1,200, 0.0001)\n",
    "print(\"Eigenvalue from power method: \", r)\n",
    "print(\"FROM linalg:\" , max(np.linalg.eig(N1)[0]))\n",
    "N2 = np.array([[1, 2, 0],[-2, 1, 2], [1,3,1]])\n",
    "\n",
    "r = powerIteration(N2,200, 0.0001)\n",
    "print(\"Eigenvalue from power method: \", r)\n",
    "print(\"FROM linalg:\" , max(np.linalg.eig(N2)[0]))\n",
    "\n",
    "R = np.random.randint(0,20, size=(5,5))\n",
    "r = powerIteration(R,200, 0.0001)\n",
    "print(\"Eigenvalue from power method: \", r)\n",
    "print(\"FROM linalg:\" , max(np.linalg.eig(R)[0]))"
   ],
   "outputs": [
    {
     "output_type": "stream",
     "name": "stdout",
     "text": [
      "Eigenvalue from power method:  68.2484512307976\n",
      "FROM linalg: 68.24845123079754\n",
      "[[  0  11  -5]\n",
      " [ -2  17  -7]\n",
      " [ -4  26 -10]]\n",
      "Eigenvalue from power method:  4.000000000000005\n",
      "FROM linalg: 4.000000000000021\n",
      "Eigenvalue from power method:  -2.000000000000001\n",
      "FROM linalg: -0.9999999999999982\n",
      "Eigenvalue from power method:  3.0\n",
      "FROM linalg: (3.0000000000000004+0j)\n",
      "Eigenvalue from power method:  43.14445762243276\n",
      "FROM linalg: (43.144457622432796+0j)\n"
     ]
    }
   ],
   "metadata": {}
  },
  {
   "cell_type": "markdown",
   "source": [
    "</div>"
   ],
   "metadata": {}
  },
  {
   "cell_type": "markdown",
   "source": [
    "6. Implement a function ```movingAvg(A,n)``` where A is a numpy one dimensional array and n is the window size on which computing the average, that outputs the moving average over a numpy one dimensional array. Es. A = [1,2,3,4,5]\n",
    "```movingAvg(A,2) = [1.5, 2.5, 3.5, 4.5]```, while ```movingAvg(A,3) = [2,3,4]``` without using for loops.  Hint: use cumsum and clever slicing.\n",
    "Assess the smoothing effect of the moving average by creating a numpy array containing a sinusoidal wave with some additional noise (i.e. use np.sin and np.random.rand) and testing several values of the window size n.\n",
    "\n",
    "<div class=\"tggle\" onclick=\"toggleVisibility('ex6');\">Show/Hide Solution</div>\n",
    "<div id=\"ex6\" style=\"display:none;\">"
   ],
   "metadata": {}
  },
  {
   "cell_type": "code",
   "execution_count": 28,
   "source": [
    "import numpy as np\n",
    "import matplotlib.pyplot as plt\n",
    "\n",
    "def movingAvg(v, n):\n",
    "    \"\"\"computes the moving average of n values in the array v\"\"\"\n",
    "    cs = np.cumsum(v)\n",
    "    #print(cs)\n",
    "    #print(\"\\t\",cs[n:])\n",
    "    #print(\"\\t\", cs[:-n])\n",
    "    cs[n:] = cs[n:] - cs[:-n]\n",
    "    #print(\"CS:\", c\n",
    "    return cs[n - 1:] / n\n",
    "\n",
    "\n",
    "\n",
    "#A = np.arange(1,8,1)\n",
    "A = np.array([1,4,3,8,1,2,7])\n",
    "#print(\"A:\")\n",
    "#print(A)\n",
    "#print(movingAvg(A,2))\n",
    "#print(movingAvg(A,4))\n",
    "\n",
    "X = np.arange(0, 5, 0.005)\n",
    "#B = np.random(100)\n",
    "B = np.sin(2*np.pi*X)\n",
    "\n",
    "#Let's add random numbers uniformly distributed in [0,1)\n",
    "B += np.random.random_sample(1000) \n",
    "#B += np.random.rand(1000)\n",
    "C = movingAvg(B,5)\n",
    "D = movingAvg(B,10)\n",
    "E = movingAvg(B,50)\n",
    "#X = np.arange(0,B.shape[0])\n",
    "\n",
    "plt.plot(X,B)\n",
    "plt.title(\"No moving average\")\n",
    "plt.show()\n",
    "plt.close()\n",
    "plt.plot(X[4:],C) # X has 1000- 5 -1 elements\n",
    "plt.title(\"Window size: 5\")\n",
    "plt.show()\n",
    "plt.close()\n",
    "plt.title(\"Window size: 10\")\n",
    "plt.plot(X[9:],D) # X has 1000- 9 -1 elements\n",
    "plt.show()\n",
    "plt.close()\n",
    "plt.title(\"Window size: 50\")\n",
    "plt.plot(X[49:],E) # X has 1000- 49 -1 elements\n",
    "plt.show()"
   ],
   "outputs": [
    {
     "output_type": "display_data",
     "data": {
      "text/plain": [
       "<matplotlib.figure.Figure at 0x7f1fa648bcc0>"
      ],
      "image/png": "[encoded data removed]"
     },
     "metadata": {
      "needs_background": "light"
     }
    },
    {
     "output_type": "display_data",
     "data": {
      "text/plain": [
       "<matplotlib.figure.Figure at 0x7f1fa62f9668>"
      ],
      "image/png": "[encoded data removed]"
     },
     "metadata": {
      "needs_background": "light"
     }
    },
    {
     "output_type": "display_data",
     "data": {
      "text/plain": [
       "<matplotlib.figure.Figure at 0x7f1fa648bda0>"
      ],
      "image/png": "[encoded data removed]"
     },
     "metadata": {
      "needs_background": "light"
     }
    },
    {
     "output_type": "display_data",
     "data": {
      "text/plain": [
       "<matplotlib.figure.Figure at 0x7f1fa651e080>"
      ],
      "image/png": "[encoded data removed]"
     },
     "metadata": {
      "needs_background": "light"
     }
    }
   ],
   "metadata": {}
  },
  {
   "cell_type": "markdown",
   "source": [
    "</div>"
   ],
   "metadata": {}
  }
 ],
 "metadata": {
  "celltoolbar": "Edit Metadata",
  "kernelspec": {
   "display_name": "Python 3",
   "language": "python",
   "name": "python3"
  },
  "language_info": {
   "codemirror_mode": {
    "name": "ipython",
    "version": 3
   },
   "file_extension": ".py",
   "mimetype": "text/x-python",
   "name": "python",
   "nbconvert_exporter": "python",
   "pygments_lexer": "ipython3",
   "version": "3.6.9"
  }
 },
 "nbformat": 4,
 "nbformat_minor": 2
}