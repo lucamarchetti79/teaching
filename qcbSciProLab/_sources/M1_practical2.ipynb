{
 "cells": [
  {
   "cell_type": "markdown",
   "source": [
    "# Module 1, Practical 2\n",
    "\n",
    "In this practical we will start interacting more with Python, practicing on how to handle data, functions and methods. We will see several built-in data types and then dive deeper into the data type **string**.\n",
    "\n",
    "## Modules\n",
    "\n",
    "Python modules are simply text files having the extension **.py** (e.g. ```exercise.py```). When you were writing the code in the IDE in the previous practical, you were in fact implementing a **module**. \n",
    "\n",
    "As said in the previous practical, once you implemented and saved the code of the module, you can execute it by typing \n",
    "\n",
    "```python3 exercise1.py```\n",
    "\n",
    "(which **in Windows** might be ```python exercise1.py```, just make sure you are using python 3.x) or, in Visual Studio Code, by right clicking on the code panel and selecting **Run Python File in Terminal**.\n",
    "\n",
    "\n",
    "A Module A can be loaded from another module B so that B can use the functions defined in A. Remember when we used the ```sqrt``` function? It is defined in the **module math**. To import it and use it we indeed wrote something like:"
   ],
   "metadata": {}
  },
  {
   "cell_type": "code",
   "execution_count": 1,
   "source": [
    "import math\n",
    "\n",
    "A = math.sqrt(4)\n",
    "print(A)"
   ],
   "outputs": [
    {
     "output_type": "stream",
     "name": "stdout",
     "text": [
      "2.0\n"
     ]
    }
   ],
   "metadata": {}
  },
  {
   "cell_type": "markdown",
   "source": [
    "<div class=\"alert alert-warning\">\n",
    "    \n",
    "**Note**\n",
    "\n",
    "When importing modules we do not need to specify the extension \".py\" of the file. \n",
    "\n",
    "</div>\n",
    "\n",
    "## Objects\n",
    "\n",
    "Python understands very well objects, and in fact everything is an object in Python. \n",
    "\n",
    "Objects have **properties** (characteristic features) and **methods** (things they can do). For example, an object *car* could be defined to have the **properties** *model, make, color, number of doors, position* etc., and the **methods** *steer right, steer left, accelerate, break, stop, change gear, repaint,*... whose application might affect the state of the object.\n",
    "\n",
    "According to Python's official documentation: \n",
    "\n",
    "\"Objects are Python's abstraction for data. All data in a Python program is represented by objects or by relations between objects.\"\n",
    "\n",
    "All you need to know for now is that in Python objects have an **identifier (ID)** (i.e. their name), a **type** (numbers, text, collections,...) and a **value** (the actual data represented by the objects). Once an object has been created the *identifier* and the *type* never change, while its *value* can either change (**mutable objects**) or stay constant (**immutable objects**).\n",
    "\n",
    "Python provides the following built-in data types:\n",
    "\n",
    "![img0](img/pract2/types.png)\n",
    "\n",
    "\n",
    "We will stick with the simplest ones for now, but later on we will dive deeper into all of them.\n",
    "\n",
    "## Variables\n",
    "\n",
    "Variables are just **references to objects**, in other words they are the **name** given to an object. Variables can be **assigned** to objects by using the assignment operator ```=```.\n",
    "\n",
    "The instruction \n"
   ],
   "metadata": {}
  },
  {
   "cell_type": "code",
   "execution_count": 2,
   "source": [
    "sides = 4"
   ],
   "outputs": [],
   "metadata": {}
  },
  {
   "cell_type": "markdown",
   "source": [
    "might represent the number of sides of a square. What happens when we execute it in Python? An object is created, it is given an identifier, its **type** is set to \"int\" (an integer number), its **value** to 4 and a **name** *sides* is placed in the current namespace to point to that object, so that after that instruction we can access that object through its name. The type of an object can be accessed with the function **type()** and the identifier with the function **id()**: "
   ],
   "metadata": {}
  },
  {
   "cell_type": "code",
   "execution_count": 3,
   "source": [
    "sides = 4\n",
    "print( type(sides) )\n",
    "print( id(sides) )"
   ],
   "outputs": [
    {
     "output_type": "stream",
     "name": "stdout",
     "text": [
      "<class 'int'>\n",
      "10914592\n"
     ]
    }
   ],
   "metadata": {}
  },
  {
   "cell_type": "markdown",
   "source": [
    "Consider now the following code:"
   ],
   "metadata": {}
  },
  {
   "cell_type": "code",
   "execution_count": 4,
   "source": [
    "sides = 4 #a square \n",
    "print (\"value:\", sides, \" type:\", type(sides), \" id:\", id(sides))\n",
    "sides = 5 #a pentagon\n",
    "print (\"value:\", sides, \" type:\", type(sides), \" id:\", id(sides))\n"
   ],
   "outputs": [
    {
     "output_type": "stream",
     "name": "stdout",
     "text": [
      "value: 4  type: <class 'int'>  id: 10914592\n",
      "value: 5  type: <class 'int'>  id: 10914624\n"
     ]
    }
   ],
   "metadata": {}
  },
  {
   "cell_type": "markdown",
   "source": [
    "The value of the variable sides has been changed from 4 to 5, but as stated in the table above, the type ```int``` is **immutable**. **Luckily, this did not prevent us to change the value of sides from 4 to 5.** What happened behind the scenes when we executed the instruction sides = 5 is that a new object has been created of type int (5 is still an integer) and it has been made accessible with the same name *sides*, but since it is a different object (i.e. the integer 5). As a poof of this, **check that the that the identifier printed above is actually different.** \n",
    "\n",
    "<div class=\"alert alert-info\">\n",
    "\n",
    "**Note:** \n",
    "You do not have to really worry about what happens behind the scenes, as the Python interpreter will take care of these aspects for you, but it is nice to know what it does.\n",
    "</div>\n",
    "\n",
    "You can even change the type of a variable during execution but that is normally a **bad idea** as it makes understanding the code more complicated and leaves more room for errors.\n",
    "\n",
    "Python allows you to do (**but, please, REFRAIN FROM DOING SO!**):"
   ],
   "metadata": {}
  },
  {
   "cell_type": "code",
   "execution_count": 5,
   "source": [
    "sides = 4 #a square\n",
    "print (\"value:\", sides, \" type:\", type(sides), \" id:\", id(sides))\n",
    "sides = \"four\" #the sides in text format\n",
    "print (\"value:\", sides, \" type:\", type(sides), \" id:\", id(sides))"
   ],
   "outputs": [
    {
     "output_type": "stream",
     "name": "stdout",
     "text": [
      "value: 4  type: <class 'int'>  id: 10914592\n",
      "value: four  type: <class 'str'>  id: 140640184741312\n"
     ]
    }
   ],
   "metadata": {}
  },
  {
   "cell_type": "markdown",
   "source": [
    "<div class=\"alert alert-warning\">\n",
    "\n",
    "**IMPORTANT NOTE:** \n",
    "You can choose the name that you like for your variables (I advise to pick something reminding their meaning), but you need to adhere to some simple rules.\n",
    "\n",
    "\n",
    "1. Names can only contain upper/lower case digits (```A-Z```, ```a-z```), numbers (```0-9```) or underscores ```_```;\n",
    "\n",
    "\n",
    "2. Names cannot start with a number;\n",
    "\n",
    "\n",
    "3. Names cannot be equal to reserved keywords:\n",
    "\n",
    "![](img/pract2/keywords.png)\n",
    "\n",
    "\n",
    "</div>\n"
   ],
   "metadata": {}
  },
  {
   "cell_type": "markdown",
   "source": [
    "## Numeric types\n",
    "\n",
    "We already mentioned that numbers are **immutable objects**. Python provides different numeric types: integers, booleans, reals (floats) and even complex numbers and fractions (but we will not get into those).\n",
    "\n",
    "### Integers \n",
    "\n",
    "Their range of values is limited only by the memory available. As we have already seen, python provides also a set of standard operators to work with numbers:\n",
    "\n"
   ],
   "metadata": {}
  },
  {
   "cell_type": "code",
   "execution_count": 6,
   "source": [
    "a = 7\n",
    "b = 4\n",
    "\n",
    "print(a + b) # 11\n",
    "print(a - b) # 3\n",
    "print(a // b) # integer division: 1\n",
    "print(a * b) # 28\n",
    "print(a ** b) # power: 2401\n",
    "print(a / b) # division 1.75\n",
    "print(type(a / b))"
   ],
   "outputs": [
    {
     "output_type": "stream",
     "name": "stdout",
     "text": [
      "11\n",
      "3\n",
      "1\n",
      "28\n",
      "2401\n",
      "1.75\n",
      "<class 'float'>\n"
     ]
    }
   ],
   "metadata": {}
  },
  {
   "cell_type": "markdown",
   "source": [
    "Note that in the latter case the result is no more an integer, but a float (we will get to that later).\n",
    "\n",
    "### Booleans \n",
    "\n",
    "These objects are used for the boolean algebra. Truth values are represented with the keywords ```True``` and ```False``` in Python. A boolean object can only have value ```True``` or ```False```. We can convert booleans into integers with the builtin function ```int```. Any integer can be converted into a boolean (and vice-versa) with: "
   ],
   "metadata": {}
  },
  {
   "cell_type": "code",
   "execution_count": 7,
   "source": [
    "a = bool(1)\n",
    "b = bool(0)\n",
    "c = bool(72)\n",
    "d = bool(-5)\n",
    "t = int(True)\n",
    "f = int(False)\n",
    "\n",
    "print(\"a: \", a, \" b: \", b, \" c: \", c, \" d: \", d , \" t: \", t, \" f: \", f)"
   ],
   "outputs": [
    {
     "output_type": "stream",
     "name": "stdout",
     "text": [
      "a:  True  b:  False  c:  True  d:  True  t:  1  f:  0\n"
     ]
    }
   ],
   "metadata": {}
  },
  {
   "cell_type": "markdown",
   "source": [
    "any integer is evaluated to true, except 0. Note that, the truth values ```True``` and ```False``` respectively behave like the integers 1 and 0.\n",
    "\n",
    "We can operate on boolean values with the boolean operators ```and```, ```or```, ```not```. Recall boolean algebra for their use: "
   ],
   "metadata": {}
  },
  {
   "cell_type": "code",
   "execution_count": 8,
   "source": [
    "T = True\n",
    "F = False\n",
    "\n",
    "print (\"T: \", T, \" F:\", F)\n",
    "\n",
    "print (\"T and F: \", T and F) #False\n",
    "print (\"T and T: \", T and T) #True\n",
    "print (\"F and F: \", F and F) #False\n",
    "print (\"not T: \", not T) # False\n",
    "print (\"not F: \", not F) # True\n",
    "print (\"T or F: \", T or F) # True\n",
    "print (\"T or T: \", T or T) # True\n",
    "print (\"F or F: \", F or F) # False\n"
   ],
   "outputs": [
    {
     "output_type": "stream",
     "name": "stdout",
     "text": [
      "T:  True  F: False\n",
      "T and F:  False\n",
      "T and T:  True\n",
      "F and F:  False\n",
      "not T:  False\n",
      "not F:  True\n",
      "T or F:  True\n",
      "T or T:  True\n",
      "F or F:  False\n"
     ]
    }
   ],
   "metadata": {}
  },
  {
   "cell_type": "markdown",
   "source": [
    "Numeric comparators are operators that return a boolean value. Here are some examples:\n",
    "\n",
    "![img1](img/pract2/comparators.png)\n",
    "\n",
    "\n"
   ],
   "metadata": {}
  },
  {
   "cell_type": "markdown",
   "source": [
    "**Example**: Given a variable a = 10 and a variable b = 77, let's swap their values (i.e. at the end a will be equal to 77 and b to 10). Let's also check the values at the beginning and at the end."
   ],
   "metadata": {}
  },
  {
   "cell_type": "code",
   "execution_count": 9,
   "source": [
    "a = 10\n",
    "b =  77\n",
    "print(\"a: \", a, \" b:\", b)\n",
    "print(\"is a equal to 10?\", a == 10)\n",
    "print(\"is b equal to 77?\", b == 77)\n",
    "\n",
    "TMP = b  #we need to store the value of b safely\n",
    "b = a    #ok, the old value of b is gone... is it?\n",
    "a = TMP  #a gets the old value of b... :-)\n",
    "\n",
    "print(\"a: \", a, \" b:\", b)\n",
    "print(\"is a equal to 10?\", a == 10)\n",
    "print(\"is a equal to 77?\", a == 77)\n",
    "print(\"is b equal to 10?\", b == 10)\n",
    "print(\"is b equal to 77?\", b == 77)\n",
    "\n"
   ],
   "outputs": [
    {
     "output_type": "stream",
     "name": "stdout",
     "text": [
      "a:  10  b: 77\n",
      "is a equal to 10? True\n",
      "is b equal to 77? True\n",
      "a:  77  b: 10\n",
      "is a equal to 10? False\n",
      "is a equal to 77? True\n",
      "is b equal to 10? True\n",
      "is b equal to 77? False\n"
     ]
    }
   ],
   "metadata": {}
  },
  {
   "cell_type": "markdown",
   "source": [
    "### Real numbers\n",
    "\n",
    "Python stores real numbers (floating point numbers) in 64 bits of information divided in sign, exponent and mantissa. \n",
    "\n",
    "**Example:**\n",
    "Let's calculate the area of the center circle of a football pitch (radius = 9.15m) recalling that $area= \\Pi*R^2$:"
   ],
   "metadata": {}
  },
  {
   "cell_type": "code",
   "execution_count": 10,
   "source": [
    "R = 9.15\n",
    "Pi = 3.141592653589793\n",
    "Area = Pi*(R**2)\n",
    "print (Area)"
   ],
   "outputs": [
    {
     "output_type": "stream",
     "name": "stdout",
     "text": [
      "263.02199094017146\n"
     ]
    }
   ],
   "metadata": {}
  },
  {
   "cell_type": "markdown",
   "source": [
    "Note that the builtin math module of python contains the definition of $\\Pi$, therefore we could rewrite the code above as:\n"
   ],
   "metadata": {}
  },
  {
   "cell_type": "code",
   "execution_count": 11,
   "source": [
    "import math\n",
    "R = 9.15\n",
    "Pi = math.pi\n",
    "Area = Pi*(R**2)\n",
    "print (Area)\n"
   ],
   "outputs": [
    {
     "output_type": "stream",
     "name": "stdout",
     "text": [
      "263.02199094017146\n"
     ]
    }
   ],
   "metadata": {}
  },
  {
   "cell_type": "markdown",
   "source": [
    "Note that the parenthesis around the ```R**2``` are not necessary as the operator ```**``` has the precedence, but I personally think it helps readability. \n",
    "\n",
    "Here is a reminder of the precedence of operators: \n",
    "\n",
    "![img2](img/pract2/precedence.png)\n",
    "\n",
    "**Example:** Let's compute the GC content of a DNA sequence 33 base pairs long, having 12 As, 9 Ts, 5 Cs and 7Gs. The GC content can be expressed by the formula: $gc = \\frac{G+C}{A+T+C+G}$ where A,T,C,G represent the number of nucleotides of each kind. What is the AT content? Is the GC content higher than the AT content?"
   ],
   "metadata": {}
  },
  {
   "cell_type": "code",
   "execution_count": 12,
   "source": [
    "A = 12\n",
    "T = 9\n",
    "C = 5\n",
    "G = 7\n",
    "\n",
    "gc = (G+C)/(A+T+C+G)\n",
    "print(\"The GC content is: \", gc)\n",
    "\n",
    "at = 1 - gc\n",
    "\n",
    "print(\"The AT content is: \", at)\n",
    "\n",
    "print (gc > at)"
   ],
   "outputs": [
    {
     "output_type": "stream",
     "name": "stdout",
     "text": [
      "The GC content is:  0.36363636363636365\n",
      "The AT content is:  0.6363636363636364\n",
      "False\n"
     ]
    }
   ],
   "metadata": {}
  },
  {
   "cell_type": "markdown",
   "source": [
    "<div class=\"alert alert-info\">\n",
    "\n",
    "**Note**\n",
    "\n",
    "When dealing with numeric variables, please, be careful of possible **rounding errors**:\n",
    "\n",
    "1.1 + 2.2 = 3.3000000000000003\n",
    "\n",
    "0.1 + 0.1 + 0.1 - 0.3 = 5.551115123125783e-17\n",
    "\n",
    "</div>\n"
   ],
   "metadata": {}
  },
  {
   "cell_type": "markdown",
   "source": [
    "## Strings \n",
    "\n",
    "Strings are **immutable objects** (note the actual type is **str**) used by python to handle text data. Strings are sequences of *unicode code points* that can represent characters, but also formatting information (e.g. '\\\\n' for new line). **Unlike other programming languages, python does not have the data type character, which is represented as a string of length 1**.\n",
    "\n",
    "There are several ways to define a string:\n"
   ],
   "metadata": {}
  },
  {
   "cell_type": "code",
   "execution_count": 13,
   "source": [
    "S = \"my first string, in double quotes\"\n",
    "\n",
    "S1 = 'my second string, in single quotes'\n",
    "\n",
    "S2 = '''my third string is \n",
    "in triple quotes\n",
    "therefore it can span several lines'''\n",
    "\n",
    "S3 = \"\"\"my fourth string, in triple double-quotes\n",
    "can also span\n",
    "several lines\"\"\"\n",
    "\n",
    "print(S, '\\n') #let's add a new line at the end of the string with \\n\n",
    "print(S1,'\\n')\n",
    "print(S2, '\\n')\n",
    "print(S3, '\\n')"
   ],
   "outputs": [
    {
     "output_type": "stream",
     "name": "stdout",
     "text": [
      "my first string, in double quotes \n",
      "\n",
      "my second string, in single quotes \n",
      "\n",
      "my third string is \n",
      "in triple quotes\n",
      "therefore it can span several lines \n",
      "\n",
      "my fourth string, in triple double-quotes\n",
      "can also span\n",
      "several lines \n",
      "\n"
     ]
    }
   ],
   "metadata": {}
  },
  {
   "cell_type": "markdown",
   "source": [
    "To put special characters like ',\" and so on you need to \"escape them\" (i.e. write them following a back-slash).\n",
    "\n",
    "![img3](img/pract2/escapes.png)\n",
    "\n",
    "**Example**:\n",
    "Let's print a string containing a quote and double quote (i.e. ' and \")."
   ],
   "metadata": {}
  },
  {
   "cell_type": "code",
   "execution_count": 14,
   "source": [
    "myString = \"This is how I \\'quote\\' and \\\"double quote\\\" things in strings\"\n",
    "print(myString)"
   ],
   "outputs": [
    {
     "output_type": "stream",
     "name": "stdout",
     "text": [
      "This is how I 'quote' and \"double quote\" things in strings\n"
     ]
    }
   ],
   "metadata": {}
  },
  {
   "cell_type": "markdown",
   "source": [
    "Strings can be converted to and from numbers with the functions ```str()```, ```int()``` or ```float()```.\n",
    "\n",
    "**Example**:\n",
    "Let's define a string *myString* with the value \"47001\" and convert it into an int. Try adding one and print the result."
   ],
   "metadata": {}
  },
  {
   "cell_type": "code",
   "execution_count": 15,
   "source": [
    "my_string = \"47001\"\n",
    "print(my_string, \" has type \", type(my_string))\n",
    "\n",
    "my_int = int(my_string)\n",
    "\n",
    "print(my_int, \" has type \", type(my_int))\n",
    "\n",
    "my_int = my_int + 1   #adds one\n",
    "\n",
    "my_string = my_string + \"1\" #cannot add 1 (we need to use a string). \n",
    "                          #This will append 1 at the end of the string\n",
    "\n",
    "print(my_int)\n",
    "print(my_string)"
   ],
   "outputs": [
    {
     "output_type": "stream",
     "name": "stdout",
     "text": [
      "47001  has type  <class 'str'>\n",
      "47001  has type  <class 'int'>\n",
      "47002\n",
      "470011\n"
     ]
    }
   ],
   "metadata": {}
  },
  {
   "cell_type": "markdown",
   "source": [
    "Be careful though that if the string cannot be converted into an integer, then you get an error"
   ],
   "metadata": {}
  },
  {
   "cell_type": "code",
   "execution_count": 16,
   "source": [
    "my_wrong_number = \"13a\"\n",
    "\n",
    "N = int(my_wrong_number)\n",
    "\n",
    "print(N)"
   ],
   "outputs": [
    {
     "output_type": "error",
     "ename": "ValueError",
     "evalue": "invalid literal for int() with base 10: '13a'",
     "traceback": [
      "\u001b[0;31m---------------------------------------------------------------------------\u001b[0m",
      "\u001b[0;31mValueError\u001b[0m                                Traceback (most recent call last)",
      "\u001b[0;32m<ipython-input-16-bcfe98c1ea66>\u001b[0m in \u001b[0;36m<module>\u001b[0;34m\u001b[0m\n\u001b[1;32m      1\u001b[0m \u001b[0mmy_wrong_number\u001b[0m \u001b[0;34m=\u001b[0m \u001b[0;34m\"13a\"\u001b[0m\u001b[0;34m\u001b[0m\u001b[0;34m\u001b[0m\u001b[0m\n\u001b[1;32m      2\u001b[0m \u001b[0;34m\u001b[0m\u001b[0m\n\u001b[0;32m----> 3\u001b[0;31m \u001b[0mN\u001b[0m \u001b[0;34m=\u001b[0m \u001b[0mint\u001b[0m\u001b[0;34m(\u001b[0m\u001b[0mmy_wrong_number\u001b[0m\u001b[0;34m)\u001b[0m\u001b[0;34m\u001b[0m\u001b[0;34m\u001b[0m\u001b[0m\n\u001b[0m\u001b[1;32m      4\u001b[0m \u001b[0;34m\u001b[0m\u001b[0m\n\u001b[1;32m      5\u001b[0m \u001b[0mprint\u001b[0m\u001b[0;34m(\u001b[0m\u001b[0mN\u001b[0m\u001b[0;34m)\u001b[0m\u001b[0;34m\u001b[0m\u001b[0;34m\u001b[0m\u001b[0m\n",
      "\u001b[0;31mValueError\u001b[0m: invalid literal for int() with base 10: '13a'"
     ]
    }
   ],
   "metadata": {}
  },
  {
   "cell_type": "markdown",
   "source": [
    "Python defines some operators to work with strings. Recall the slides shown during the lecture:\n",
    "\n",
    "![img4](img/pract2/stringoperators.png)\n"
   ],
   "metadata": {}
  },
  {
   "cell_type": "markdown",
   "source": [
    "**Example** \n",
    "A tandem repeat is a short sequence of DNA that is repeated several times in a row. Let's create a string representing the tandem repeat of the motif \"ATTCG\" repeated 5 times. What is the length of the whole repetitive region? Is the motif \"TCGAT\" (m1) present in the region? The motif \"TCCT\" (m2)? Let's give an orientation to the tandem repeat by adding the string \"5'-\" (5' end) on the left and \"-3'\" (3' end) to the right."
   ],
   "metadata": {}
  },
  {
   "cell_type": "code",
   "execution_count": 17,
   "source": [
    "motif = \"ATTCG\"\n",
    "\n",
    "tandem_repeat = motif * 5\n",
    "\n",
    "print(motif)\n",
    "print(tandem_repeat, \" has length\", len(tandem_repeat))\n",
    "m1 = \"TCGAT\"\n",
    "m2 = \"TCCT\"\n",
    "\n",
    "print(\"Is \", m1, \" in \", tandem_repeat, \" ? \", m1 in tandem_repeat )\n",
    "print(\"Is \", m2, \" in \", tandem_repeat, \" ? \", m2 in tandem_repeat )\n",
    "oriented_tr = \"5\\'-\" + tandem_repeat + \"-3\\'\"\n",
    "print(oriented_tr)"
   ],
   "outputs": [
    {
     "output_type": "stream",
     "name": "stdout",
     "text": [
      "ATTCG\n",
      "ATTCGATTCGATTCGATTCGATTCG  has length 25\n",
      "Is  TCGAT  in  ATTCGATTCGATTCGATTCGATTCG  ?  True\n",
      "Is  TCCT  in  ATTCGATTCGATTCGATTCGATTCG  ?  False\n",
      "5'-ATTCGATTCGATTCGATTCGATTCG-3'\n"
     ]
    }
   ],
   "metadata": {}
  },
  {
   "cell_type": "markdown",
   "source": [
    "We can access strings at specific positions (indexing) or get a substring starting from a position S to a position E. The only thing to remember is that numbering starts from 0. The```i```-th character of a string can be accessed as ```str[i-1]```. Substrings can be accessed as ```str[S:E]```, optionally a third parameter can be specified to set the step (i.e. ```str[S:E:STEP]```). \n",
    "\n",
    "<div class=\"alert alert-warning\">\n",
    "\n",
    "**Important note.**\n",
    "Remember that when you do str[S:E], **S is inclusive, while E is exclusive** (see S[0:6] below).\n",
    "\n",
    "</div>\n",
    "\n",
    "\n",
    "![img5](img/pract2/slicingstring.png)\n",
    "\n",
    "Let's see these aspects in action with an example:"
   ],
   "metadata": {}
  },
  {
   "cell_type": "code",
   "execution_count": 18,
   "source": [
    "S = \"Luther College\"\n",
    "\n",
    "print(S) #print the whole string\n",
    "print(S == S[:]) #a fancy way of making a copy of the original string\n",
    "print(S[0]) #first character\n",
    "print(S[3]) #fourth character\n",
    "print(S[-1]) #last character\n",
    "print(S[0:6]) #first six characters\n",
    "print(S[-7:]) #final seven characters\n",
    "print(S[0:len(S):2]) #every other character starting from the first\n",
    "print(S[1:len(S):2]) #every other character starting from the second"
   ],
   "outputs": [
    {
     "output_type": "stream",
     "name": "stdout",
     "text": [
      "Luther College\n",
      "True\n",
      "L\n",
      "h\n",
      "e\n",
      "Luther\n",
      "College\n",
      "Lte olg\n",
      "uhrClee\n"
     ]
    }
   ],
   "metadata": {}
  },
  {
   "cell_type": "markdown",
   "source": [
    "### Methods for the str object\n",
    "\n",
    "The object ```str``` has some methods that can be applied to it (remember methods are things you can do on objects). Recall from the lecture that the main methods are:\n",
    "\n",
    "![img6](img/pract2/strmethods.png)"
   ],
   "metadata": {}
  },
  {
   "cell_type": "markdown",
   "source": [
    "<div class=\"alert alert-warning\">\n",
    "**IMPORTANT NOTE**:\n",
    "Since Strings are immutable, every operation that changes the string actually produces a new *str* object  having the modified string as value. \n",
    "</div>"
   ],
   "metadata": {}
  },
  {
   "cell_type": "markdown",
   "source": [
    "Moreover, since **strings are immutable** we cannot directly change them with an assignment operator. \n",
    "\n",
    "**Example:** Since the genetic code is degenerate, there are many codons encoding for the same aminoacid. Consider Proline, it can be encoded by the following codons: CCU, CCA,CCG, CCC. Let's create a string proline and assign it to its possible codons one after the other."
   ],
   "metadata": {}
  },
  {
   "cell_type": "code",
   "execution_count": 19,
   "source": [
    "\"\"\"\n",
    "Wrong solution. We cannot directly replace the value of a string\n",
    "\"\"\"\n",
    "\n",
    "proline = \"CCU\"\n",
    "print(\"Proline can be encoded by: \", proline)\n",
    "proline[2]=\"A\"\n",
    "print(\".. or by: \", proline)\n",
    "\n"
   ],
   "outputs": [
    {
     "output_type": "stream",
     "name": "stdout",
     "text": [
      "Proline can be encoded by:  CCU\n"
     ]
    },
    {
     "output_type": "error",
     "ename": "TypeError",
     "evalue": "'str' object does not support item assignment",
     "traceback": [
      "\u001b[0;31m---------------------------------------------------------------------------\u001b[0m",
      "\u001b[0;31mTypeError\u001b[0m                                 Traceback (most recent call last)",
      "\u001b[0;32m<ipython-input-19-9750dcfa1cbd>\u001b[0m in \u001b[0;36m<module>\u001b[0;34m\u001b[0m\n\u001b[1;32m      5\u001b[0m \u001b[0mproline\u001b[0m \u001b[0;34m=\u001b[0m \u001b[0;34m\"CCU\"\u001b[0m\u001b[0;34m\u001b[0m\u001b[0;34m\u001b[0m\u001b[0m\n\u001b[1;32m      6\u001b[0m \u001b[0mprint\u001b[0m\u001b[0;34m(\u001b[0m\u001b[0;34m\"Proline can be encoded by: \"\u001b[0m\u001b[0;34m,\u001b[0m \u001b[0mproline\u001b[0m\u001b[0;34m)\u001b[0m\u001b[0;34m\u001b[0m\u001b[0;34m\u001b[0m\u001b[0m\n\u001b[0;32m----> 7\u001b[0;31m \u001b[0mproline\u001b[0m\u001b[0;34m[\u001b[0m\u001b[0;36m2\u001b[0m\u001b[0;34m]\u001b[0m\u001b[0;34m=\u001b[0m\u001b[0;34m\"A\"\u001b[0m\u001b[0;34m\u001b[0m\u001b[0;34m\u001b[0m\u001b[0m\n\u001b[0m\u001b[1;32m      8\u001b[0m \u001b[0mprint\u001b[0m\u001b[0;34m(\u001b[0m\u001b[0;34m\".. or by: \"\u001b[0m\u001b[0;34m,\u001b[0m \u001b[0mproline\u001b[0m\u001b[0;34m)\u001b[0m\u001b[0;34m\u001b[0m\u001b[0;34m\u001b[0m\u001b[0m\n\u001b[1;32m      9\u001b[0m \u001b[0;34m\u001b[0m\u001b[0m\n",
      "\u001b[0;31mTypeError\u001b[0m: 'str' object does not support item assignment"
     ]
    }
   ],
   "metadata": {}
  },
  {
   "cell_type": "code",
   "execution_count": 20,
   "source": [
    "\"\"\"\n",
    "Correct solution. Using str.replace\n",
    "\"\"\"\n",
    "proline = \"CCU\"\n",
    "print(\"Proline can be encoded by: \", proline)\n",
    "proline = proline.replace(\"U\",\"A\")\n",
    "print(\".. or by: \", proline)\n",
    "proline = proline.replace(\"A\",\"G\")\n",
    "print(\".. or by: \", proline)\n",
    "proline = proline.replace(\"G\",\"C\")\n",
    "print(\".. or by: \", proline)"
   ],
   "outputs": [
    {
     "output_type": "stream",
     "name": "stdout",
     "text": [
      "Proline can be encoded by:  CCU\n",
      ".. or by:  CCA\n",
      ".. or by:  CCG\n",
      ".. or by:  CCC\n"
     ]
    }
   ],
   "metadata": {}
  },
  {
   "cell_type": "code",
   "execution_count": 21,
   "source": [
    "\"\"\"\n",
    "Another correct solution. Using string slicing and catenation.\n",
    "\"\"\"\n",
    "proline = \"CCU\"\n",
    "print(\"Proline can be encoded by: \", proline)\n",
    "proline = proline[:-1]+\"A\" #equal to proline[0:-1] or proline[0:2]\n",
    "print(\".. or by: \", proline)\n",
    "proline = proline[:-1]+\"G\"\n",
    "print(\".. or by: \", proline)\n",
    "proline = proline[:-1]+\"C\"\n",
    "print(\".. or by: \", proline)"
   ],
   "outputs": [
    {
     "output_type": "stream",
     "name": "stdout",
     "text": [
      "Proline can be encoded by:  CCU\n",
      ".. or by:  CCA\n",
      ".. or by:  CCG\n",
      ".. or by:  CCC\n"
     ]
    }
   ],
   "metadata": {}
  },
  {
   "cell_type": "markdown",
   "source": [
    "**Example**:\n",
    "Given the DNA sequence S = \"   aTATGCCCATatcgctAAATTGCTGCCATTACA    \". Print its length (removing any blank spaces at either sides), the number of adenines, cytosines, guanines and thymines present. Is the sequence \"ATCG\" present in S? Print how many times the substring \"TGCC\" appears in S and all the corresponding indexes."
   ],
   "metadata": {}
  },
  {
   "cell_type": "code",
   "execution_count": 22,
   "source": [
    "S = \"   aTATGCCCATatcgctAAATTGCTGCCATTACA    \"\n",
    "\n",
    "print(S)\n",
    "S = S.strip(\" \")\n",
    "print(S)\n",
    "\n",
    "print(len(S))\n",
    "tmp_s = S.upper() #for simplicity to count only 4 different nucleotides\n",
    "print(\"A count: \", tmp_s.count(\"A\"))\n",
    "print(\"C count: \", tmp_s.count(\"C\"))\n",
    "print(\"T count: \", tmp_s.count(\"T\"))\n",
    "print(\"G count: \", tmp_s.count(\"G\"))\n",
    "print(\"Is ATCG in \", tmp_s, \"? \", tmp_s.find(\"ATCG\") != -1) #or tmp_s.count(\"ATCG\") > 0\n",
    "print(\"TGCC is present \", tmp_s.count(\"TGCC\"), \" times in \", tmp_s)\n",
    "print(\"TGCC is present at pos \", tmp_s.find(\"TGCC\")) \n",
    "print(\"TGCC is present at pos \", tmp_s.rfind(\"TGCC\")) #or tmp_S.find(\"TGCC\",4)\n"
   ],
   "outputs": [
    {
     "output_type": "stream",
     "name": "stdout",
     "text": [
      "   aTATGCCCATatcgctAAATTGCTGCCATTACA    \n",
      "aTATGCCCATatcgctAAATTGCTGCCATTACA\n",
      "33\n",
      "A count:  10\n",
      "C count:  9\n",
      "T count:  10\n",
      "G count:  4\n",
      "Is ATCG in  ATATGCCCATATCGCTAAATTGCTGCCATTACA ?  True\n",
      "TGCC is present  2  times in  ATATGCCCATATCGCTAAATTGCTGCCATTACA\n",
      "TGCC is present at pos  3\n",
      "TGCC is present at pos  23\n"
     ]
    }
   ],
   "metadata": {}
  },
  {
   "cell_type": "markdown",
   "source": [
    "## Exercises\n",
    "\n",
    "1. Given the following string on two lines:\n",
    "\n",
    "```\n",
    "text = \"\"\"Nobody said it was easy\n",
    "No one ever said it would be this hard\"\"\"\n",
    "```\n",
    "write some python code that a) prints the whole string; b) prints the first and last character; c) prints the first 10 characters; d) prints from the 19th character to the 31st; e) prints the string all in capital letters.\n",
    "\n",
    "<div class=\"tggle\" onclick=\"toggleVisibility('ex0');\">Show/Hide Solution</div>\n",
    "<div id=\"ex0\" style=\"display:none;\">"
   ],
   "metadata": {}
  },
  {
   "cell_type": "code",
   "execution_count": 1,
   "source": [
    "text = \"\"\"Nobody said it was easy\n",
    "No one ever said it would be this hard\"\"\"\n",
    "# a) prints the whole text\n",
    "print(text)\n",
    "\n",
    "\n",
    "#some empty space...\n",
    "print(\"\")\n",
    "\n",
    "# b) 1st and last character\n",
    "print(\"1st char: \", text[0], \" last char: \", text[-1])\n",
    "\n",
    "#c) the 1st 10 characters:\n",
    "print(\"1st 10 chars:\", text[0:10])\n",
    "\n",
    "#d) from the 19th to the 31st char\n",
    "print(\"\\nCharacters from 19 to 31:\")\n",
    "print(text[18:31])\n",
    "print(\"\\nAll upper case:\")\n",
    "upper_text = text.upper()\n",
    "print(upper_text) #equivalent to: print(text.upper())\n",
    "print(\"\")\n",
    "#NOTE THAT:\n",
    "print(text)\n",
    "print(\"\")\n",
    "#is different from\n",
    "print(upper_text)\n",
    "print(\"\")\n",
    "#as confirmed by python:\n",
    "print(\"text and upper_text are equal: \", text == upper_text)\n",
    "\n",
    "print(\"\")\n",
    "print(\"Newline? \", \"\\n\" in text)"
   ],
   "outputs": [
    {
     "output_type": "stream",
     "name": "stdout",
     "text": [
      "Nobody said it was easy\n",
      "No one ever said it would be this hard\n",
      "\n",
      "1st char:  N  last char:  d\n",
      "1st 10 chars: Nobody sai\n",
      "\n",
      "Characters from 19 to 31:\n",
      " easy\n",
      "No one \n",
      "\n",
      "All upper case:\n",
      "NOBODY SAID IT WAS EASY\n",
      "NO ONE EVER SAID IT WOULD BE THIS HARD\n",
      "\n",
      "Nobody said it was easy\n",
      "No one ever said it would be this hard\n",
      "\n",
      "NOBODY SAID IT WAS EASY\n",
      "NO ONE EVER SAID IT WOULD BE THIS HARD\n",
      "\n",
      "text and upper_text are equal:  False\n",
      "\n",
      "Newline?  True\n"
     ]
    }
   ],
   "metadata": {
    "scrolled": true
   }
  },
  {
   "cell_type": "markdown",
   "source": [
    "</div>"
   ],
   "metadata": {}
  },
  {
   "cell_type": "markdown",
   "source": [
    "2. An exon of a gene starts from position 12030 on a genome and ends at position 12174. Does an A/T SNP present at position 12111 affect this exon (i.e. is it inside the exon)? And what about a SNP present at position 12188? *Hint: create a suitable boolean expression to check if the positions are within the interval of the exon*.\n",
    "\n",
    "<div class=\"tggle\" onclick=\"toggleVisibility('ex1');\">Show/Hide Solution</div>\n",
    "<div id=\"ex1\" style=\"display:none;\">"
   ],
   "metadata": {}
  },
  {
   "cell_type": "code",
   "execution_count": 24,
   "source": [
    "E_start = 12030\n",
    "E_end = 12174\n",
    "SNP1_pos = 12111\n",
    "SNP2_pos = 12188\n",
    "\n",
    "Test1 = (SNP1_pos >= E_start and SNP1_pos <= E_end)\n",
    "Test2 = (SNP2_pos >= E_start and SNP2_pos <= E_end)\n",
    "print (\"SNP1 (\", SNP1_pos,\") in [\", E_start, \",\", E_end, \"]?\", Test1)\n",
    "print (\"SNP2 (\", SNP2_pos,\") in [\", E_start, \",\", E_end, \"]?\", Test2)"
   ],
   "outputs": [
    {
     "output_type": "stream",
     "name": "stdout",
     "text": [
      "SNP1 ( 12111 ) in [ 12030 , 12174 ]? True\n",
      "SNP2 ( 12188 ) in [ 12030 , 12174 ]? False\n"
     ]
    }
   ],
   "metadata": {}
  },
  {
   "cell_type": "markdown",
   "source": [
    "</div>"
   ],
   "metadata": {}
  },
  {
   "cell_type": "markdown",
   "source": [
    "3. SNP FB_AFFY_0000024 of the Apple 480K SNP chip has 5' flanking region (i.e. the forward probe) CATTATTTTCACTTGGGTCGAGGCCAGATTCCATC and 3' flanking region (i.e. the reverse probe) GGATTGCCCGAAATCAGAGAAAAGTCG. The SNP is a G/A transversion. Answer the following questions:\n",
    "\n",
    "    1. What is the length of the 5' flanking region? And that of the 3' flanking region? \n",
    "    2. The IUPAC code of the G/A transversion is R. What is the sequence of the whole region using the \"[G/A]\" notation for the SNP (hint: concatenate it in a new string called *region*) and the iupac notation R (region_iupac)?\n",
    "    3. Retrive and print only the SNP from *region* and *iupac_region*\n",
    "\n",
    "<div class=\"tggle\" onclick=\"toggleVisibility('ex2');\">Show/Hide Solution</div>\n",
    "<div id=\"ex2\" style=\"display:none;\">"
   ],
   "metadata": {}
  },
  {
   "cell_type": "code",
   "execution_count": 25,
   "source": [
    "SNP_5prime =  \"CATTATTTTCACTTGGGTCGAGGCCAGATTCCATC\"\n",
    "SNP_3prime = \"GGATTGCCCGAAATCAGAGAAAAGTCG\"\n",
    "\n",
    "SNPseq = \"G/A\"\n",
    "SNPiupac = \"R\"\n",
    "\n",
    "print(\"Length of 5' end: \", len(SNP_5prime))\n",
    "print(\"Length of 3' end: \", len(SNP_3prime))\n",
    "region = SNP_5prime + \"[\" + SNPseq + \"]\" + SNP_3prime\n",
    "region_iupac = SNP_5prime + SNPiupac + SNP_3prime\n",
    "print(region)\n",
    "print(region_iupac)\n",
    "\n",
    "#string slicing and indexing!\n",
    "\n",
    "snp_from_region = region[ len(SNP_5prime) + 1 : len(SNP_5prime) + 4 ] \n",
    "snp_from_iupac = region_iupac[ len(SNP_5prime) ]\n",
    "\n",
    "print(\"SNP from region: \", snp_from_region)\n",
    "print(\"SNP from iupac region: \", snp_from_iupac)\n",
    "\n",
    "# Another way:\n",
    "#L_ind = region.find(\"[\")\n",
    "#R_ind = region.find(\"]\")\n",
    "#print(L_ind)\n",
    "#print(R_ind)\n",
    "\n",
    "#print(region[L_ind + 1 : R_ind])\n",
    "\n",
    "\n"
   ],
   "outputs": [
    {
     "output_type": "stream",
     "name": "stdout",
     "text": [
      "Length of 5' end:  35\n",
      "Length of 3' end:  27\n",
      "CATTATTTTCACTTGGGTCGAGGCCAGATTCCATC[G/A]GGATTGCCCGAAATCAGAGAAAAGTCG\n",
      "CATTATTTTCACTTGGGTCGAGGCCAGATTCCATCRGGATTGCCCGAAATCAGAGAAAAGTCG\n",
      "SNP from region:  G/A\n",
      "SNP from iupac region:  R\n"
     ]
    }
   ],
   "metadata": {}
  },
  {
   "cell_type": "markdown",
   "source": [
    "</div>"
   ],
   "metadata": {}
  },
  {
   "cell_type": "markdown",
   "source": [
    "4. Compute the melting temperature $T_m$ of the primer with sequence \"TTAGCACACGTGAGCCAATGGAGCAAACGGGTAATT\". The melting temperature $T_m$ (in degrees Celtius) can be computed as: $T_m = 64.9 + 41(GC - 16.4)/N$, where $GC$ is the total number of G and C in the primer and $N$ is its length.  \n",
    "\n",
    "<div class=\"tggle\" onclick=\"toggleVisibility('ex3');\">Show/Hide Solution</div>\n",
    "<div id=\"ex3\" style=\"display:none;\">"
   ],
   "metadata": {}
  },
  {
   "cell_type": "code",
   "execution_count": 26,
   "source": [
    "primer = \"TTAGCACACGTGAGCCAATGGAGCAAACGGGTAATT\"\n",
    "N = len(primer)\n",
    "\n",
    "gc = (primer.count(\"G\") + primer.count(\"C\"))\n",
    "\n",
    "Tm = 64.9 + 41 * (gc - 16.4)/N\n",
    "\n",
    "print(\"The melting T for primer \", primer, \" is: \", Tm, \"°C\")"
   ],
   "outputs": [
    {
     "output_type": "stream",
     "name": "stdout",
     "text": [
      "The melting T for primer  TTAGCACACGTGAGCCAATGGAGCAAACGGGTAATT  is:  65.58333333333334 °C\n"
     ]
    }
   ],
   "metadata": {}
  },
  {
   "cell_type": "markdown",
   "source": [
    "</div>"
   ],
   "metadata": {}
  },
  {
   "cell_type": "markdown",
   "source": [
    "5. The spike protein of the Sars-CoV-2 virus has the following aminoacidic sequence:\n",
    "```    \n",
    "S = \"\"\"\n",
    "MFVFLVLLPLVSSQCVNLTTRTQLPPAYTNSFTRGVYYPDKVFRSSVLHSTQDLFLPFFS\n",
    "NVTWFHAIHVSGTNGTKRFDNPVLPFNDGVYFASTEKSNIIRGWIFGTTLDSKTQSLLIV\n",
    "NNATNVVIKVCEFQFCNDPFLGVYYHKNNKSWMESEFRVYSSANNCTFEYVSQPFLMDLE\n",
    "GKQGNFKNLREFVFKNIDGYFKIYSKHTPINLVRDLPQGFSALEPLVDLPIGINITRFQT\n",
    "LLALHRSYLTPGDSSSGWTAGAAAYYVGYLQPRTFLLKYNENGTITDAVDCALDPLSETK\n",
    "CTLKSFTVEKGIYQTSNFRVQPTESIVRFPNITNLCPFGEVFNATRFASVYAWNRKRISN\n",
    "CVADYSVLYNSASFSTFKCYGVSPTKLNDLCFTNVYADSFVIRGDEVRQIAPGQTGKIAD\n",
    "YNYKLPDDFTGCVIAWNSNNLDSKVGGNYNYLYRLFRKSNLKPFERDISTEIYQAGSTPC\n",
    "NGVEGFNCYFPLQSYGFQPTNGVGYQPYRVVVLSFELLHAPATVCGPKKSTNLVKNKCVN\n",
    "FNFNGLTGTGVLTESNKKFLPFQQFGRDIADTTDAVRDPQTLEILDITPCSFGGVSVITP\n",
    "GTNTSNQVAVLYQDVNCTEVPVAIHADQLTPTWRVYSTGSNVFQTRAGCLIGAEHVNNSY\n",
    "ECDIPIGAGICASYQTQTNSPRRARSVASQSIIAYTMSLGAENSVAYSNNSIAIPTNFTI\n",
    "SVTTEILPVSMTKTSVDCTMYICGDSTECSNLLLQYGSFCTQLNRALTGIAVEQDKNTQE\n",
    "VFAQVKQIYKTPPIKDFGGFNFSQILPDPSKPSKRSFIEDLLFNKVTLADAGFIKQYGDC\n",
    "LGDIAARDLICAQKFNGLTVLPPLLTDEMIAQYTSALLAGTITSGWTFGAGAALQIPFAM\n",
    "QMAYRFNGIGVTQNVLYENQKLIANQFNSAIGKIQDSLSSTASALGKLQDVVNQNAQALN\n",
    "TLVKQLSSNFGAISSVLNDILSRLDKVEAEVQIDRLITGRLQSLQTYVTQQLIRAAEIRA\n",
    "SANLAATKMSECVLGQSKRVDFCGKGYHLMSFPQSAPHGVVFLHVTYVPAQEKNFTTAPA\n",
    "ICHDGKAHFPREGVFVSNGTHWFVTQRNFYEPQIITTDNTFVSGNCDVVIGIVNNTVYDP\n",
    "LQPELDSFKEELDKYFKNHTSPDVDLGDISGINASVVNIQKEIDRLNEVAKNLNESLIDL\n",
    "QELGKYEQYIKWPWYIWLGFIAGLIAIVMVTIMLCCMTSCCSCLKGCCSCGSCCKFDEDD\n",
    "SEPVLKGVKLHYT\n",
    "\"\"\"\n",
    "```\n",
    "Write a little python script to answer the following questions: 1) What are the first 10 and the last 10 aminoacids? 2) How many aminoacids does it have (beware of new lines)?  3) How many Tyrosines (T) does it contain? 4) How many Triptophanes (W)? 5) How many Valines (V) followed by at least one Lysine (K)?\n",
    "\n",
    "<div class=\"tggle\" onclick=\"toggleVisibility('excov2');\">Show/Hide Solution</div>\n",
    "<div id=\"excov2\" style=\"display:none;\">"
   ],
   "metadata": {}
  },
  {
   "cell_type": "code",
   "execution_count": 27,
   "source": [
    "S = \"\"\"\n",
    "MFVFLVLLPLVSSQCVNLTTRTQLPPAYTNSFTRGVYYPDKVFRSSVLHSTQDLFLPFFS\n",
    "NVTWFHAIHVSGTNGTKRFDNPVLPFNDGVYFASTEKSNIIRGWIFGTTLDSKTQSLLIV\n",
    "NNATNVVIKVCEFQFCNDPFLGVYYHKNNKSWMESEFRVYSSANNCTFEYVSQPFLMDLE\n",
    "GKQGNFKNLREFVFKNIDGYFKIYSKHTPINLVRDLPQGFSALEPLVDLPIGINITRFQT\n",
    "LLALHRSYLTPGDSSSGWTAGAAAYYVGYLQPRTFLLKYNENGTITDAVDCALDPLSETK\n",
    "CTLKSFTVEKGIYQTSNFRVQPTESIVRFPNITNLCPFGEVFNATRFASVYAWNRKRISN\n",
    "CVADYSVLYNSASFSTFKCYGVSPTKLNDLCFTNVYADSFVIRGDEVRQIAPGQTGKIAD\n",
    "YNYKLPDDFTGCVIAWNSNNLDSKVGGNYNYLYRLFRKSNLKPFERDISTEIYQAGSTPC\n",
    "NGVEGFNCYFPLQSYGFQPTNGVGYQPYRVVVLSFELLHAPATVCGPKKSTNLVKNKCVN\n",
    "FNFNGLTGTGVLTESNKKFLPFQQFGRDIADTTDAVRDPQTLEILDITPCSFGGVSVITP\n",
    "GTNTSNQVAVLYQDVNCTEVPVAIHADQLTPTWRVYSTGSNVFQTRAGCLIGAEHVNNSY\n",
    "ECDIPIGAGICASYQTQTNSPRRARSVASQSIIAYTMSLGAENSVAYSNNSIAIPTNFTI\n",
    "SVTTEILPVSMTKTSVDCTMYICGDSTECSNLLLQYGSFCTQLNRALTGIAVEQDKNTQE\n",
    "VFAQVKQIYKTPPIKDFGGFNFSQILPDPSKPSKRSFIEDLLFNKVTLADAGFIKQYGDC\n",
    "LGDIAARDLICAQKFNGLTVLPPLLTDEMIAQYTSALLAGTITSGWTFGAGAALQIPFAM\n",
    "QMAYRFNGIGVTQNVLYENQKLIANQFNSAIGKIQDSLSSTASALGKLQDVVNQNAQALN\n",
    "TLVKQLSSNFGAISSVLNDILSRLDKVEAEVQIDRLITGRLQSLQTYVTQQLIRAAEIRA\n",
    "SANLAATKMSECVLGQSKRVDFCGKGYHLMSFPQSAPHGVVFLHVTYVPAQEKNFTTAPA\n",
    "ICHDGKAHFPREGVFVSNGTHWFVTQRNFYEPQIITTDNTFVSGNCDVVIGIVNNTVYDP\n",
    "LQPELDSFKEELDKYFKNHTSPDVDLGDISGINASVVNIQKEIDRLNEVAKNLNESLIDL\n",
    "QELGKYEQYIKWPWYIWLGFIAGLIAIVMVTIMLCCMTSCCSCLKGCCSCGSCCKFDEDD\n",
    "SEPVLKGVKLHYT\n",
    "\"\"\"\n",
    "\n",
    "#Let's remove the newline character (\\n)\n",
    "S = S.replace('\\n','')\n",
    "\n",
    "#0. The first 10 and last 10 aminoacids:\n",
    "print(\"The S protein: \", S[0:10] , \"... \" + S[-10:])\n",
    "\n",
    "#1. How many aminoacids does the sequence have?\n",
    "print(\"The S protein contains \" + str(len(S)) + \" aminoacids...\")\n",
    "\n",
    "#2. How many of these are T?\n",
    "print(\"... \" +  str(S.count(\"T\")) + \" of which are Tyrosines\")\n",
    "\n",
    "#3. How many of these are W?\n",
    "print(\"... \" +  str(S.count(\"W\")) + \" of which are Triptophanes\")\n",
    "\n",
    "#4. How many of these are VK?\n",
    "print(\"... \" +  str(S.count(\"VK\")) + \" VKs\")\n"
   ],
   "outputs": [
    {
     "output_type": "stream",
     "name": "stdout",
     "text": [
      "The S protein:  MFVFLVLLPL ... VLKGVKLHYT\n",
      "The S protein contains 1273 aminoacids...\n",
      "... 97 of which are Tyrosines\n",
      "... 12 of which are Triptophanes\n",
      "... 4 VKs\n"
     ]
    }
   ],
   "metadata": {}
  },
  {
   "cell_type": "markdown",
   "source": [
    "</div>"
   ],
   "metadata": {}
  },
  {
   "cell_type": "markdown",
   "source": [
    "6. Convert the following extract of the [PalB2](http://www.ensembl.org/Homo_sapiens/Gene/Summary?g=ENSG00000083093;r=16:23603160-23641310) gene into mRNA (i.e. replace thymine with uracile):\n",
    "\n",
    "\n",
    "```\n",
    "seq =\"\"\"CTGTCTCCCTCACTGTATGTAAATTGCATCTAGAATAGCA\n",
    "TCTGGAGCACTAATTGACACATAGTGGGTATCAATTATTA\n",
    "TTCCAGGTACTAGAGATACCTGGACCATTAACGGATAAAT\n",
    "AGAAGATTCATTTGTTGAGTGACTGAGGATGGCAGTTCCT\n",
    "GCTACCTTCAAGGATCTGGATGATGGGGAGAAACAGAGAA\n",
    "CATAGTGTGAGAATACTGTGGTAAGGAAAGTACAGAGGAC\n",
    "TGGTAGAGTGTCTAACCTAGATTTGGAGAAGGACCTAGAA\n",
    "GTCTATCCCAGGGAAATAAAAATCTAAGCTAAGGTTTGAG\n",
    "GAATCAGTAGGAATTGGCAAAGGAAGGACATGTTCCAGAT\n",
    "GATAGGAACAGGTTATGCAAAGATCCTGAAATGGTCAGAG\n",
    "CTTGGTGCTTTTTGAGAACCAAAAGTAGATTGTTATGGAC\n",
    "CAGTGCTACTCCCTGCCTCTTGCCAAGGGACCCCGCCAAG\n",
    "CACTGCATCCCTTCCCTCTGACTCCACCTTTCCACTTGCC\n",
    "CAGTATTGTTGGTGT\"\"\"\n",
    "```\n",
    "\n",
    "\n",
    "and print the number of uracils present and the total length of the sequence (**remember to remove newlines**).\n",
    "\n",
    "Considering the genetic code and all the possible open reading frames, answer the following questions:\n",
    "\n",
    "![img7](img/pract2/genetic_code.png)\n",
    "    \n",
    "1. How many stop codons are present in the sequence?\n",
    "2. How many Glycines (Gly)?\n",
    "3. Is Tryptophane (Trp) present?\n",
    "4. What is the position of the leftmost Trp? Print the codon to double check correctness (hint: slicing).\n",
    "5. What is the position of the rightmost Trp? Print the codon to double check correctness (hint: slicing).\n",
    "    \n",
    "<div class=\"tggle\" onclick=\"toggleVisibility('ex4');\">Show/Hide Solution</div>\n",
    "<div id=\"ex4\" style=\"display:none;\">"
   ],
   "metadata": {}
  },
  {
   "cell_type": "code",
   "execution_count": 28,
   "source": [
    "seq =\"\"\"CTGTCTCCCTCACTGTATGTAAATTGCATCTAGAATAGCA\n",
    "TCTGGAGCACTAATTGACACATAGTGGGTATCAATTATTA\n",
    "TTCCAGGTACTAGAGATACCTGGACCATTAACGGATAAAT\n",
    "AGAAGATTCATTTGTTGAGTGACTGAGGATGGCAGTTCCT\n",
    "GCTACCTTCAAGGATCTGGATGATGGGGAGAAACAGAGAA\n",
    "CATAGTGTGAGAATACTGTGGTAAGGAAAGTACAGAGGAC\n",
    "TGGTAGAGTGTCTAACCTAGATTTGGAGAAGGACCTAGAA\n",
    "GTCTATCCCAGGGAAATAAAAATCTAAGCTAAGGTTTGAG\n",
    "GAATCAGTAGGAATTGGCAAAGGAAGGACATGTTCCAGAT\n",
    "GATAGGAACAGGTTATGCAAAGATCCTGAAATGGTCAGAG\n",
    "CTTGGTGCTTTTTGAGAACCAAAAGTAGATTGTTATGGAC\n",
    "CAGTGCTACTCCCTGCCTCTTGCCAAGGGACCCCGCCAAG\n",
    "CACTGCATCCCTTCCCTCTGACTCCACCTTTCCACTTGCC\n",
    "CAGTATTGTTGGTGT\"\"\"\n",
    "\n",
    "seq = seq.replace(\"\\n\",\"\")\n",
    "mRNA = seq.replace(\"T\",\"U\")\n",
    "\n",
    "print(\"Number of uracils: \", mRNA.count(\"U\"))\n",
    "print(\"Total length of the sequence: \", len(seq))\n",
    "stopc = mRNA.count(\"UAA\") + mRNA.count(\"UGA\") + mRNA.count(\"UAG\")\n",
    "print(\"Number of stop codons: \", stopc)\n",
    "gly = mRNA.count(\"GGU\") + mRNA.count(\"GGC\") + mRNA.count(\"GGA\") + mRNA.count(\"GGG\")\n",
    "print(\"Number of glycines: \", gly)\n",
    "print(\"Is Trp present? \", mRNA.find(\"UGG\")> 0)\n",
    "rmTrp = mRNA.find(\"UGG\")\n",
    "print(\"Leftmost Trp at pos:\", rmTrp, \" Codon: \", mRNA[rmTrp : rmTrp + 3])\n",
    "lmTrp = mRNA.rfind(\"UGG\")\n",
    "print(\"Rightmost Trp at pos:\", mRNA.rfind(\"UGG\"), \" Codon: \", mRNA[lmTrp:lmTrp+3])\n"
   ],
   "outputs": [
    {
     "output_type": "stream",
     "name": "stdout",
     "text": [
      "Number of uracils:  140\n",
      "Total length of the sequence:  535\n",
      "Number of stop codons:  32\n",
      "Number of glycines:  34\n",
      "Is Trp present?  True\n",
      "Leftmost Trp at pos: 42  Codon:  UGG\n",
      "Rightmost Trp at pos: 529  Codon:  UGG\n"
     ]
    }
   ],
   "metadata": {}
  },
  {
   "cell_type": "markdown",
   "source": [
    "</div>"
   ],
   "metadata": {}
  },
  {
   "cell_type": "markdown",
   "source": [
    "7. Consider the following Illumina HiSeq 4000 read:\n",
    "\n",
    "\n",
    "```\n",
    "read = \"\"\"AATGATACGGCGACCACCGAGATCTACACGCCTCCCTCGCGC\n",
    "CATCAGAGAGTCTGGGTCTCAGGTACCGCAGTTGTATCTTGCGCGACTATA\n",
    "ATCCACGGCTCTTATTCTAGCGTGCGCGTACGGCGGTGGGCGTCGTTACGCTATATT\"\"\"\n",
    "``` \n",
    "\n",
    "and try to answer the following questions:\n",
    "\n",
    "    1. How long is the read (beware of newlines)?\n",
    "    2. What is the GC content of the read (remember $gc = \\frac{G+C}{A+T+C+G}$)?\n",
    "    3. A Nextera adapter is \"AATGATACGGCGACCACCGAGATCTACACGCCTCCCTCGCGCCATCAG\". \n",
    "    Is it present in the read? How long is it?\n",
    "    4. Remove the Nextera adapter from the read and recompute the GC content.\n",
    "    Has GC content increased after adapter trimmming?\n"
   ],
   "metadata": {}
  },
  {
   "cell_type": "markdown",
   "source": [
    "<div class=\"tggle\" onclick=\"toggleVisibility('ex5');\">Show/Hide Solution</div>\n",
    "<div id=\"ex5\" style=\"display:none;\">"
   ],
   "metadata": {}
  },
  {
   "cell_type": "code",
   "execution_count": 29,
   "source": [
    "read = \"\"\"AATGATACGGCGACCACCGAGATCTACACGCCTCCCTCGCGC\n",
    "CATCAGAGAGTCTGGGTCTCAGGTACCGCAGTTGTATCTTGCGCGACTATA\n",
    "ATCCACGGCTCTTATTCTAGCGTGCGCGTACGGCGGTGGGCGTCGTTACGCTATATT\"\"\"\n",
    "\n",
    "read = read.replace(\"\\n\",\"\")\n",
    "print(\"Read length is: \", len(read), \" base pairs\")\n",
    "g = read.count(\"G\")\n",
    "c = read.count(\"C\")\n",
    "t = read.count(\"T\")\n",
    "a = read.count(\"A\")\n",
    "\n",
    "gc = (g + c) / (a + t + c + g)\n",
    "\n",
    "print(\"GC content of read: \", gc)\n",
    "\n",
    "adapter = \"AATGATACGGCGACCACCGAGATCTACACGCCTCCCTCGCGCCATCAG\"\n",
    "\n",
    "print(\"Is the adapter present? \", adapter in read)\n",
    "print(\"Adapter length: \", len(adapter))\n",
    "print(\"The adapter starts at: \", read.find(adapter))\n",
    "\n",
    "trimmed_read = read.replace(adapter,\"\")\n",
    "\n",
    "tr_g = trimmed_read.count(\"G\")\n",
    "tr_c = trimmed_read.count(\"C\")\n",
    "tr_t = trimmed_read.count(\"T\")\n",
    "tr_a = trimmed_read.count(\"A\")\n",
    "\n",
    "tr_gc = (tr_g + tr_c) / (tr_a + tr_t + tr_c + tr_g)\n",
    "print(\"GC content of trimmed read: \", tr_gc)\n",
    "print(\"GC content has increased after trimming: \", tr_gc > gc)"
   ],
   "outputs": [
    {
     "output_type": "stream",
     "name": "stdout",
     "text": [
      "Read length is:  150  base pairs\n",
      "GC content of read:  0.56\n",
      "Is the adapter present?  True\n",
      "Adapter length:  48\n",
      "The adapter starts at:  0\n",
      "GC content of trimmed read:  0.5392156862745098\n",
      "GC content has increased after trimming:  False\n"
     ]
    }
   ],
   "metadata": {}
  },
  {
   "cell_type": "markdown",
   "source": [
    "</div>"
   ],
   "metadata": {}
  },
  {
   "cell_type": "markdown",
   "source": [
    "8. Given *geneA* starting at position 1000 and ending at position 3400, and *geneB* starting at position 3700 and ending at position 6000. Randomly select a position (*pos*) from 1 to 5202 and check the following:\n",
    "        a. is pos in geneA?\n",
    "        b. is pos in geneB?\n",
    "        c. is pos in between the two genes?\n",
    "        d. is pos within one of the two genes?\n",
    "        e. is pos outside both genes?\n",
    "        f. is pos within 100 bases before the start of geneA?\n",
    "    To pick a random number you can import the random module and use the random.randint(start,end) function:\n",
    "    \n",
    "    ```import random```\n",
    "    \n",
    "    ```pos = random.randint(1,6000)```\n",
    "    \n",
    "<div class=\"tggle\" onclick=\"toggleVisibility('ex6');\">Show/Hide Solution</div>\n",
    "<div id=\"ex6\" style=\"display:none;\">"
   ],
   "metadata": {}
  },
  {
   "cell_type": "code",
   "execution_count": 30,
   "source": [
    "import random\n",
    "\n",
    "geneA_start = 1000\n",
    "geneA_end = 3400\n",
    "geneB_start = 3700\n",
    "geneB_end = 5201\n",
    "\n",
    "pos = random.randint(1,6000)\n",
    "print(\"Random position is: \", pos)\n",
    "\n",
    "answerA = (pos >= geneA_start and pos <= geneA_end)\n",
    "answerB = (pos >= geneB_start and pos <= geneB_end)\n",
    "answerC = (pos >geneA_end and pos <geneB_start)\n",
    "answerD = (answerA or answerB)\n",
    "answerE = (pos < geneA_start or (pos > geneA_end and pos < geneB_start) or (pos > geneB_end))\n",
    "answerF = (pos >= geneA_start - 100 ) and (pos < geneA_start)\n",
    "print(\"Is \", pos, \" in geneA [\", geneA_start, \",\", geneA_end, \"]? \", answerA)\n",
    "print(\"Is \", pos, \" in geneB [\", geneB_start, \",\", geneB_end, \"]? \", answerB)\n",
    "print(\"Is \", pos, \" between the two genes? \", answerC)\n",
    "print(\"Is \", pos, \" in one of the two genes? \", answerD)\n",
    "print(\"Is \", pos, \" outside of both genes? \", answerE)\n",
    "print(\"Is \", pos, \" within 100 bases from the start of geneA? \", answerF)           "
   ],
   "outputs": [
    {
     "output_type": "stream",
     "name": "stdout",
     "text": [
      "Random position is:  5701\n",
      "Is  5701  in geneA [ 1000 , 3400 ]?  False\n",
      "Is  5701  in geneB [ 3700 , 5201 ]?  False\n",
      "Is  5701  between the two genes?  False\n",
      "Is  5701  in one of the two genes?  False\n",
      "Is  5701  outside of both genes?  True\n",
      "Is  5701  within 100 bases from the start of geneA?  False\n"
     ]
    }
   ],
   "metadata": {}
  },
  {
   "cell_type": "markdown",
   "source": [
    "</div>"
   ],
   "metadata": {}
  },
  {
   "cell_type": "markdown",
   "source": [
    "9. The DNA-binding domain of the Tumor Suppressor Protein TP53 can be represented by the string:\n",
    "\n",
    "```\n",
    "chain_a = \"\"\"SSSVPSQKTYQGSYGFRLGFLHSGTAKSVTCTYSPALNKM\n",
    "FCQLAKTCPVQLWVDSTPPPGTRVRAMAIYKQSQHMTEVV\n",
    "RRCPHHERCSDSDGLAPPQHLIRVEGNLRVEYLDDRNTFR\n",
    "HSVVVPYEPPEVGSDCTTIHYNYMCNSSCMGGMNRRPILT\n",
    "IITLEDSSGNLLGRNSFEVRVCACPGRDRRTEEENLRKKG\n",
    "EPHHELPPGSTKRALPNNT\"\"\"\n",
    "```\n",
    "\n",
    "Answer the following questions:\n",
    "\n",
    "    1. How many lines is the sequence written on?\n",
    "    2. How long is the sequence (remove newlines)?\n",
    "    3. Create a new sequence with all new lines removed\n",
    "    4. How many cysteines \"C\" and histidines \"H\" are there in the sequence?\n",
    "    5. Does the chain contain the sub-sequence \"NLRVEYLDDRN\"? Where?\n",
    "    6. Extract the first line of the sequence (Hint: use find and string slicing).\n",
    "\n",
    "<div class=\"tggle\" onclick=\"toggleVisibility('ex7');\">Show/Hide Solution</div>\n",
    "<div id=\"ex7\" style=\"display:none;\">"
   ],
   "metadata": {}
  },
  {
   "cell_type": "code",
   "execution_count": 31,
   "source": [
    "chain_a = \"\"\"SSSVPSQKTYQGSYGFRLGFLHSGTAKSVTCTYSPALNKM\n",
    "FCQLAKTCPVQLWVDSTPPPGTRVRAMAIYKQSQHMTEVV\n",
    "RRCPHHERCSDSDGLAPPQHLIRVEGNLRVEYLDDRNTFR\n",
    "HSVVVPYEPPEVGSDCTTIHYNYMCNSSCMGGMNRRPILT\n",
    "IITLEDSSGNLLGRNSFEVRVCACPGRDRRTEEENLRKKG\n",
    "EPHHELPPGSTKRALPNNT\"\"\"\n",
    "\n",
    "print(chain_a)\n",
    "lines = chain_a.count('\\n') + 1\n",
    "print(\"The sequence is in \", lines, \" lines\")\n",
    "\n",
    "sequence = chain_a.replace(\"\\n\",\"\")\n",
    "print(\"The sequence has \", len(sequence), \" aminoacids\")\n",
    "print(\"The sequence counts \", sequence.count('C'), \" cysteins\")\n",
    "print(\"The sequence counts \", sequence.count('H'), \" histidines\")\n",
    "subseq = \"NLRVEYLDDRN\"\n",
    "print(\"Does the sequence contain \", subseq, \"?\", subseq in sequence )\n",
    "pos = sequence.find(subseq)\n",
    "getS = sequence[pos:pos+len(subseq)]\n",
    "print(subseq, \" is present at pos: \", pos , \"[check:\", getS , \"]\")\n",
    "\n",
    "end_first_line = chain_a.find('\\n')\n",
    "print(\"The first line is: \", chain_a[0:end_first_line])"
   ],
   "outputs": [
    {
     "output_type": "stream",
     "name": "stdout",
     "text": [
      "SSSVPSQKTYQGSYGFRLGFLHSGTAKSVTCTYSPALNKM\n",
      "FCQLAKTCPVQLWVDSTPPPGTRVRAMAIYKQSQHMTEVV\n",
      "RRCPHHERCSDSDGLAPPQHLIRVEGNLRVEYLDDRNTFR\n",
      "HSVVVPYEPPEVGSDCTTIHYNYMCNSSCMGGMNRRPILT\n",
      "IITLEDSSGNLLGRNSFEVRVCACPGRDRRTEEENLRKKG\n",
      "EPHHELPPGSTKRALPNNT\n",
      "The sequence is in  6  lines\n",
      "The sequence has  219  aminoacids\n",
      "The sequence counts  10  cysteins\n",
      "The sequence counts  9  histidines\n",
      "Does the sequence contain  NLRVEYLDDRN ? True\n",
      "NLRVEYLDDRN  is present at pos:  106 [check: NLRVEYLDDRN ]\n",
      "The first line is:  SSSVPSQKTYQGSYGFRLGFLHSGTAKSVTCTYSPALNKM\n"
     ]
    }
   ],
   "metadata": {}
  },
  {
   "cell_type": "markdown",
   "source": [
    "</div>"
   ],
   "metadata": {}
  },
  {
   "cell_type": "markdown",
   "source": [
    "10. Calculate the zeros of the equation $ax^2-b = 0$ where a = 10 and b = 1. Hint: use math.sqrt or ** 0.5. Finally check that substituting the obtained value of x in the equation gives zero. \n",
    "\n",
    "<div class=\"tggle\" onclick=\"toggleVisibility('ex8');\">Show/Hide Solution</div>\n",
    "<div id=\"ex8\" style=\"display:none;\">"
   ],
   "metadata": {}
  },
  {
   "cell_type": "code",
   "execution_count": 32,
   "source": [
    "import math\n",
    "\n",
    "A = 10\n",
    "B = 1\n",
    "\n",
    "X = math.sqrt(B/A)\n",
    "\n",
    "print(\"10X**2 - 1 = 0 for X:\", X)\n",
    "print(10*X**2 -1 == 0)"
   ],
   "outputs": [
    {
     "output_type": "stream",
     "name": "stdout",
     "text": [
      "10X**2 - 1 = 0 for X: 0.31622776601683794\n",
      "True\n"
     ]
    }
   ],
   "metadata": {
    "scrolled": true
   }
  },
  {
   "cell_type": "markdown",
   "source": [
    "</div>"
   ],
   "metadata": {}
  }
 ],
 "metadata": {
  "celltoolbar": "Edit Metadata",
  "kernelspec": {
   "display_name": "python-3.6",
   "language": "python",
   "name": "python-3.6"
  },
  "language_info": {
   "codemirror_mode": {
    "name": "ipython",
    "version": 3
   },
   "file_extension": ".py",
   "mimetype": "text/x-python",
   "name": "python",
   "nbconvert_exporter": "python",
   "pygments_lexer": "ipython3",
   "version": "3.6.13"
  },
  "toc": {
   "base_numbering": 1,
   "nav_menu": {},
   "number_sections": false,
   "sideBar": true,
   "skip_h1_title": false,
   "title_cell": "Table of Contents",
   "title_sidebar": "Contents",
   "toc_cell": false,
   "toc_position": {},
   "toc_section_display": true,
   "toc_window_display": false
  }
 },
 "nbformat": 4,
 "nbformat_minor": 2
}