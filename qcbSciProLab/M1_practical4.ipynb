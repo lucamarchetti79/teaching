{
 "cells": [
  {
   "cell_type": "markdown",
   "metadata": {},
   "source": [
    "# Module 1, Practical 4\n",
    "\n",
    "In this practical we will work with conditionals (branching) and loops.\n",
    "\n",
    "## Execution flow\n",
    "\n",
    "Recall from the lecture that there are at least three types of execution flows. Our statements can be simple and structured **sequentially**, when one instruction is executed right after the previous one, but some more complex flows involve **conditional** branching (when the portion of the code to be executed depends on the value of some condition), or **loops** when a portion of the code is executed multiple times until a certain condition becomes False.\n",
    "\n",
    "![i1](img/pract4/structured_programming.png)\n",
    "\n",
    "These portions of code are generally called **blocks** and Python, unlike most of the programming languages, **uses indentation (and some keywords like else, ':', 'next', etc.) to define blocks**.\n",
    "\n",
    "## Conditionals\n",
    "\n",
    "\n",
    "We can use conditionals any time a decision needs to be made depending on the value of some condition. A block of code will be executed if the condition is evaluated to the boolean **True** and another one if the condition is evaluated to **False**. \n",
    "\n",
    "\n",
    "### The basic *if - else* statement\n",
    "The basic syntax of conditionals is an if statement like:"
   ]
  },
  {
   "cell_type": "markdown",
   "metadata": {},
   "source": [
    "```\n",
    "if condition :\n",
    "\n",
    "    #This is the True branch\n",
    "    #do something\n",
    "    \n",
    "else:\n",
    "    \n",
    "    #This is the False branch (or else branch)\n",
    "    #do something else\n",
    "```"
   ]
  },
  {
   "cell_type": "markdown",
   "metadata": {},
   "source": [
    "where condition is a boolean expression that tells the interpreter which of the two blocks should be executed. \n",
    "**If and only if** the condition is **True** the first branch is executed, otherwise execution goes to the second branch (i.e. the else branch). Note that the **condition is followed by a \":\"** character and that **the two branches are indented**. This is the way Python uses to identify the block of instructions that belong to the same branch. The **else keyword is followed by \":\"** and **is not indented** (i.e. it is at the same level of the *if* statement. There is no keyword at the end of the \"else branch\", but **indentation tells when the block of code is finished**.\n",
    "\n",
    "**Example:**\n",
    "Let's get an integer from the user and test if it is even or odd, printing the result to the screen."
   ]
  },
  {
   "cell_type": "code",
   "execution_count": 1,
   "metadata": {},
   "outputs": [
    {
     "name": "stdout",
     "output_type": "stream",
     "text": [
      "Dear user give me an integer:27\n",
      "Number  27  is  odd\n"
     ]
    }
   ],
   "source": [
    "\n",
    "num = int(input(\"Dear user give me an integer:\"))\n",
    "res = \"\"\n",
    "if num % 2 == 0:\n",
    "    #The number is even\n",
    "    res = \"even\"\n",
    "else:\n",
    "    #The number is odd\n",
    "    res = \"odd\"\n",
    "\n",
    "print(\"Number \", num, \" is \", res)\n"
   ]
  },
  {
   "cell_type": "markdown",
   "metadata": {},
   "source": [
    "Note that the execution is sequential until the *if* keyword, then it branches until the indentation goes back to the same level of the if (i.e. the two branches rejoin at the *print* statement in the final line). **Remember that the else branch is optional.**\n",
    "\n",
    "### The *if - elif - else* statement\n",
    "\n",
    "If statements can be chained in such a way that there are more than two possible branches to be followed. Chaining them with the **if - elif - else** statement will make execution follow only one of the possible paths.\n",
    "\n",
    "The syntax is the following:"
   ]
  },
  {
   "cell_type": "markdown",
   "metadata": {},
   "source": [
    "```\n",
    "if condition :\n",
    "\n",
    "    #This is branch 1\n",
    "    #do something\n",
    "    \n",
    "elif condition1 :\n",
    "    \n",
    "    #This is branch 2\n",
    "    #do something\n",
    "\n",
    "elif condition2 :\n",
    "\n",
    "    #This is branch 3\n",
    "    #do something\n",
    "\n",
    "else:\n",
    "\n",
    "    #else branch. Executed if all other conditions are false\n",
    "    #do something else\n",
    "```"
   ]
  },
  {
   "cell_type": "markdown",
   "metadata": {},
   "source": [
    "Note that **branch 1** is executed if condition is **True**, **branch 2** if and only if **condition is False and condition1 is True**, **branch 3** if condition is **False, condition 1 is False and condition2 is True**. **If all conditions are False the else branch is executed**.\n",
    "\n",
    "**Example**:\n",
    "The tax rate of a salary depends on the income. If the income is < 10000 euros, no tax is due, if the income is between 10000 euros and 20000 the tax rate is 25%, if between 20000 and 45000 it is 35% otherwise it is 40%. What is the tax due by a person earning 35000 euros per year? "
   ]
  },
  {
   "cell_type": "code",
   "execution_count": 2,
   "metadata": {},
   "outputs": [
    {
     "name": "stdout",
     "output_type": "stream",
     "text": [
      "The tax due is  12250.0  euros (i.e  35.0 %)\n"
     ]
    }
   ],
   "source": [
    "income = 35000\n",
    "rate = 0.0\n",
    "\n",
    "if income < 10000:\n",
    "    rate = 0\n",
    "elif income < 20000:\n",
    "    rate = 0.25\n",
    "elif income < 45000:\n",
    "    rate = 0.35\n",
    "else:\n",
    "    rate = 0.4\n",
    "    \n",
    "tax = income*rate\n",
    "\n",
    "print(\"The tax due is \", tax, \" euros (i.e \", rate*100, \"%)\")"
   ]
  },
  {
   "cell_type": "markdown",
   "metadata": {},
   "source": [
    "Note the difference in the two following cases:"
   ]
  },
  {
   "cell_type": "code",
   "execution_count": 3,
   "metadata": {},
   "outputs": [
    {
     "name": "stdout",
     "output_type": "stream",
     "text": [
      "Value >5\n",
      "\n",
      "\n",
      "Value is >5\n",
      "I said Value is >5!!!\n"
     ]
    }
   ],
   "source": [
    "#Example 1\n",
    "\n",
    "val = 10\n",
    "\n",
    "if val > 5:\n",
    "    print(\"Value >5\")\n",
    "elif val > 5: \n",
    "    print(\"I said value is >5!\")\n",
    "else:\n",
    "    print(\"Value is <= 5\")\n",
    "    \n",
    "#Example 2\n",
    "\n",
    "val = 10\n",
    "\n",
    "if(val > 5):\n",
    "    print(\"\\n\\nValue is >5\")\n",
    "\n",
    "if(val > 5):\n",
    "    print(\"I said Value is >5!!!\")\n",
    "    "
   ]
  },
  {
   "cell_type": "markdown",
   "metadata": {},
   "source": [
    "## Loops\n",
    "\n",
    "Looping is the ability of repeating a specific block of code several times (i.e. until a specific condition is True or there are no more elements to process). \n",
    "\n",
    "### For loop\n",
    "\n",
    "The *for* loop is used to loop over a collection of objects (e.g. a string, list, tuple, ...). The basic syntax of the for loop is the following:"
   ]
  },
  {
   "cell_type": "markdown",
   "metadata": {},
   "source": [
    "```\n",
    "for elem in collection :   \n",
    "    #OK, do something with elem\n",
    "    # instruction 1\n",
    "    # instruction 2\n",
    "```"
   ]
  },
  {
   "cell_type": "markdown",
   "metadata": {},
   "source": [
    "the variable *elem* will get the value of each one of the elements present in *collection* one after the other. The end of the block of code to be executed for each element in the collection is again defined by indentation.\n",
    "\n",
    "Depending on the type of the collection elem will get different values. Recall from the lecture that:\n",
    "\n",
    "![i2](img/pract4/iteration.png)\n",
    "\n",
    "Let's see this in action:"
   ]
  },
  {
   "cell_type": "code",
   "execution_count": 4,
   "metadata": {},
   "outputs": [
    {
     "name": "stdout",
     "output_type": "stream",
     "text": [
      "String: Hi there from python\n",
      "List: ['Hi', 'there', 'from', 'python']\n",
      "Tuple: ('Hi', 'there', 'from', 'python')\n",
      "On strings:\n",
      "H\n",
      "i\n",
      " \n",
      "t\n",
      "h\n",
      "e\n",
      "r\n",
      "e\n",
      " \n",
      "f\n",
      "r\n",
      "o\n",
      "m\n",
      " \n",
      "p\n",
      "y\n",
      "t\n",
      "h\n",
      "o\n",
      "n\n",
      "\n",
      "On lists:\n",
      "Hi\n",
      "there\n",
      "from\n",
      "python\n",
      "\n",
      "On tuples:\n",
      "Hi\n",
      "there\n",
      "from\n",
      "python\n"
     ]
    }
   ],
   "source": [
    "S = \"Hi there from python\"\n",
    "Slist = S.split(\" \")\n",
    "Stuple = (\"Hi\",\"there\",\"from\",\"python\")\n",
    "print(\"String:\", S)\n",
    "print(\"List:\", Slist)\n",
    "print(\"Tuple:\", Stuple)\n",
    "\n",
    "#for loop on string\n",
    "print(\"On strings:\")\n",
    "for c in S:\n",
    "    print(c)\n",
    "\n",
    "print(\"\\nOn lists:\")\n",
    "#for loop on list\n",
    "for item in Slist:\n",
    "    print(item)\n",
    "    \n",
    "print(\"\\nOn tuples:\")\n",
    "#for loop on list\n",
    "for item in Stuple:\n",
    "    print(item)"
   ]
  },
  {
   "cell_type": "markdown",
   "metadata": {},
   "source": [
    "### Looping over a range\n",
    "\n",
    "It is possible to loop over a range of values with the pythom built-in function *range*. The *range* function accepts either two or three parameters (all of them are **integers**). Similarly to the slicing operator, it needs the **starting point**, **end point** and **an optional step**. \n",
    "Three distinct syntaxes are available: "
   ]
  },
  {
   "cell_type": "markdown",
   "metadata": {},
   "source": [
    "```\n",
    "range(E)        # ranges from 0 to E-1\n",
    "range(S,E)      # ranges from S to E-1\n",
    "range(S,E,step) # ranges from S to E-1 with +step jumps\n",
    "```"
   ]
  },
  {
   "cell_type": "markdown",
   "metadata": {},
   "source": [
    "Remember that *S* is **included** while *E* is **excluded**.\n",
    "Let's see some examples.\n",
    "\n",
    "**Example:**\n",
    "Given a list of integers, return a list with all the even numbers."
   ]
  },
  {
   "cell_type": "code",
   "execution_count": 5,
   "metadata": {},
   "outputs": [
    {
     "name": "stdout",
     "output_type": "stream",
     "text": [
      "original list: [1, 7, 9, 121, 77, 82]\n",
      "only even numbers: [82]\n"
     ]
    }
   ],
   "source": [
    "myList = [1, 7, 9, 121, 77, 82]\n",
    "onlyEven = []\n",
    "\n",
    "for i in range(0, len(myList)):  #this is equivalent to range(len(myList)):\n",
    "    if myList[i] % 2 == 0 :\n",
    "        onlyEven.append(myList[i])\n",
    "        \n",
    "print(\"original list:\", myList)\n",
    "print(\"only even numbers:\", onlyEven)\n"
   ]
  },
  {
   "cell_type": "markdown",
   "metadata": {},
   "source": [
    "**Example:**\n",
    "Store in a list the multiples of 19 between 1 and 100."
   ]
  },
  {
   "cell_type": "code",
   "execution_count": 6,
   "metadata": {},
   "outputs": [
    {
     "name": "stdout",
     "output_type": "stream",
     "text": [
      "multiples of 19:  [19, 38, 57, 76, 95]\n",
      "multiples of 19: [19, 38, 57, 76, 95]\n"
     ]
    }
   ],
   "source": [
    "multiples = []\n",
    "\n",
    "for i in range(19,101,19):    # equal to: list(range(19,101,19))\n",
    "    multiples.append(i)       #\n",
    "    \n",
    "print(\"multiples of 19: \", multiples) \n",
    "\n",
    "#alternative way:\n",
    "multiples = []\n",
    "for i in range(1, (100//19) + 1):\n",
    "    multiples.append(i*19)\n",
    "print(\"multiples of 19:\", multiples)\n"
   ]
  },
  {
   "cell_type": "markdown",
   "metadata": {},
   "source": [
    "<div class=\"alert alert-info\">\n",
    "\n",
    "**Note:** range works differently in Python 2.x and 3.x\n",
    "\n",
    "In Python 3 the *range* function returns an iterator rather storing the entire list."
   ]
  },
  {
   "cell_type": "code",
   "execution_count": 7,
   "metadata": {},
   "outputs": [
    {
     "name": "stdout",
     "output_type": "stream",
     "text": [
      "range(0, 10)\n",
      "[0, 1, 2, 3, 4, 5, 6, 7, 8, 9]\n"
     ]
    }
   ],
   "source": [
    "#Check out the difference:\n",
    "print(range(0,10))\n",
    "\n",
    "print(list(range(0,10)))"
   ]
  },
  {
   "cell_type": "markdown",
   "metadata": {},
   "source": [
    "</div>\n",
    "**Example:**\n",
    "Let's consider the two DNA strings s1 = \"ATACATATAGGGCCAATTATTATAAGTCAC\" and s2 = \"CGCCACTTAAGCGCCCTGTATTAAAGTCGC\" that have the same length. Let's create a third string $out$ such that $out[i]$ is $\"|\"$ if $s1[i]==s2[i]$, $\"\\ \"$ otherwise.  "
   ]
  },
  {
   "cell_type": "code",
   "execution_count": 8,
   "metadata": {},
   "outputs": [
    {
     "name": "stdout",
     "output_type": "stream",
     "text": [
      "ATACATATAGGGCCAATTATTATAAGTCAC\n",
      "   ||  || |  |  |   |  ||||| |\n",
      "CGCCACTTAAGCGCCCTGTATTAAAGTCGC\n"
     ]
    }
   ],
   "source": [
    "s1 = \"ATACATATAGGGCCAATTATTATAAGTCAC\"\n",
    "s2 = \"CGCCACTTAAGCGCCCTGTATTAAAGTCGC\"\n",
    "\n",
    "outSTR = \"\"\n",
    "for i in range(len(s1)):\n",
    "    if s1[i] == s2[i]:\n",
    "        outSTR = outSTR + \"|\"\n",
    "    else:\n",
    "        outSTR = outSTR + \" \"\n",
    "\n",
    "print(s1)\n",
    "print(outSTR)\n",
    "print(s2)\n"
   ]
  },
  {
   "cell_type": "markdown",
   "metadata": {},
   "source": [
    "### Nested for loops\n",
    "\n",
    "In some occasions it is useful to nest one (or more) for loops into another one.\n",
    "The basic syntax is:"
   ]
  },
  {
   "cell_type": "markdown",
   "metadata": {},
   "source": [
    "```\n",
    "for i in collection:\n",
    "    for j in another_collection:\n",
    "        #do some stuff with i and j\n",
    "```"
   ]
  },
  {
   "cell_type": "markdown",
   "metadata": {},
   "source": [
    "**Example:**\n",
    "\n",
    "Given the matrix $\\begin{bmatrix}1 & 2 & 3\\\\4 & 5 & 6\\\\7 & 8 & 9\\end{bmatrix}$ stored as a list of lists (i.e. matrix = [[1, 2, 3], [4, 5, 6], [7, 8, 9]].\n",
    "\n",
    "Print it out as: $\\begin{matrix}1 & 2 & 3\\\\4 & 5 & 6\\\\7 & 8 & 9\\end{matrix}$"
   ]
  },
  {
   "cell_type": "code",
   "execution_count": 9,
   "metadata": {},
   "outputs": [
    {
     "name": "stdout",
     "output_type": "stream",
     "text": [
      "1 2 3 \n",
      "4 5 6 \n",
      "7 8 9 \n"
     ]
    }
   ],
   "source": [
    "matrix = [[1, 2, 3], [4, 5, 6], [7, 8, 9]]\n",
    "\n",
    "for i in range(len(matrix)):\n",
    "    line = \"\"\n",
    "    for j in range(len(matrix[i])):\n",
    "        line = line + str(matrix[i][j]) + \" \" #note int --> str conversion!\n",
    "    print(line)\n",
    "    \n",
    "    \n",
    "# Without nested for (but this is not exactly the same). \n",
    "# NOTE: cannot do print(\" \".join(row)) because we have integers\n",
    "\n",
    "#for row in matrix:\n",
    "#    print(\" \".join(str(row)))\n",
    "#\n",
    "#Outputs:\n",
    "#[ 1 ,   2 ,   3 ]\n",
    "#[ 4 ,   5 ,   6 ]\n",
    "#[ 7 ,   8 ,   9 ]\n"
   ]
  },
  {
   "cell_type": "markdown",
   "metadata": {},
   "source": [
    "### While loops\n",
    "\n",
    "The **for** loop is great **when we have to iterate over a finite sequence of elements**. But when one needs **to loop until a specific condition holds true**, another construct must be used: the **while** statement. The loop will end when the condition becomes false.\n",
    "\n",
    "The basic syntax is the following:"
   ]
  },
  {
   "cell_type": "markdown",
   "metadata": {},
   "source": [
    "```\n",
    "while condition:\n",
    "\n",
    "    #do something\n",
    "    #update the value of condition\n",
    "```"
   ]
  },
  {
   "cell_type": "markdown",
   "metadata": {},
   "source": [
    "An example follows:"
   ]
  },
  {
   "cell_type": "code",
   "execution_count": 10,
   "metadata": {},
   "outputs": [
    {
     "name": "stdout",
     "output_type": "stream",
     "text": [
      "i now is: 0\n",
      "i now is: 1\n",
      "i now is: 2\n",
      "i now is: 3\n",
      "i now is: 4\n"
     ]
    }
   ],
   "source": [
    "i = 0\n",
    "while i < 5:\n",
    "    print(\"i now is:\", i)\n",
    "    i = i + 1 #THIS IS VERY IMPORTANT!"
   ]
  },
  {
   "cell_type": "markdown",
   "metadata": {},
   "source": [
    "Note that if *condition* is false at the beginning the block of code is never executed. \n",
    "\n",
    "<div class=\"alert alert-warning\">\n",
    "\n",
    "**Note:** The loop will continue until *condition* holds true and the only code executed is the block defined through the indentation. This block of code must update the value of condition otherwise the interpreter will get stuck in the loop and will never exit. \n",
    "</div>\n",
    "\n",
    "We can combine *for* loops and *while* loops one into the code block of the other:"
   ]
  },
  {
   "cell_type": "code",
   "execution_count": 11,
   "metadata": {},
   "outputs": [
    {
     "name": "stdout",
     "output_type": "stream",
     "text": [
      "1 \n",
      "2 1 \n",
      "3 2 1 \n",
      "4 3 2 1 \n",
      "5 4 3 2 1 \n",
      "6 5 4 3 2 1 \n",
      "7 6 5 4 3 2 1 \n",
      "8 7 6 5 4 3 2 1 \n",
      "9 8 7 6 5 4 3 2 1 \n"
     ]
    }
   ],
   "source": [
    "for i in range(1,10):                      \n",
    "    j = 1                                   \n",
    "    output = \"\"                             \n",
    "    while j<= i:                            \n",
    "        output = str(j) + \" \" + output      \n",
    "        j = j + 1                           \n",
    "    print(output)                           \n",
    "        "
   ]
  },
  {
   "cell_type": "markdown",
   "metadata": {},
   "source": [
    "Note the way the numbers are concatenated together to form the output string. Check the difference of the previous code to the following:"
   ]
  },
  {
   "cell_type": "code",
   "execution_count": 12,
   "metadata": {},
   "outputs": [
    {
     "name": "stdout",
     "output_type": "stream",
     "text": [
      "1 \n",
      "1 2 \n",
      "1 2 3 \n",
      "1 2 3 4 \n",
      "1 2 3 4 5 \n",
      "1 2 3 4 5 6 \n",
      "1 2 3 4 5 6 7 \n",
      "1 2 3 4 5 6 7 8 \n",
      "1 2 3 4 5 6 7 8 9 \n"
     ]
    }
   ],
   "source": [
    "for i in range(1,10):\n",
    "    j = 1\n",
    "    while j<=i:\n",
    "        print(j, end = \" \")\n",
    "        j = j + 1\n",
    "    print(\"\")"
   ]
  },
  {
   "cell_type": "markdown",
   "metadata": {},
   "source": [
    "## Exercises\n",
    "\n",
    "1. Given the integer 134479170, print if it is divisible for the numbers from 2 to 16. Hint: use for and if.\n",
    "\n",
    "<div class=\"tggle\" onclick=\"toggleVisibility('ex0');\">Show/Hide Solution</div>\n",
    "<div id=\"ex0\" style=\"display:none;\">"
   ]
  },
  {
   "cell_type": "code",
   "execution_count": 13,
   "metadata": {},
   "outputs": [
    {
     "name": "stdout",
     "output_type": "stream",
     "text": [
      "134479170  can be divided by  2\n",
      "\t 2 * 67239585 = 134479170\n",
      "134479170  can be divided by  3\n",
      "\t 3 * 44826390 = 134479170\n",
      "134479170  can be divided by  5\n",
      "\t 5 * 26895834 = 134479170\n",
      "134479170  can be divided by  6\n",
      "\t 6 * 22413195 = 134479170\n",
      "134479170  can be divided by  7\n",
      "\t 7 * 19211310 = 134479170\n",
      "134479170  can be divided by  9\n",
      "\t 9 * 14942130 = 134479170\n",
      "134479170  can be divided by  10\n",
      "\t 10 * 13447917 = 134479170\n",
      "134479170  can be divided by  14\n",
      "\t 14 * 9605655 = 134479170\n",
      "134479170  can be divided by  15\n",
      "\t 15 * 8965278 = 134479170\n"
     ]
    }
   ],
   "source": [
    "val = 134479170\n",
    "\n",
    "flag = False #boolean variable to monitor \n",
    "             #if we found at least 1 divisor\n",
    "\n",
    "for divisor in range(2,17): #2 included, 17 excluded\n",
    "    if val % divisor == 0:\n",
    "        #Print the divisor\n",
    "        print(val, \" can be divided by \", divisor)\n",
    "        #Give proof that it is a divisor\n",
    "        print(\"\\t\", divisor, \"*\", val//divisor, \"=\", val )\n",
    "        flag = True\n",
    "\n",
    "if flag == False: #this is false if no divisors have been found\n",
    "    print(\"Sorry, could not find divisors\")\n",
    "    "
   ]
  },
  {
   "cell_type": "markdown",
   "metadata": {},
   "source": [
    "</div>\n",
    "\n",
    "2. Given the DNA string\n",
    "\n",
    "```\n",
    "DNA=\"GATTACATATATCAGTACAGATATATACGCGCGGGCTTACTATTAAAAACCCC\"\n",
    "```\n",
    "\n",
    "write a Python script that reverse-complements it. To reverse-complement a string of DNA, one needs to replace any A with T, T with A, C with G and G with C, while any other character is complemented in N. Finally, the sequence has to be reversed (e.g. the first base becomes the last). For example, ATCG becomes CGAT.\n",
    "\n",
    "<div class=\"tggle\" onclick=\"toggleVisibility('ex3');\">Show/Hide Solution</div>\n",
    "<div id=\"ex3\" style=\"display:none;\">"
   ]
  },
  {
   "cell_type": "code",
   "execution_count": 14,
   "metadata": {},
   "outputs": [
    {
     "name": "stdout",
     "output_type": "stream",
     "text": [
      "5'- GATTACATATATCAGTACAGATATATACGCGCGGGCTTACTATTAAAAACCCC -3'\n",
      "3'- GGGGTTTTTAATAGTAAGCCCGCGCGTATATATCTGTACTGATATATGTAATC -5'\n"
     ]
    }
   ],
   "source": [
    "DNA = \"GATTACATATATCAGTACAGATATATACGCGCGGGCTTACTATTAAAAACCCC\"\n",
    "\n",
    "revComp = \"\"\n",
    "for base in DNA:\n",
    "    if base == \"T\":\n",
    "        revComp = \"A\"+ revComp\n",
    "    elif base == \"A\":\n",
    "        revComp = \"T\"+ revComp\n",
    "    elif base == \"C\":\n",
    "        revComp = \"G\"+ revComp\n",
    "    elif base == \"G\":\n",
    "        revComp = \"C\" + revComp\n",
    "    else:\n",
    "        revComp = \"N\" + revComp\n",
    "        \n",
    "print(\"5'-\", DNA, \"-3'\")\n",
    "print(\"3'-\", revComp, \"-5'\")"
   ]
  },
  {
   "cell_type": "code",
   "execution_count": 15,
   "metadata": {},
   "outputs": [
    {
     "name": "stdout",
     "output_type": "stream",
     "text": [
      "['G', 'A', 'T', 'T', 'A', 'C', 'A', 'T', 'A', 'T', 'A', 'T', 'C', 'A', 'G', 'T', 'A', 'C', 'A', 'G', 'A', 'T', 'A', 'T', 'A', 'T', 'A', 'C', 'G', 'C', 'G', 'C', 'G', 'G', 'G', 'C', 'T', 'T', 'A', 'C', 'T', 'A', 'T', 'T', 'A', 'A', 'A', 'A', 'A', 'C', 'C', 'C', 'C']\n",
      "['C', 'T', 'A', 'A', 'T', 'G', 'T', 'A', 'T', 'A', 'T', 'A', 'G', 'T', 'C', 'A', 'T', 'G', 'T', 'C', 'T', 'A', 'T', 'A', 'T', 'A', 'T', 'G', 'C', 'G', 'C', 'G', 'C', 'C', 'C', 'G', 'A', 'A', 'T', 'G', 'A', 'T', 'A', 'A', 'T', 'T', 'T', 'T', 'T', 'G', 'G', 'G', 'G']\n",
      "['G', 'G', 'G', 'G', 'T', 'T', 'T', 'T', 'T', 'A', 'A', 'T', 'A', 'G', 'T', 'A', 'A', 'G', 'C', 'C', 'C', 'G', 'C', 'G', 'C', 'G', 'T', 'A', 'T', 'A', 'T', 'A', 'T', 'C', 'T', 'G', 'T', 'A', 'C', 'T', 'G', 'A', 'T', 'A', 'T', 'A', 'T', 'G', 'T', 'A', 'A', 'T', 'C']\n",
      "\n",
      "5'- GATTACATATATCAGTACAGATATATACGCGCGGGCTTACTATTAAAAACCCC -3'\n",
      "3'- GGGGTTTTTAATAGTAAGCCCGCGCGTATATATCTGTACTGATATATGTAATC -5'\n"
     ]
    }
   ],
   "source": [
    "\"\"\" Another solution\"\"\"\n",
    "\n",
    "DNA = \"GATTACATATATCAGTACAGATATATACGCGCGGGCTTACTATTAAAAACCCC\"\n",
    "\n",
    "\n",
    "dna_list = list(DNA)\n",
    "print(dna_list)\n",
    "compl = []\n",
    "for el in dna_list:\n",
    "    if el == 'A':\n",
    "        compl.append('T')\n",
    "    elif el == 'T':\n",
    "        compl.append('A')\n",
    "    elif el == 'C':\n",
    "        compl.append('G')\n",
    "    elif el == 'G':\n",
    "        compl.append('C')\n",
    "    else:\n",
    "        compl.append('N')\n",
    "print(compl)\n",
    "compl.reverse()\n",
    "print(compl)\n",
    "revComp = \"\".join(compl)\n",
    "print(\"\\n5'-\", DNA, \"-3'\")\n",
    "print(\"3'-\", revComp, \"-5'\")"
   ]
  },
  {
   "cell_type": "markdown",
   "metadata": {},
   "source": [
    "</div>"
   ]
  },
  {
   "cell_type": "markdown",
   "metadata": {},
   "source": [
    "3. Count how many of the first 100 integers are divisible by 2, 3, 5, 7 but not by 10 and print these counts. Be aware that a number can be divisible by more than one of these numbers (e.g. 6) and therefore it must be counted as divisible by all of them (e.g. 6 must be counted as divisible by 2 and 3). \n",
    "\n",
    "<div class=\"tggle\" onclick=\"toggleVisibility('ex2');\">Show/Hide Solution</div>\n",
    "<div id=\"ex2\" style=\"display:none;\">"
   ]
  },
  {
   "cell_type": "code",
   "execution_count": 1,
   "metadata": {},
   "outputs": [
    {
     "name": "stdout",
     "output_type": "stream",
     "text": [
      "40  numbers are divisible by  2 (but not 10) in the first 100\n",
      "30  numbers are divisible by  3 (but not 10) in the first 100\n",
      "10  numbers are divisible by  5 (but not 10) in the first 100\n",
      "13  numbers are divisible by  7 (but not 10) in the first 100\n",
      "\n",
      "-----------------------------------------\n",
      "\n",
      "40  numbers are divisible by  2 (but not 10) in the first 100\n",
      "30  numbers are divisible by  3 (but not 10) in the first 100\n",
      "10  numbers are divisible by  5 (but not 10) in the first 100\n",
      "13  numbers are divisible by  7 (but not 10) in the first 100\n"
     ]
    }
   ],
   "source": [
    "cnts = [0,0,0,0] #cnts[0] counts for 2, cnts[1] counts for 3...\n",
    "vals = [2,3,5,7]\n",
    "for i in range(1,101):\n",
    "    if  i % 2 == 0 and i % 10 != 0:\n",
    "        cnts[0] = cnts[0] + 1\n",
    "        \n",
    "    if i % 3 == 0 and i % 10 != 0:\n",
    "        cnts[1] = cnts[1] + 1\n",
    "        \n",
    "    if i % 5 == 0 and i % 10 != 0:\n",
    "        cnts[2] = cnts[2] + 1\n",
    "        \n",
    "    if i % 7 == 0 and i % 10 != 0:\n",
    "        cnts[3] = cnts[3] + 1\n",
    "        \n",
    "for i in range(len(cnts)):\n",
    "    print(cnts[i], \" numbers are divisible by \", vals[i], \"(but not 10) in the first 100\")\n",
    "    \n",
    "\n",
    "    \n",
    "\"\"\"Another version, more compact.\n",
    "   Makes use of two for loops one into the other\n",
    "\"\"\"\n",
    "print(\"\\n-----------------------------------------\\n\")\n",
    "cnts = [0,0,0,0] #cnts[0] counts for 2, cnts[1] counts for 3...\n",
    "vals = [2,3,5,7]\n",
    "for i in range(1,101):\n",
    "    for j in range(len(vals)):\n",
    "        if i % vals[j] == 0 and i % 10 != 0:\n",
    "            cnts[j] += 1\n",
    "for i in range(0, len(cnts)):\n",
    "    print(cnts[i], \" numbers are divisible by \", vals[i], \"(but not 10) in the first 100\")\n",
    "    "
   ]
  },
  {
   "cell_type": "markdown",
   "metadata": {},
   "source": [
    "</div>\n",
    "4. Write a python script that creates the following pattern:"
   ]
  },
  {
   "cell_type": "markdown",
   "metadata": {},
   "source": [
    "```\n",
    "+      \n",
    "++     \n",
    "+++    \n",
    "++++   \n",
    "+++++  \n",
    "++++++  \n",
    "+++++++ <-- 7\n",
    "++++++ \n",
    "+++++  \n",
    "++++   \n",
    "+++    \n",
    "++     \n",
    "+\n",
    "```"
   ]
  },
  {
   "cell_type": "markdown",
   "metadata": {},
   "source": [
    "<div class=\"tggle\" onclick=\"toggleVisibility('ex1');\">Show/Hide Solution</div>\n",
    "<div id=\"ex1\" style=\"display:none;\">"
   ]
  },
  {
   "cell_type": "code",
   "execution_count": 17,
   "metadata": {},
   "outputs": [
    {
     "name": "stdout",
     "output_type": "stream",
     "text": [
      "+\n",
      "++\n",
      "+++\n",
      "++++\n",
      "+++++\n",
      "++++++\n",
      "+++++++ <-- 7\n",
      "++++++\n",
      "+++++\n",
      "++++\n",
      "+++\n",
      "++\n",
      "+\n"
     ]
    }
   ],
   "source": [
    "outStr = \"\"\n",
    "for i in range(0,7):\n",
    "    outStr = \"\"\n",
    "    for j in range(0,i+1):\n",
    "        outStr = outStr + \"+\"\n",
    "    if i == 6:\n",
    "        outStr = outStr + \" <-- 7\"\n",
    "        \n",
    "    print(outStr) # print the ascending part \n",
    "\n",
    "for i in range(1,7):\n",
    "    outStr = \"\"\n",
    "    for j in range(0, 7-i):\n",
    "        outStr = outStr + \"+\"\n",
    "    print(outStr) #print the descending part\n",
    "        "
   ]
  },
  {
   "cell_type": "markdown",
   "metadata": {},
   "source": [
    "</div>\n",
    "\n",
    "5. Given the following sequence:"
   ]
  },
  {
   "cell_type": "markdown",
   "metadata": {},
   "source": [
    "```\n",
    "seq=AUGCUGUCUCCCUCACUGUAUGUAAAUUGCAUCUAGAAUAGCA\n",
    "UCUGGAGCACUAAUUGACACAUAGUGGGUAUCAAUUAUUA\n",
    "UUCCAGGUACUAGAGAUACCUGGACCAUUAACGGAUAAAU\n",
    "AGAAGAUUCAUUUGUUGAGUGACUGAGGAUGGCAGUUCCU\n",
    "GCUACCUUCAAGGAUCUGGAUGAUGGGGAGAAACAGAGAA\n",
    "CAUAGUGUGAGAAUACUGUGGUAAGGAAAGUACAGAGGAC\n",
    "UGGUAGAGUGUCUAACCUAGAUUUGGAGAAGGACCUAGAA\n",
    "GUCUAUCCCAGGGAAAUAAAAAUCUAAGCUAAGGUUUGAG\n",
    "GAAUCAGUAGGAAUUGGCAAAGGAAGGACAUGUUCCAGAU\n",
    "GAUAGGAACAGGUUAUGCAAAGAUCCUGAAAUGGUCAGAG\n",
    "CUUGGUGCUUUUUGAGAACCAAAAGUAGAUUGUUAUGGAC\n",
    "CAGUGCUACUCCCUGCCUCUUGCCAAGGGACCCCGCCAAG\n",
    "CACUGCAUCCCUUCCCUCUGACUCCACCUUUCCACUUGCC\n",
    "CAGUAUUGUUGGUGU\n",
    "```"
   ]
  },
  {
   "cell_type": "markdown",
   "metadata": {},
   "source": [
    "and considering the genetic code and the first forward open reading frame (i.e. the string as it is **remembering to remove newlines**).\n",
    "\n",
    "![i3](img/pract2/genetic_code.png)\n",
    "    \n",
    "1. How many start codons are present in the whole sequence (i.e. AUG)?\n",
    "2. How many stop codons (i.e. UAA,UAG, UGA)\n",
    "3. Create another string in which any codon with except the start and stop codons are substituted with \"---\" and print the resulting string.\n",
    "    \n",
    "<div class=\"tggle\" onclick=\"toggleVisibility('ex5');\">Show/Hide Solution</div>\n",
    "<div id=\"ex5\" style=\"display:none;\">"
   ]
  },
  {
   "cell_type": "code",
   "execution_count": 19,
   "metadata": {},
   "outputs": [
    {
     "name": "stdout",
     "output_type": "stream",
     "text": [
      "\n",
      "Number of start codons: 2\n",
      "Number of end codons: 12\n",
      "\n",
      "\n",
      "AUGCUGUCUCCCUCACUGUAUGUAAAUUGCAUCUAGAAUAGCAUCUGGAGCACUAAUUGACACAUAGUGGGUAUCAAUUAUUAUUCCAGGUACUAGAGAUACCUGGACCAUUAACGGAUAAAUAGAAGAUUCAUUUGUUGAGUGACUGAGGAUGGCAGUUCCUGCUACCUUCAAGGAUCUGGAUGAUGGGGAGAAACAGAGAACAUAGUGUGAGAAUACUGUGGUAAGGAAAGUACAGAGGACUGGUAGAGUGUCUAACCUAGAUUUGGAGAAGGACCUAGAAGUCUAUCCCAGGGAAAUAAAAAUCUAAGCUAAGGUUUGAGGAAUCAGUAGGAAUUGGCAAAGGAAGGACAUGUUCCAGAUGAUAGGAACAGGUUAUGCAAAGAUCCUGAAAUGGUCAGAGCUUGGUGCUUUUUGAGAACCAAAAGUAGAUUGUUAUGGACCAGUGCUACUCCCUGCCUCUUGCCAAGGGACCCCGCCAAGCACUGCAUCCCUUCCCUCUGACUCCACCUUUCCACUUGCCCAGUAUUGUUGGUG\n",
      "\n",
      "\n",
      "AUG------------------------------UAG---------------------UGA---------------------------------UAG---------------UAA------------------------UGA------------------------------------------UGA------------------------UGA---------------------------------UAG------UAA------------------------------------------------------UAA---------------UAG------------------------------------------------------------AUG---------------------------------------------------------------------------------------------------------UGA---------------------------------\n"
     ]
    }
   ],
   "source": [
    "seq =\"\"\"AUGCUGUCUCCCUCACUGUAUGUAAAUUGCAUCUAGAAUAGCA\n",
    "UCUGGAGCACUAAUUGACACAUAGUGGGUAUCAAUUAUUA\n",
    "UUCCAGGUACUAGAGAUACCUGGACCAUUAACGGAUAAAU\n",
    "AGAAGAUUCAUUUGUUGAGUGACUGAGGAUGGCAGUUCCU\n",
    "GCUACCUUCAAGGAUCUGGAUGAUGGGGAGAAACAGAGAA\n",
    "CAUAGUGUGAGAAUACUGUGGUAAGGAAAGUACAGAGGAC\n",
    "UGGUAGAGUGUCUAACCUAGAUUUGGAGAAGGACCUAGAA\n",
    "GUCUAUCCCAGGGAAAUAAAAAUCUAAGCUAAGGUUUGAG\n",
    "GAAUCAGUAGGAAUUGGCAAAGGAAGGACAUGUUCCAGAU\n",
    "GAUAGGAACAGGUUAUGCAAAGAUCCUGAAAUGGUCAGAG\n",
    "CUUGGUGCUUUUUGAGAACCAAAAGUAGAUUGUUAUGGAC\n",
    "CAGUGCUACUCCCUGCCUCUUGCCAAGGGACCCCGCCAAG\n",
    "CACUGCAUCCCUUCCCUCUGACUCCACCUUUCCACUUGCC\n",
    "CAGUAUUGUUGGUG\"\"\"\n",
    "\n",
    "seq = seq.replace(\"\\n\",\"\")\n",
    "\n",
    "\n",
    "countStart = 0\n",
    "countEnd = 0\n",
    "\n",
    "newSeq = \"\"\n",
    "i = 0\n",
    "while i < len(seq):\n",
    "    codon = seq[i:i+3]\n",
    "    if codon == \"AUG\":\n",
    "            countStart = countStart + 1\n",
    "        \n",
    "    elif codon == \"UAA\" or codon == \"UAG\" or codon == \"UGA\":\n",
    "        countEnd = countEnd + 1\n",
    "    else:\n",
    "        codon = \"---\"\n",
    "        \n",
    "    newSeq = newSeq + codon\n",
    "    i = i + 3\n",
    "\n",
    "\n",
    "print(\"\\nNumber of start codons:\", countStart)\n",
    "print(\"Number of end codons:\", countEnd)\n",
    "print(\"\\n\") \n",
    "print(seq)\n",
    "print(\"\\n\")\n",
    "print(newSeq)"
   ]
  },
  {
   "cell_type": "markdown",
   "metadata": {},
   "source": [
    "</div>\n",
    "\n",
    "6. Playing time! Write a python scripts that:\n",
    "    1. Picks a random number from 1 to 10, with:\n",
    "        import random\n",
    "        myInt = random.randint(1,10)\n",
    "    2. Asks the user to guess a number and checks if the user has guessed the right one\n",
    "    3. If the guess is right the program will stop with a congratulation message\n",
    "    4. If the guess is wrong the program will continue asking a number, reporting the numbers already guessed (hint: store them in a list and print it).\n",
    "    5. Modify the program to notify the user if he/she inputs the same number more than once.\n",
    "\n",
    "<div class=\"tggle\" onclick=\"toggleVisibility('ex6');\">Show/Hide Solution</div>\n",
    "<div id=\"ex6\" style=\"display:none;\">"
   ]
  },
  {
   "cell_type": "code",
   "execution_count": 2,
   "metadata": {},
   "outputs": [
    {
     "name": "stdout",
     "output_type": "stream",
     "text": [
      "Guess a number from 1 to 10: 7\n",
      "Nope, try again. So far you guessed:  [7]\n",
      "Guess a number from 1 to 10: 3\n",
      "Nope, try again. So far you guessed:  [3, 7]\n",
      "Guess a number from 1 to 10: 1\n",
      "Nope, try again. So far you guessed:  [1, 3, 7]\n",
      "Guess a number from 1 to 10: 2\n",
      "Nope, try again. So far you guessed:  [1, 2, 3, 7]\n",
      "Guess a number from 1 to 10: 5\n",
      "Nope, try again. So far you guessed:  [1, 2, 3, 5, 7]\n",
      "Guess a number from 1 to 10: 4\n",
      "Congratulations. The number I guessed was  4\n"
     ]
    }
   ],
   "source": [
    "import random\n",
    "myInt = random.randint(1,10)\n",
    "guessedNumbers = []\n",
    "\n",
    "found = False\n",
    "while found == False:\n",
    "    userInt = int(input(\"Guess a number from 1 to 10: \"))\n",
    "    if userInt == myInt:\n",
    "        print(\"Congratulations. The number I guessed was \", myInt)\n",
    "        found = True\n",
    "    else:\n",
    "        if userInt in guessedNumbers:\n",
    "            print(\"You already guessed \", userInt)\n",
    "        else:\n",
    "            guessedNumbers.append(userInt)\n",
    "        guessedNumbers.sort()\n",
    "        print(\"Nope, try again. So far you guessed: \", guessedNumbers)\n",
    "        "
   ]
  },
  {
   "cell_type": "markdown",
   "metadata": {},
   "source": [
    "</div>"
   ]
  }
 ],
 "metadata": {
  "celltoolbar": "Edit Metadata",
  "kernelspec": {
   "display_name": "Python 3",
   "language": "python",
   "name": "python3"
  },
  "language_info": {
   "codemirror_mode": {
    "name": "ipython",
    "version": 3
   },
   "file_extension": ".py",
   "mimetype": "text/x-python",
   "name": "python",
   "nbconvert_exporter": "python",
   "pygments_lexer": "ipython3",
   "version": "3.6.9"
  }
 },
 "nbformat": 4,
 "nbformat_minor": 2
}
